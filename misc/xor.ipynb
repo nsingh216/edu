{
  "nbformat": 4,
  "nbformat_minor": 0,
  "metadata": {
    "colab": {
      "name": "xor.ipynb",
      "provenance": [],
      "collapsed_sections": []
    },
    "kernelspec": {
      "name": "python3",
      "display_name": "Python 3"
    }
  },
  "cells": [
    {
      "cell_type": "code",
      "metadata": {
        "id": "0Fvu7q78MX-U"
      },
      "source": [
        "import torch as pt\n",
        "from torch.nn.functional import mse_loss\n",
        "pt.manual_seed(33);"
      ],
      "execution_count": 1,
      "outputs": []
    },
    {
      "cell_type": "code",
      "metadata": {
        "id": "gebzAqVCMd4A"
      },
      "source": [
        "model = pt.nn.Sequential(\n",
        "    pt.nn.Linear(2, 5),\n",
        "    pt.nn.ReLU(),\n",
        "    pt.nn.Linear(5, 1)\n",
        ")\n",
        "\n",
        "X = pt.tensor([[0, 0],\n",
        "               [0, 1],\n",
        "               [1, 0],\n",
        "               [1, 1]], dtype=pt.float32)\n",
        "\n",
        "y = pt.tensor([0, 1, 1, 0], dtype=pt.float32).reshape(X.shape[0], 1)"
      ],
      "execution_count": 2,
      "outputs": []
    },
    {
      "cell_type": "code",
      "metadata": {
        "id": "QhnXi8t3Ml0C"
      },
      "source": [
        "EPOCHS = 100\n",
        "\n",
        "optimizer = pt.optim.Adam(model.parameters(), lr = 0.03)\n",
        "\n",
        "for epoch in range(EPOCHS):\n",
        "  #forward\n",
        "  y_est = model(X)\n",
        "  \n",
        "  #compute mean squared error loss\n",
        "  loss = mse_loss(y_est, y)\n",
        "\n",
        "  #backprop the loss gradients\n",
        "  loss.backward()\n",
        "\n",
        "  #update the model weights using the gradients\n",
        "  optimizer.step()\n",
        "\n",
        "  #empty the gradients for the next iteration\n",
        "  optimizer.zero_grad()"
      ],
      "execution_count": 3,
      "outputs": []
    },
    {
      "cell_type": "code",
      "metadata": {
        "colab": {
          "base_uri": "https://localhost:8080/"
        },
        "id": "fRIsF7kdM04R",
        "outputId": "4179cbf3-7837-40dd-9848-f5be62ae8465"
      },
      "source": [
        "model(X).round().abs()"
      ],
      "execution_count": 4,
      "outputs": [
        {
          "output_type": "execute_result",
          "data": {
            "text/plain": [
              "tensor([[0.],\n",
              "        [1.],\n",
              "        [1.],\n",
              "        [0.]], grad_fn=<AbsBackward>)"
            ]
          },
          "metadata": {
            "tags": []
          },
          "execution_count": 4
        }
      ]
    }
  ]
}