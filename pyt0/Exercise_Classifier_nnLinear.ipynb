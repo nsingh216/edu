{
  "nbformat": 4,
  "nbformat_minor": 0,
  "metadata": {
    "colab": {
      "name": "Exercise_Classifier_nnLinear.ipynb",
      "provenance": [],
      "collapsed_sections": []
    },
    "kernelspec": {
      "display_name": "Python 3",
      "language": "python",
      "name": "python3"
    },
    "language_info": {
      "codemirror_mode": {
        "name": "ipython",
        "version": 3
      },
      "file_extension": ".py",
      "mimetype": "text/x-python",
      "name": "python",
      "nbconvert_exporter": "python",
      "pygments_lexer": "ipython3",
      "version": "3.7.3"
    }
  },
  "cells": [
    {
      "source": [
        "<a href=\"https://colab.research.google.com/github/osipov/edu/blob/master/pyt0/Exercise_Classifier_nnLinear.ipynb\" target=\"_blank\"><img src=\"https://colab.research.google.com/assets/colab-badge.svg\"/></a>"
      ],
      "cell_type": "markdown",
      "metadata": {}
    },
    {
      "cell_type": "markdown",
      "metadata": {
        "colab_type": "text",
        "id": "KApsqFZJ01Qf"
      },
      "source": [
        "## Implement a binary classifier with `torch.nn.Linear`"
      ]
    },
    {
      "cell_type": "code",
      "metadata": {
        "colab_type": "code",
        "id": "dmp7MeGdrhrQ",
        "colab": {}
      },
      "source": [
        "import torch as pt\n",
        "from torch import nn\n",
        "import matplotlib.pyplot as plt\n",
        "%matplotlib inline\n",
        "pt.manual_seed(42);"
      ],
      "execution_count": 0,
      "outputs": []
    },
    {
      "cell_type": "markdown",
      "metadata": {
        "colab_type": "text",
        "id": "mmEHSihL2sza"
      },
      "source": [
        "## Start by practicing boolean operations on boolean tensors. Don't worry, there is a point to this exercise :)"
      ]
    },
    {
      "cell_type": "code",
      "metadata": {
        "colab_type": "code",
        "id": "KBmpRhNF3HOY",
        "colab": {}
      },
      "source": [
        "a = pt.randn(10)\n",
        "a"
      ],
      "execution_count": 0,
      "outputs": []
    },
    {
      "cell_type": "markdown",
      "metadata": {
        "colab_type": "text",
        "id": "5utZcdWV3VGb"
      },
      "source": [
        "## Create a boolean tensor named `b` by converting the `a` tensor such that `b` holds `True` for positive values of `a` and `False` for negative and zero values of `a`\n",
        "* **hint:** `b` must have the same shape as `a`"
      ]
    },
    {
      "cell_type": "code",
      "metadata": {
        "colab_type": "code",
        "id": "Okp6Efba3dMz",
        "colab": {}
      },
      "source": [
        ""
      ],
      "execution_count": 0,
      "outputs": []
    },
    {
      "cell_type": "markdown",
      "metadata": {
        "colab_type": "text",
        "id": "2dGzRPmD4jE0"
      },
      "source": [
        "## Create another boolean tensor named `c` with values that are the opposite of `b`\n",
        "* **hint:** you can use a different logical expression with the values of the `a` tensor or use the `~` operator"
      ]
    },
    {
      "cell_type": "code",
      "metadata": {
        "colab_type": "code",
        "id": "zr0LnN4A5TGP",
        "colab": {}
      },
      "source": [
        ""
      ],
      "execution_count": 0,
      "outputs": []
    },
    {
      "cell_type": "markdown",
      "metadata": {
        "colab_type": "text",
        "id": "_Av-i_EK5vEY"
      },
      "source": [
        "## Create 2 tensors that are the logical `and` as well as `or` of `b` and `c`. For each of the tensors, count the number of the `True` values in the tensor\n",
        "* **hint:** in Python `&` is the logical `and` while `|` is the logical `or`"
      ]
    },
    {
      "cell_type": "code",
      "metadata": {
        "colab_type": "code",
        "id": "UesE1_mB6cqP",
        "colab": {}
      },
      "source": [
        ""
      ],
      "execution_count": 0,
      "outputs": []
    },
    {
      "cell_type": "markdown",
      "metadata": {
        "colab_type": "text",
        "id": "7QLRwWfc8Gnn"
      },
      "source": [
        "## Create a tensor named `d` by concatenating `b` and `c` using the `pt.cat` method that takes a list of tensors"
      ]
    },
    {
      "cell_type": "code",
      "metadata": {
        "colab_type": "code",
        "id": "lcn5gWdJ7hKG",
        "colab": {}
      },
      "source": [
        ""
      ],
      "execution_count": 0,
      "outputs": []
    },
    {
      "cell_type": "markdown",
      "metadata": {
        "colab_type": "text",
        "id": "iqbFZBxG9gpS"
      },
      "source": [
        "## Reshape the `d` tensor to be 3 dimensional with the shape of `[5, 2, 2]` and save the result to tensor `e`"
      ]
    },
    {
      "cell_type": "code",
      "metadata": {
        "colab_type": "code",
        "id": "RflaCvMj6ySe",
        "colab": {}
      },
      "source": [
        ""
      ],
      "execution_count": 0,
      "outputs": []
    },
    {
      "cell_type": "markdown",
      "metadata": {
        "colab_type": "text",
        "id": "EnXD_VV1_huL"
      },
      "source": [
        "# Create a tensor `f` that contains the sum of the number of the `True` values along the last (trailing) dimension of the `e` tensor while keeping the original dimensions\n",
        "* **hint:** check out the `keepdims` parameter"
      ]
    },
    {
      "cell_type": "code",
      "metadata": {
        "colab_type": "code",
        "id": "3_fn5Sdr_a6v",
        "colab": {}
      },
      "source": [
        ""
      ],
      "execution_count": 0,
      "outputs": []
    },
    {
      "cell_type": "markdown",
      "metadata": {
        "colab_type": "text",
        "id": "moUBPp-AATrs"
      },
      "source": [
        "## Use the `squeeze` method on the tensor with the sum of the `True` values and confirm that its shape changed to 2 dimensions instead of 3"
      ]
    },
    {
      "cell_type": "code",
      "metadata": {
        "colab_type": "code",
        "id": "JMOkXLXT_6Vm",
        "colab": {}
      },
      "source": [
        ""
      ],
      "execution_count": 0,
      "outputs": []
    },
    {
      "cell_type": "markdown",
      "metadata": {
        "colab_type": "text",
        "id": "RlgdZVnABcAH"
      },
      "source": [
        "The `squeeze` method is useful when you need to reduce the dimension of a tensor that has one or more dimensions of length `1`. For example, if you have a tensor with a shape [3, 1, 4], the 2nd dimension can be `squeeze`d to `[3,4]`"
      ]
    },
    {
      "cell_type": "markdown",
      "metadata": {
        "colab_type": "text",
        "id": "_MCyLxebB9LR"
      },
      "source": [
        "## Next, get started on generating data for your spam/not-spam classification problem"
      ]
    },
    {
      "cell_type": "code",
      "metadata": {
        "colab_type": "code",
        "id": "z-kGIZzWrmzr",
        "colab": {}
      },
      "source": [
        "NUM = 50\n",
        "\n",
        "#X spam data points\n",
        "Xs = pt.normal(0, 2, [NUM, 2]) - 3\n",
        "plt.scatter(Xs[:, 0], Xs[:, 1], color = 'orange');\n",
        "\n",
        "#X not spam data points\n",
        "Xns = pt.normal(0, 3, [NUM, 2]) + 3\n",
        "plt.scatter(Xns[:, 0], Xns[:, 1], color = 'blue');\n",
        "\n",
        "plt.xlim([-10, 10])\n",
        "plt.ylim([-10, 10]);"
      ],
      "execution_count": 0,
      "outputs": []
    },
    {
      "cell_type": "markdown",
      "metadata": {
        "colab_type": "text",
        "id": "WBWgnbGeC4h6"
      },
      "source": [
        "## Create a tensor array `X` with spam and not spam data values having the shape `[100, 2]`"
      ]
    },
    {
      "cell_type": "code",
      "metadata": {
        "colab_type": "code",
        "id": "QYPhxguvDJis",
        "colab": {}
      },
      "source": [
        "X = pt.cat([Xs, Xns])\n",
        "X.shape"
      ],
      "execution_count": 0,
      "outputs": []
    },
    {
      "cell_type": "markdown",
      "metadata": {
        "colab_type": "text",
        "id": "Ht3jX5ZlCj4G"
      },
      "source": [
        "## Create a `y` tensor with positive/negative values for the spam/not spam data in the `X` tensor. Let's have `1` be spam, and `-1` not spam."
      ]
    },
    {
      "cell_type": "code",
      "metadata": {
        "colab_type": "code",
        "id": "ZJvNGiFtCuCv",
        "colab": {}
      },
      "source": [
        ""
      ],
      "execution_count": 0,
      "outputs": []
    },
    {
      "cell_type": "markdown",
      "metadata": {
        "colab_type": "text",
        "id": "3ro8DSuBDi04"
      },
      "source": [
        "## Create a model using `nn.Linear`. Disable the `bias` term in the model."
      ]
    },
    {
      "cell_type": "code",
      "metadata": {
        "colab_type": "code",
        "id": "rYp7vRYghrqU",
        "colab": {}
      },
      "source": [
        ""
      ],
      "execution_count": 0,
      "outputs": []
    },
    {
      "cell_type": "markdown",
      "metadata": {
        "colab_type": "text",
        "id": "l9Tk11LMDtHv"
      },
      "source": [
        "## Implement the `forward` method for the model. Don't forget to check the shape of your predictions!"
      ]
    },
    {
      "cell_type": "code",
      "metadata": {
        "colab_type": "code",
        "id": "2JkmCBwTbav5",
        "colab": {}
      },
      "source": [
        ""
      ],
      "execution_count": 0,
      "outputs": []
    },
    {
      "cell_type": "markdown",
      "metadata": {
        "colab_type": "text",
        "id": "Y1hPEBuCD5if"
      },
      "source": [
        "## Implement the `loss` method to return the mean squared error of your predictions"
      ]
    },
    {
      "cell_type": "code",
      "metadata": {
        "colab_type": "code",
        "id": "4MjJOaXrjv0X",
        "colab": {}
      },
      "source": [
        ""
      ],
      "execution_count": 0,
      "outputs": []
    },
    {
      "cell_type": "markdown",
      "metadata": {
        "colab_type": "text",
        "id": "M2pgNUzxEDpA"
      },
      "source": [
        "## Implement a `metric` method that takes the model predictions and the actual values and returns the accuracy (i.e. percentage correct) for the predictions."
      ]
    },
    {
      "cell_type": "code",
      "metadata": {
        "colab_type": "code",
        "id": "xo7B5TGHdLnf",
        "colab": {}
      },
      "source": [
        ""
      ],
      "execution_count": 0,
      "outputs": []
    },
    {
      "cell_type": "markdown",
      "metadata": {
        "colab_type": "text",
        "id": "9gC-y0kyESBh"
      },
      "source": [
        "## Implement a `for` loop that does 10 iterations of gradient descent, printing out the MSE and the accurary for each iteration\n",
        "* **hint:** don't forget to use `zero_grad` function with your model\n",
        "* **hint:** update the weights using the `weight.data` attribute of your model"
      ]
    },
    {
      "cell_type": "code",
      "metadata": {
        "colab_type": "code",
        "id": "r9AwQRHLgPzk",
        "colab": {}
      },
      "source": [
        ""
      ],
      "execution_count": 0,
      "outputs": []
    },
    {
      "cell_type": "markdown",
      "metadata": {
        "colab_type": "text",
        "id": "pBGeWA4NF3lE"
      },
      "source": [
        "## Re-render the original scatter plot with spam/not spam data points and add the decision boundary line on the plot.\n",
        "\n",
        "* **hint:** to pass tensors to `plt.plot` you need to convert them to `numpy` arrays using `.detach().numpy()`"
      ]
    },
    {
      "cell_type": "code",
      "metadata": {
        "colab_type": "code",
        "id": "kfJ04tp7kZRR",
        "colab": {}
      },
      "source": [
        ""
      ],
      "execution_count": 0,
      "outputs": []
    },
    {
      "cell_type": "code",
      "metadata": {
        "id": "aTmmKDcMXdyX",
        "colab_type": "code",
        "colab": {}
      },
      "source": [
        ""
      ],
      "execution_count": 0,
      "outputs": []
    },
    {
      "cell_type": "markdown",
      "metadata": {
        "colab_type": "text",
        "id": "xe7a6dsWFMOI"
      },
      "source": [
        "## Compare the weights discovered by gradient descent to the weights according to the analytical solution for the problem\n",
        "* you need the formula $ (X^T X)^{-1}X^Ty $\n",
        "* **hint:** use `@` for tensor multiplication"
      ]
    },
    {
      "cell_type": "code",
      "metadata": {
        "colab_type": "code",
        "id": "m_fQVSOfhZzx",
        "colab": {}
      },
      "source": [
        ""
      ],
      "execution_count": 0,
      "outputs": []
    },
    {
      "cell_type": "markdown",
      "metadata": {
        "id": "bvDvUKNaWFu7",
        "colab_type": "text"
      },
      "source": [
        "Copyright 2020 CounterFactual.AI LLC. Licensed under the Apache License, Version 2.0 (the \"License\"); you may not use this file except in compliance with the License. You may obtain a copy of the License at http://www.apache.org/licenses/LICENSE-2.0 Unless required by applicable law or agreed to in writing, software distributed under the License is distributed on an \"AS IS\" BASIS, WITHOUT WARRANTIES OR CONDITIONS OF ANY KIND, either express or implied. See the License for the specific language governing permissions and limitations under the License."
      ]
    }
  ]
}
