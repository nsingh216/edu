{
  "nbformat": 4,
  "nbformat_minor": 0,
  "metadata": {
    "accelerator": "GPU",
    "colab": {
      "name": "Exercise_Tensorflow_Tensors.ipynb",
      "provenance": [],
      "collapsed_sections": []
    },
    "kernelspec": {
      "display_name": "Python 3",
      "language": "python",
      "name": "python3"
    },
    "language_info": {
      "codemirror_mode": {
        "name": "ipython",
        "version": 3
      },
      "file_extension": ".py",
      "mimetype": "text/x-python",
      "name": "python",
      "nbconvert_exporter": "python",
      "pygments_lexer": "ipython3",
      "version": "3.7.6"
    },
    "toc": {
      "base_numbering": 1,
      "nav_menu": {},
      "number_sections": true,
      "sideBar": true,
      "skip_h1_title": false,
      "title_cell": "Table of Contents",
      "title_sidebar": "Contents",
      "toc_cell": false,
      "toc_position": {},
      "toc_section_display": true,
      "toc_window_display": false
    },
    "varInspector": {
      "cols": {
        "lenName": 16,
        "lenType": 16,
        "lenVar": 40
      },
      "kernels_config": {
        "python": {
          "delete_cmd_postfix": "",
          "delete_cmd_prefix": "del ",
          "library": "var_list.py",
          "varRefreshCmd": "print(var_dic_list())"
        },
        "r": {
          "delete_cmd_postfix": ") ",
          "delete_cmd_prefix": "rm(",
          "library": "var_list.r",
          "varRefreshCmd": "cat(var_dic_list()) "
        }
      },
      "types_to_exclude": [
        "module",
        "function",
        "builtin_function_or_method",
        "instance",
        "_Feature"
      ],
      "window_display": false
    }
  },
  "cells": [
    {
      "cell_type": "markdown",
      "metadata": {
        "id": "A-3dp15kRy4N"
      },
      "source": [
        "<a href=\"https://colab.research.google.com/github/nsingh216/edu/blob/master/tf0/Exercise_Tensorflow_Tensors.ipynb\" target=\"_blank\"><img src=\"https://colab.research.google.com/assets/colab-badge.svg\"/></a>"
      ]
    },
    {
      "cell_type": "markdown",
      "metadata": {
        "id": "CmuseiqGzCWr"
      },
      "source": [
        "## Import the __`tensorflow`__ package"
      ]
    },
    {
      "cell_type": "code",
      "metadata": {
        "ExecuteTime": {
          "end_time": "2021-02-22T14:19:47.602840Z",
          "start_time": "2021-02-22T14:19:45.862083Z"
        },
        "id": "eU6P6sF8zCWs"
      },
      "source": [
        "import tensorflow as tf\n",
        "tf.random.set_seed(0);"
      ],
      "execution_count": 1,
      "outputs": []
    },
    {
      "cell_type": "markdown",
      "metadata": {
        "id": "f6Snb3-nzCWw"
      },
      "source": [
        "## Create a vector of ten zeros"
      ]
    },
    {
      "cell_type": "code",
      "metadata": {
        "ExecuteTime": {
          "end_time": "2021-02-22T14:19:48.319096Z",
          "start_time": "2021-02-22T14:19:47.604523Z"
        },
        "id": "cqTEF0MbzCWx"
      },
      "source": [
        "vec1 = tf.zeros(10)"
      ],
      "execution_count": 2,
      "outputs": []
    },
    {
      "cell_type": "code",
      "metadata": {
        "id": "OI8NtlxfiILU",
        "outputId": "47ab2f3b-1a5e-43dd-e677-ecb39ff93a12",
        "colab": {
          "base_uri": "https://localhost:8080/"
        }
      },
      "source": [
        "vec1.numpy()"
      ],
      "execution_count": 3,
      "outputs": [
        {
          "output_type": "execute_result",
          "data": {
            "text/plain": [
              "array([0., 0., 0., 0., 0., 0., 0., 0., 0., 0.], dtype=float32)"
            ]
          },
          "metadata": {
            "tags": []
          },
          "execution_count": 3
        }
      ]
    },
    {
      "cell_type": "markdown",
      "metadata": {
        "id": "I---dV8dzCW4"
      },
      "source": [
        "## Create a vector of size ten with nine zeros and a 1 in the fifth position"
      ]
    },
    {
      "cell_type": "code",
      "metadata": {
        "ExecuteTime": {
          "end_time": "2021-02-22T14:19:48.327731Z",
          "start_time": "2021-02-22T14:19:48.320862Z"
        },
        "id": "ADRsT7jazCW4",
        "colab": {
          "base_uri": "https://localhost:8080/"
        },
        "outputId": "3041a806-a305-47ff-b38f-5d213cded70f"
      },
      "source": [
        "vec2 = tf.eye(10)[4]\n",
        "vec2.numpy()"
      ],
      "execution_count": 4,
      "outputs": [
        {
          "output_type": "execute_result",
          "data": {
            "text/plain": [
              "array([0., 0., 0., 0., 1., 0., 0., 0., 0., 0.], dtype=float32)"
            ]
          },
          "metadata": {
            "tags": []
          },
          "execution_count": 4
        }
      ]
    },
    {
      "cell_type": "markdown",
      "metadata": {
        "id": "axtpynf4zCW7"
      },
      "source": [
        "## Create a vector with values ranging from 10 to 49"
      ]
    },
    {
      "cell_type": "code",
      "metadata": {
        "ExecuteTime": {
          "end_time": "2021-02-22T14:19:48.333260Z",
          "start_time": "2021-02-22T14:19:48.329236Z"
        },
        "id": "oRlwKd1uzCW8"
      },
      "source": [
        "# shape and data type not specified ?\n",
        "vec3 = tf.random.uniform(shape=[10], minval=10, maxval=49)"
      ],
      "execution_count": 5,
      "outputs": []
    },
    {
      "cell_type": "code",
      "metadata": {
        "id": "AGL0YlDni6Bg",
        "outputId": "cdd0ca5c-ee73-45ae-9d79-528628009213",
        "colab": {
          "base_uri": "https://localhost:8080/"
        }
      },
      "source": [
        "vec3"
      ],
      "execution_count": 6,
      "outputs": [
        {
          "output_type": "execute_result",
          "data": {
            "text/plain": [
              "<tf.Tensor: shape=(10,), dtype=float32, numpy=\n",
              "array([21.387032, 18.056091, 30.88024 , 31.889042, 26.250305, 41.50529 ,\n",
              "       29.235779, 48.92704 , 37.17267 , 14.88957 ], dtype=float32)>"
            ]
          },
          "metadata": {
            "tags": []
          },
          "execution_count": 6
        }
      ]
    },
    {
      "cell_type": "markdown",
      "metadata": {
        "id": "iLov9rqUzCXB"
      },
      "source": [
        "## Reverse the previous vector"
      ]
    },
    {
      "cell_type": "code",
      "metadata": {
        "ExecuteTime": {
          "end_time": "2021-02-22T14:19:48.339125Z",
          "start_time": "2021-02-22T14:19:48.334619Z"
        },
        "id": "7tCYJBCMzCXC",
        "colab": {
          "base_uri": "https://localhost:8080/"
        },
        "outputId": "5bd73ec7-4eb8-46a0-907a-55032f2b8d60"
      },
      "source": [
        "# must specific which axis to reverse\n",
        "vec3_rev = tf.reverse(vec3, [0])\n",
        "vec3_rev.numpy()"
      ],
      "execution_count": 7,
      "outputs": [
        {
          "output_type": "execute_result",
          "data": {
            "text/plain": [
              "array([14.88957 , 37.17267 , 48.92704 , 29.235779, 41.50529 , 26.250305,\n",
              "       31.889042, 30.88024 , 18.056091, 21.387032], dtype=float32)"
            ]
          },
          "metadata": {
            "tags": []
          },
          "execution_count": 7
        }
      ]
    },
    {
      "cell_type": "markdown",
      "metadata": {
        "id": "pGbZs19bzCXF"
      },
      "source": [
        "## Create a 3x3 matrix with values ranging from 0 to 8"
      ]
    },
    {
      "cell_type": "code",
      "metadata": {
        "ExecuteTime": {
          "end_time": "2021-02-22T14:19:48.344899Z",
          "start_time": "2021-02-22T14:19:48.340460Z"
        },
        "id": "dAj7IEFUzCXF",
        "colab": {
          "base_uri": "https://localhost:8080/"
        },
        "outputId": "8bbc200d-f846-4b64-a1c5-9389fbd5cffd"
      },
      "source": [
        "vec4 = tf.random.uniform(shape=[3, 3], minval=0, maxval=9, dtype=tf.int32)\n",
        "vec4"
      ],
      "execution_count": 8,
      "outputs": [
        {
          "output_type": "execute_result",
          "data": {
            "text/plain": [
              "<tf.Tensor: shape=(3, 3), dtype=int32, numpy=\n",
              "array([[7, 3, 3],\n",
              "       [1, 1, 8],\n",
              "       [2, 5, 4]], dtype=int32)>"
            ]
          },
          "metadata": {
            "tags": []
          },
          "execution_count": 8
        }
      ]
    },
    {
      "cell_type": "markdown",
      "metadata": {
        "id": "plNf0tAFzCXI"
      },
      "source": [
        "## Find the indices of the non-zero elements of the following array:"
      ]
    },
    {
      "cell_type": "code",
      "metadata": {
        "ExecuteTime": {
          "end_time": "2021-02-22T14:19:48.350316Z",
          "start_time": "2021-02-22T14:19:48.346209Z"
        },
        "id": "g0bp5VuNzCXJ",
        "colab": {
          "base_uri": "https://localhost:8080/"
        },
        "outputId": "4d6c3d3b-8ed6-480b-b0e7-236c29afd054"
      },
      "source": [
        "v = tf.constant([1, 2, 0, 0, 4, 0]) # Given\n",
        "v"
      ],
      "execution_count": 9,
      "outputs": [
        {
          "output_type": "execute_result",
          "data": {
            "text/plain": [
              "<tf.Tensor: shape=(6,), dtype=int32, numpy=array([1, 2, 0, 0, 4, 0], dtype=int32)>"
            ]
          },
          "metadata": {
            "tags": []
          },
          "execution_count": 9
        }
      ]
    },
    {
      "cell_type": "code",
      "metadata": {
        "ExecuteTime": {
          "end_time": "2021-02-22T14:19:48.356218Z",
          "start_time": "2021-02-22T14:19:48.352414Z"
        },
        "id": "CMG3ABDuzCXL",
        "colab": {
          "base_uri": "https://localhost:8080/"
        },
        "outputId": "4b61db44-e546-49fd-bed3-4700df4ec704"
      },
      "source": [
        "# better to reshape to the desired shape instead of squeeze, especially for development\n",
        "v_ind = tf.squeeze(tf.where(v != 0))\n",
        "v_ind"
      ],
      "execution_count": 10,
      "outputs": [
        {
          "output_type": "execute_result",
          "data": {
            "text/plain": [
              "<tf.Tensor: shape=(3,), dtype=int64, numpy=array([0, 1, 4])>"
            ]
          },
          "metadata": {
            "tags": []
          },
          "execution_count": 10
        }
      ]
    },
    {
      "cell_type": "markdown",
      "metadata": {
        "id": "r0NwWieZzCXO"
      },
      "source": [
        "## Create a 5x5 identity matrix"
      ]
    },
    {
      "cell_type": "code",
      "metadata": {
        "ExecuteTime": {
          "end_time": "2021-02-22T14:19:48.374556Z",
          "start_time": "2021-02-22T14:19:48.370231Z"
        },
        "id": "wIS7MHEEzCXO",
        "colab": {
          "base_uri": "https://localhost:8080/"
        },
        "outputId": "8bd88109-295e-4e28-e04a-2e2a9af7f853"
      },
      "source": [
        "vec5 = tf.eye(5)\n",
        "vec5"
      ],
      "execution_count": 11,
      "outputs": [
        {
          "output_type": "execute_result",
          "data": {
            "text/plain": [
              "<tf.Tensor: shape=(5, 5), dtype=float32, numpy=\n",
              "array([[1., 0., 0., 0., 0.],\n",
              "       [0., 1., 0., 0., 0.],\n",
              "       [0., 0., 1., 0., 0.],\n",
              "       [0., 0., 0., 1., 0.],\n",
              "       [0., 0., 0., 0., 1.]], dtype=float32)>"
            ]
          },
          "metadata": {
            "tags": []
          },
          "execution_count": 11
        }
      ]
    },
    {
      "cell_type": "markdown",
      "metadata": {
        "id": "6djlGYnOzCXR"
      },
      "source": [
        "## Create a 3x3x3 array with random values"
      ]
    },
    {
      "cell_type": "code",
      "metadata": {
        "ExecuteTime": {
          "end_time": "2021-02-22T14:19:48.380258Z",
          "start_time": "2021-02-22T14:19:48.376047Z"
        },
        "id": "7WkWYz7wzCXR",
        "colab": {
          "base_uri": "https://localhost:8080/"
        },
        "outputId": "77bfec4d-d044-4f12-cdca-74f3acd37db3"
      },
      "source": [
        "# maxval is required for dtype int, defaults to 1 for float\n",
        "vec6 = tf.random.uniform(shape=[3, 3, 3], \n",
        "                         maxval = 100, \n",
        "                         dtype=tf.int32)\n",
        "vec6"
      ],
      "execution_count": 12,
      "outputs": [
        {
          "output_type": "execute_result",
          "data": {
            "text/plain": [
              "<tf.Tensor: shape=(3, 3, 3), dtype=int32, numpy=\n",
              "array([[[84, 47, 34],\n",
              "        [79,  6, 35],\n",
              "        [44, 18, 19]],\n",
              "\n",
              "       [[66,  4, 15],\n",
              "        [87, 90, 15],\n",
              "        [21, 32, 36]],\n",
              "\n",
              "       [[46, 90, 25],\n",
              "        [47, 62, 25],\n",
              "        [66, 85, 71]]], dtype=int32)>"
            ]
          },
          "metadata": {
            "tags": []
          },
          "execution_count": 12
        }
      ]
    },
    {
      "cell_type": "markdown",
      "metadata": {
        "id": "HiVyKZCuzCXU"
      },
      "source": [
        "## Find the minimum and maximum values generated in the previous step"
      ]
    },
    {
      "cell_type": "code",
      "metadata": {
        "ExecuteTime": {
          "end_time": "2021-02-22T14:19:48.385808Z",
          "start_time": "2021-02-22T14:19:48.381620Z"
        },
        "id": "COJHmxatzCXU",
        "colab": {
          "base_uri": "https://localhost:8080/"
        },
        "outputId": "afd74a2d-3a78-4d64-dd11-80c3a89202a4"
      },
      "source": [
        "print(f\"min: {tf.reduce_min(vec6)}, max: {tf.reduce_max(vec6)}\") "
      ],
      "execution_count": 13,
      "outputs": [
        {
          "output_type": "stream",
          "text": [
            "min: 4, max: 90\n"
          ],
          "name": "stdout"
        }
      ]
    },
    {
      "cell_type": "markdown",
      "metadata": {
        "id": "AvXiXNOBzCXW"
      },
      "source": [
        "## Create a vector with 30 random values and find its mean"
      ]
    },
    {
      "cell_type": "code",
      "metadata": {
        "ExecuteTime": {
          "end_time": "2021-02-22T14:19:48.391587Z",
          "start_time": "2021-02-22T14:19:48.387386Z"
        },
        "id": "xzDFiTv3zCXX",
        "colab": {
          "base_uri": "https://localhost:8080/"
        },
        "outputId": "fdb6c4ad-afb8-4ef8-8686-1ff8923c4b0f"
      },
      "source": [
        "vec7 = tf.random.uniform(\n",
        "    shape=[30]\n",
        ")\n",
        "\n",
        "print(vec7.numpy())\n",
        "\n",
        "the_mean = tf.math.reduce_mean(vec7)\n",
        "print(the_mean)"
      ],
      "execution_count": 14,
      "outputs": [
        {
          "output_type": "stream",
          "text": [
            "[0.17513537 0.3179742  0.8555474  0.41725898 0.23591995 0.22561431\n",
            " 0.59902835 0.8288827  0.59770846 0.48930836 0.11657119 0.40833473\n",
            " 0.12059581 0.93723166 0.23596966 0.80262804 0.09374154 0.07246888\n",
            " 0.08392537 0.20400608 0.6407254  0.7407241  0.69874144 0.63659525\n",
            " 0.74655735 0.6835319  0.6907762  0.7909107  0.8290696  0.5960953 ]\n",
            "tf.Tensor(0.49571928, shape=(), dtype=float32)\n"
          ],
          "name": "stdout"
        }
      ]
    },
    {
      "cell_type": "markdown",
      "metadata": {
        "id": "CghaD0RFzCXZ"
      },
      "source": [
        "## Create a 5x5 2d array with 1s around the edges and 0s in the middle"
      ]
    },
    {
      "cell_type": "code",
      "metadata": {
        "ExecuteTime": {
          "end_time": "2021-02-22T14:19:48.399626Z",
          "start_time": "2021-02-22T14:19:48.393116Z"
        },
        "id": "GZC49QjdzCXa",
        "colab": {
          "base_uri": "https://localhost:8080/"
        },
        "outputId": "e92db166-35d8-4a7b-a0c5-35a8a98eec1c"
      },
      "source": [
        "# start by filling in all zeros\n",
        "vec8 = tf.Variable(tf.zeros(shape=(5,5)), dtype=tf.float32)\n",
        "\n",
        "# then add the ones around the edge\n",
        "ones = tf.ones(shape=(5))\n",
        "vec8[0,:].assign(ones)\n",
        "vec8[-1,:].assign(ones)\n",
        "vec8[:,0].assign(ones)\n",
        "vec8[:,-1].assign(ones)\n",
        "\n",
        "# x = tf.gather(vec8, [0,-1]).assign(ones)\n"
      ],
      "execution_count": 15,
      "outputs": [
        {
          "output_type": "execute_result",
          "data": {
            "text/plain": [
              "<tf.Variable 'UnreadVariable' shape=(5, 5) dtype=float32, numpy=\n",
              "array([[1., 1., 1., 1., 1.],\n",
              "       [1., 0., 0., 0., 1.],\n",
              "       [1., 0., 0., 0., 1.],\n",
              "       [1., 0., 0., 0., 1.],\n",
              "       [1., 1., 1., 1., 1.]], dtype=float32)>"
            ]
          },
          "metadata": {
            "tags": []
          },
          "execution_count": 15
        }
      ]
    },
    {
      "cell_type": "markdown",
      "metadata": {
        "id": "Jpcx99OgzCXd"
      },
      "source": [
        "## Try to predict the output of each of the following cells before running them"
      ]
    },
    {
      "cell_type": "code",
      "metadata": {
        "ExecuteTime": {
          "end_time": "2021-02-22T14:19:48.404161Z",
          "start_time": "2021-02-22T14:19:48.400891Z"
        },
        "id": "ZkZJgk5YzCXe",
        "colab": {
          "base_uri": "https://localhost:8080/"
        },
        "outputId": "0583c1c3-0aa3-4afb-db8d-827365286e1d"
      },
      "source": [
        "0 * float('nan') # nan"
      ],
      "execution_count": 16,
      "outputs": [
        {
          "output_type": "execute_result",
          "data": {
            "text/plain": [
              "nan"
            ]
          },
          "metadata": {
            "tags": []
          },
          "execution_count": 16
        }
      ]
    },
    {
      "cell_type": "code",
      "metadata": {
        "ExecuteTime": {
          "end_time": "2021-02-22T14:19:48.409265Z",
          "start_time": "2021-02-22T14:19:48.405791Z"
        },
        "id": "dq81y-y8zCXh",
        "colab": {
          "base_uri": "https://localhost:8080/"
        },
        "outputId": "3b8bf773-15c7-4700-e2b1-2f8202fc3680"
      },
      "source": [
        "float('nan') == float('nan') # false"
      ],
      "execution_count": 17,
      "outputs": [
        {
          "output_type": "execute_result",
          "data": {
            "text/plain": [
              "False"
            ]
          },
          "metadata": {
            "tags": []
          },
          "execution_count": 17
        }
      ]
    },
    {
      "cell_type": "code",
      "metadata": {
        "ExecuteTime": {
          "end_time": "2021-02-22T14:19:48.414118Z",
          "start_time": "2021-02-22T14:19:48.410595Z"
        },
        "id": "b2CwjiTbzCXk",
        "colab": {
          "base_uri": "https://localhost:8080/"
        },
        "outputId": "b6f9b0ef-8ed4-4c1d-aab0-a3d3ea9f07ca"
      },
      "source": [
        "float('inf') > float('nan') # false"
      ],
      "execution_count": 18,
      "outputs": [
        {
          "output_type": "execute_result",
          "data": {
            "text/plain": [
              "False"
            ]
          },
          "metadata": {
            "tags": []
          },
          "execution_count": 18
        }
      ]
    },
    {
      "cell_type": "code",
      "metadata": {
        "id": "mYYq7ylOs5Fg",
        "outputId": "e98f445d-c41f-4b4a-8f3e-5a4f3c1b1708",
        "colab": {
          "base_uri": "https://localhost:8080/"
        }
      },
      "source": [
        "float('nan')"
      ],
      "execution_count": 19,
      "outputs": [
        {
          "output_type": "execute_result",
          "data": {
            "text/plain": [
              "nan"
            ]
          },
          "metadata": {
            "tags": []
          },
          "execution_count": 19
        }
      ]
    },
    {
      "cell_type": "code",
      "metadata": {
        "ExecuteTime": {
          "end_time": "2021-02-22T14:19:48.418949Z",
          "start_time": "2021-02-22T14:19:48.415511Z"
        },
        "id": "49Tq53HRzCXn",
        "colab": {
          "base_uri": "https://localhost:8080/"
        },
        "outputId": "a600c744-57f5-488d-a976-7afb1f48e96b"
      },
      "source": [
        "float('nan') - float('nan') # not 0 | it's still nan"
      ],
      "execution_count": 20,
      "outputs": [
        {
          "output_type": "execute_result",
          "data": {
            "text/plain": [
              "nan"
            ]
          },
          "metadata": {
            "tags": []
          },
          "execution_count": 20
        }
      ]
    },
    {
      "cell_type": "code",
      "metadata": {
        "ExecuteTime": {
          "end_time": "2021-02-22T14:19:48.423739Z",
          "start_time": "2021-02-22T14:19:48.420377Z"
        },
        "id": "1diW27rLzCXp",
        "colab": {
          "base_uri": "https://localhost:8080/"
        },
        "outputId": "07257467-7ae4-430c-a0bd-7db45da7ebbe"
      },
      "source": [
        "0.3 == 3 * 0.1 # false"
      ],
      "execution_count": 21,
      "outputs": [
        {
          "output_type": "execute_result",
          "data": {
            "text/plain": [
              "False"
            ]
          },
          "metadata": {
            "tags": []
          },
          "execution_count": 21
        }
      ]
    },
    {
      "cell_type": "code",
      "metadata": {
        "ExecuteTime": {
          "end_time": "2021-02-22T14:20:06.341041Z",
          "start_time": "2021-02-22T14:20:06.313292Z"
        },
        "id": "EAdhSCJbzCXr",
        "colab": {
          "base_uri": "https://localhost:8080/",
          "height": 222
        },
        "outputId": "27d40fa7-f6e9-40a3-8b83-0191978a61be"
      },
      "source": [
        "tf.constant([0]) // tf.constant([0]) # can you divide by 0 in TF | no, div by 0 error"
      ],
      "execution_count": 22,
      "outputs": [
        {
          "output_type": "error",
          "ename": "InvalidArgumentError",
          "evalue": "ignored",
          "traceback": [
            "\u001b[0;31m---------------------------------------------------------------------------\u001b[0m",
            "\u001b[0;31mInvalidArgumentError\u001b[0m                      Traceback (most recent call last)",
            "\u001b[0;32m<ipython-input-22-6b95737f5a99>\u001b[0m in \u001b[0;36m<module>\u001b[0;34m()\u001b[0m\n\u001b[0;32m----> 1\u001b[0;31m \u001b[0mtf\u001b[0m\u001b[0;34m.\u001b[0m\u001b[0mconstant\u001b[0m\u001b[0;34m(\u001b[0m\u001b[0;34m[\u001b[0m\u001b[0;36m0\u001b[0m\u001b[0;34m]\u001b[0m\u001b[0;34m)\u001b[0m \u001b[0;34m//\u001b[0m \u001b[0mtf\u001b[0m\u001b[0;34m.\u001b[0m\u001b[0mconstant\u001b[0m\u001b[0;34m(\u001b[0m\u001b[0;34m[\u001b[0m\u001b[0;36m0\u001b[0m\u001b[0;34m]\u001b[0m\u001b[0;34m)\u001b[0m \u001b[0;31m# can you divide by 0 in TF | no, div by 0 error\u001b[0m\u001b[0;34m\u001b[0m\u001b[0;34m\u001b[0m\u001b[0m\n\u001b[0m",
            "\u001b[0;32m/usr/local/lib/python3.7/dist-packages/tensorflow/python/ops/math_ops.py\u001b[0m in \u001b[0;36mbinary_op_wrapper\u001b[0;34m(x, y)\u001b[0m\n\u001b[1;32m   1162\u001b[0m     \u001b[0;32mwith\u001b[0m \u001b[0mops\u001b[0m\u001b[0;34m.\u001b[0m\u001b[0mname_scope\u001b[0m\u001b[0;34m(\u001b[0m\u001b[0;32mNone\u001b[0m\u001b[0;34m,\u001b[0m \u001b[0mop_name\u001b[0m\u001b[0;34m,\u001b[0m \u001b[0;34m[\u001b[0m\u001b[0mx\u001b[0m\u001b[0;34m,\u001b[0m \u001b[0my\u001b[0m\u001b[0;34m]\u001b[0m\u001b[0;34m)\u001b[0m \u001b[0;32mas\u001b[0m \u001b[0mname\u001b[0m\u001b[0;34m:\u001b[0m\u001b[0;34m\u001b[0m\u001b[0;34m\u001b[0m\u001b[0m\n\u001b[1;32m   1163\u001b[0m       \u001b[0;32mtry\u001b[0m\u001b[0;34m:\u001b[0m\u001b[0;34m\u001b[0m\u001b[0;34m\u001b[0m\u001b[0m\n\u001b[0;32m-> 1164\u001b[0;31m         \u001b[0;32mreturn\u001b[0m \u001b[0mfunc\u001b[0m\u001b[0;34m(\u001b[0m\u001b[0mx\u001b[0m\u001b[0;34m,\u001b[0m \u001b[0my\u001b[0m\u001b[0;34m,\u001b[0m \u001b[0mname\u001b[0m\u001b[0;34m=\u001b[0m\u001b[0mname\u001b[0m\u001b[0;34m)\u001b[0m\u001b[0;34m\u001b[0m\u001b[0;34m\u001b[0m\u001b[0m\n\u001b[0m\u001b[1;32m   1165\u001b[0m       \u001b[0;32mexcept\u001b[0m \u001b[0;34m(\u001b[0m\u001b[0mTypeError\u001b[0m\u001b[0;34m,\u001b[0m \u001b[0mValueError\u001b[0m\u001b[0;34m)\u001b[0m \u001b[0;32mas\u001b[0m \u001b[0me\u001b[0m\u001b[0;34m:\u001b[0m\u001b[0;34m\u001b[0m\u001b[0;34m\u001b[0m\u001b[0m\n\u001b[1;32m   1166\u001b[0m         \u001b[0;31m# Even if dispatching the op failed, the RHS may be a tensor aware\u001b[0m\u001b[0;34m\u001b[0m\u001b[0;34m\u001b[0m\u001b[0;34m\u001b[0m\u001b[0m\n",
            "\u001b[0;32m/usr/local/lib/python3.7/dist-packages/tensorflow/python/util/dispatch.py\u001b[0m in \u001b[0;36mwrapper\u001b[0;34m(*args, **kwargs)\u001b[0m\n\u001b[1;32m    199\u001b[0m     \u001b[0;34m\"\"\"Call target, and fall back on dispatchers if there is a TypeError.\"\"\"\u001b[0m\u001b[0;34m\u001b[0m\u001b[0;34m\u001b[0m\u001b[0m\n\u001b[1;32m    200\u001b[0m     \u001b[0;32mtry\u001b[0m\u001b[0;34m:\u001b[0m\u001b[0;34m\u001b[0m\u001b[0;34m\u001b[0m\u001b[0m\n\u001b[0;32m--> 201\u001b[0;31m       \u001b[0;32mreturn\u001b[0m \u001b[0mtarget\u001b[0m\u001b[0;34m(\u001b[0m\u001b[0;34m*\u001b[0m\u001b[0margs\u001b[0m\u001b[0;34m,\u001b[0m \u001b[0;34m**\u001b[0m\u001b[0mkwargs\u001b[0m\u001b[0;34m)\u001b[0m\u001b[0;34m\u001b[0m\u001b[0;34m\u001b[0m\u001b[0m\n\u001b[0m\u001b[1;32m    202\u001b[0m     \u001b[0;32mexcept\u001b[0m \u001b[0;34m(\u001b[0m\u001b[0mTypeError\u001b[0m\u001b[0;34m,\u001b[0m \u001b[0mValueError\u001b[0m\u001b[0;34m)\u001b[0m\u001b[0;34m:\u001b[0m\u001b[0;34m\u001b[0m\u001b[0;34m\u001b[0m\u001b[0m\n\u001b[1;32m    203\u001b[0m       \u001b[0;31m# Note: convert_to_eager_tensor currently raises a ValueError, not a\u001b[0m\u001b[0;34m\u001b[0m\u001b[0;34m\u001b[0m\u001b[0;34m\u001b[0m\u001b[0m\n",
            "\u001b[0;32m/usr/local/lib/python3.7/dist-packages/tensorflow/python/ops/math_ops.py\u001b[0m in \u001b[0;36mfloordiv\u001b[0;34m(x, y, name)\u001b[0m\n\u001b[1;32m   1445\u001b[0m   \"\"\"\n\u001b[1;32m   1446\u001b[0m   \u001b[0;32mwith\u001b[0m \u001b[0mops\u001b[0m\u001b[0;34m.\u001b[0m\u001b[0mname_scope\u001b[0m\u001b[0;34m(\u001b[0m\u001b[0mname\u001b[0m\u001b[0;34m,\u001b[0m \u001b[0;34m\"floordiv\"\u001b[0m\u001b[0;34m,\u001b[0m \u001b[0;34m[\u001b[0m\u001b[0mx\u001b[0m\u001b[0;34m,\u001b[0m \u001b[0my\u001b[0m\u001b[0;34m]\u001b[0m\u001b[0;34m)\u001b[0m \u001b[0;32mas\u001b[0m \u001b[0mname\u001b[0m\u001b[0;34m:\u001b[0m\u001b[0;34m\u001b[0m\u001b[0;34m\u001b[0m\u001b[0m\n\u001b[0;32m-> 1447\u001b[0;31m     \u001b[0;32mreturn\u001b[0m \u001b[0mgen_math_ops\u001b[0m\u001b[0;34m.\u001b[0m\u001b[0mfloor_div\u001b[0m\u001b[0;34m(\u001b[0m\u001b[0mx\u001b[0m\u001b[0;34m,\u001b[0m \u001b[0my\u001b[0m\u001b[0;34m,\u001b[0m \u001b[0mname\u001b[0m\u001b[0;34m=\u001b[0m\u001b[0mname\u001b[0m\u001b[0;34m)\u001b[0m\u001b[0;34m\u001b[0m\u001b[0;34m\u001b[0m\u001b[0m\n\u001b[0m\u001b[1;32m   1448\u001b[0m \u001b[0;34m\u001b[0m\u001b[0m\n\u001b[1;32m   1449\u001b[0m \u001b[0;34m\u001b[0m\u001b[0m\n",
            "\u001b[0;32m/usr/local/lib/python3.7/dist-packages/tensorflow/python/ops/gen_math_ops.py\u001b[0m in \u001b[0;36mfloor_div\u001b[0;34m(x, y, name)\u001b[0m\n\u001b[1;32m   3727\u001b[0m       \u001b[0;32mreturn\u001b[0m \u001b[0m_result\u001b[0m\u001b[0;34m\u001b[0m\u001b[0;34m\u001b[0m\u001b[0m\n\u001b[1;32m   3728\u001b[0m     \u001b[0;32mexcept\u001b[0m \u001b[0m_core\u001b[0m\u001b[0;34m.\u001b[0m\u001b[0m_NotOkStatusException\u001b[0m \u001b[0;32mas\u001b[0m \u001b[0me\u001b[0m\u001b[0;34m:\u001b[0m\u001b[0;34m\u001b[0m\u001b[0;34m\u001b[0m\u001b[0m\n\u001b[0;32m-> 3729\u001b[0;31m       \u001b[0m_ops\u001b[0m\u001b[0;34m.\u001b[0m\u001b[0mraise_from_not_ok_status\u001b[0m\u001b[0;34m(\u001b[0m\u001b[0me\u001b[0m\u001b[0;34m,\u001b[0m \u001b[0mname\u001b[0m\u001b[0;34m)\u001b[0m\u001b[0;34m\u001b[0m\u001b[0;34m\u001b[0m\u001b[0m\n\u001b[0m\u001b[1;32m   3730\u001b[0m     \u001b[0;32mexcept\u001b[0m \u001b[0m_core\u001b[0m\u001b[0;34m.\u001b[0m\u001b[0m_FallbackException\u001b[0m\u001b[0;34m:\u001b[0m\u001b[0;34m\u001b[0m\u001b[0;34m\u001b[0m\u001b[0m\n\u001b[1;32m   3731\u001b[0m       \u001b[0;32mpass\u001b[0m\u001b[0;34m\u001b[0m\u001b[0;34m\u001b[0m\u001b[0m\n",
            "\u001b[0;32m/usr/local/lib/python3.7/dist-packages/tensorflow/python/framework/ops.py\u001b[0m in \u001b[0;36mraise_from_not_ok_status\u001b[0;34m(e, name)\u001b[0m\n\u001b[1;32m   6860\u001b[0m   \u001b[0mmessage\u001b[0m \u001b[0;34m=\u001b[0m \u001b[0me\u001b[0m\u001b[0;34m.\u001b[0m\u001b[0mmessage\u001b[0m \u001b[0;34m+\u001b[0m \u001b[0;34m(\u001b[0m\u001b[0;34m\" name: \"\u001b[0m \u001b[0;34m+\u001b[0m \u001b[0mname\u001b[0m \u001b[0;32mif\u001b[0m \u001b[0mname\u001b[0m \u001b[0;32mis\u001b[0m \u001b[0;32mnot\u001b[0m \u001b[0;32mNone\u001b[0m \u001b[0;32melse\u001b[0m \u001b[0;34m\"\"\u001b[0m\u001b[0;34m)\u001b[0m\u001b[0;34m\u001b[0m\u001b[0;34m\u001b[0m\u001b[0m\n\u001b[1;32m   6861\u001b[0m   \u001b[0;31m# pylint: disable=protected-access\u001b[0m\u001b[0;34m\u001b[0m\u001b[0;34m\u001b[0m\u001b[0;34m\u001b[0m\u001b[0m\n\u001b[0;32m-> 6862\u001b[0;31m   \u001b[0msix\u001b[0m\u001b[0;34m.\u001b[0m\u001b[0mraise_from\u001b[0m\u001b[0;34m(\u001b[0m\u001b[0mcore\u001b[0m\u001b[0;34m.\u001b[0m\u001b[0m_status_to_exception\u001b[0m\u001b[0;34m(\u001b[0m\u001b[0me\u001b[0m\u001b[0;34m.\u001b[0m\u001b[0mcode\u001b[0m\u001b[0;34m,\u001b[0m \u001b[0mmessage\u001b[0m\u001b[0;34m)\u001b[0m\u001b[0;34m,\u001b[0m \u001b[0;32mNone\u001b[0m\u001b[0;34m)\u001b[0m\u001b[0;34m\u001b[0m\u001b[0;34m\u001b[0m\u001b[0m\n\u001b[0m\u001b[1;32m   6863\u001b[0m   \u001b[0;31m# pylint: enable=protected-access\u001b[0m\u001b[0;34m\u001b[0m\u001b[0;34m\u001b[0m\u001b[0;34m\u001b[0m\u001b[0m\n\u001b[1;32m   6864\u001b[0m \u001b[0;34m\u001b[0m\u001b[0m\n",
            "\u001b[0;32m/usr/local/lib/python3.7/dist-packages/six.py\u001b[0m in \u001b[0;36mraise_from\u001b[0;34m(value, from_value)\u001b[0m\n",
            "\u001b[0;31mInvalidArgumentError\u001b[0m: Integer division by zero [Op:FloorDiv]"
          ]
        }
      ]
    },
    {
      "cell_type": "code",
      "metadata": {
        "ExecuteTime": {
          "end_time": "2021-02-22T14:20:06.343114Z",
          "start_time": "2021-02-22T14:20:06.301Z"
        },
        "id": "T8dkSa1dzCXt",
        "colab": {
          "base_uri": "https://localhost:8080/"
        },
        "outputId": "b5d9b80b-7bd5-466f-c56d-0903dbfcf718"
      },
      "source": [
        "tf.constant([0.0]) // tf.constant([0.0]) # inf | nan"
      ],
      "execution_count": 23,
      "outputs": [
        {
          "output_type": "execute_result",
          "data": {
            "text/plain": [
              "<tf.Tensor: shape=(1,), dtype=float32, numpy=array([nan], dtype=float32)>"
            ]
          },
          "metadata": {
            "tags": []
          },
          "execution_count": 23
        }
      ]
    },
    {
      "cell_type": "code",
      "metadata": {
        "ExecuteTime": {
          "end_time": "2021-02-22T14:20:06.344035Z",
          "start_time": "2021-02-22T14:20:06.302Z"
        },
        "id": "6-vnyvnY3O_-",
        "colab": {
          "base_uri": "https://localhost:8080/"
        },
        "outputId": "550286c5-9762-4654-c564-e3a80850fa54"
      },
      "source": [
        "nan_scalar = tf.constant([float('nan')]) \n",
        "\n",
        "tf.math.is_nan(nan_scalar) # true"
      ],
      "execution_count": 25,
      "outputs": [
        {
          "output_type": "execute_result",
          "data": {
            "text/plain": [
              "<tf.Tensor: shape=(1,), dtype=bool, numpy=array([ True])>"
            ]
          },
          "metadata": {
            "tags": []
          },
          "execution_count": 25
        }
      ]
    },
    {
      "cell_type": "code",
      "metadata": {
        "ExecuteTime": {
          "end_time": "2021-02-22T14:20:06.345146Z",
          "start_time": "2021-02-22T14:20:06.304Z"
        },
        "id": "oQgbcYV2zCX0",
        "colab": {
          "base_uri": "https://localhost:8080/"
        },
        "outputId": "0a992be2-fd2c-4489-b003-abd25ec75981"
      },
      "source": [
        "tf.constant([0.0]) / tf.constant([0.0]) # nan, same as above"
      ],
      "execution_count": 26,
      "outputs": [
        {
          "output_type": "execute_result",
          "data": {
            "text/plain": [
              "<tf.Tensor: shape=(1,), dtype=float32, numpy=array([nan], dtype=float32)>"
            ]
          },
          "metadata": {
            "tags": []
          },
          "execution_count": 26
        }
      ]
    },
    {
      "cell_type": "markdown",
      "metadata": {
        "id": "YcnIalmYzCX2"
      },
      "source": [
        "## Find the integer part of the following array using four different methods:"
      ]
    },
    {
      "cell_type": "code",
      "metadata": {
        "ExecuteTime": {
          "end_time": "2021-02-22T14:20:06.346024Z",
          "start_time": "2021-02-22T14:20:06.306Z"
        },
        "id": "xGjqeNf-zCX4",
        "colab": {
          "base_uri": "https://localhost:8080/"
        },
        "outputId": "71fd1c3a-b0f5-48d8-9825-a9f13f7f20e1"
      },
      "source": [
        "a = tf.random.normal((10,), dtype = tf.float32)\n",
        "a"
      ],
      "execution_count": 27,
      "outputs": [
        {
          "output_type": "execute_result",
          "data": {
            "text/plain": [
              "<tf.Tensor: shape=(10,), dtype=float32, numpy=\n",
              "array([ 1.61399   ,  2.4495301 , -1.1530102 , -0.33435348, -0.48866138,\n",
              "       -1.3499267 ,  0.40876192, -0.755513  ,  1.2192806 ,  1.2861389 ],\n",
              "      dtype=float32)>"
            ]
          },
          "metadata": {
            "tags": []
          },
          "execution_count": 27
        }
      ]
    },
    {
      "cell_type": "code",
      "metadata": {
        "ExecuteTime": {
          "end_time": "2021-02-22T14:20:06.346869Z",
          "start_time": "2021-02-22T14:20:06.308Z"
        },
        "id": "jTI5BWoUzCX6",
        "colab": {
          "base_uri": "https://localhost:8080/"
        },
        "outputId": "9d844f88-9929-4c7a-f870-eefa1df4daab"
      },
      "source": [
        "a_int = tf.cast(a, tf.int8)\n",
        "a_int"
      ],
      "execution_count": 28,
      "outputs": [
        {
          "output_type": "execute_result",
          "data": {
            "text/plain": [
              "<tf.Tensor: shape=(10,), dtype=int8, numpy=array([ 1,  2, -1,  0,  0, -1,  0,  0,  1,  1], dtype=int8)>"
            ]
          },
          "metadata": {
            "tags": []
          },
          "execution_count": 28
        }
      ]
    },
    {
      "cell_type": "code",
      "metadata": {
        "ExecuteTime": {
          "end_time": "2021-02-22T14:20:06.453695Z",
          "start_time": "2021-02-22T14:20:06.448908Z"
        },
        "id": "DHbpIPvJzCX8"
      },
      "source": [
        "# floor"
      ],
      "execution_count": 29,
      "outputs": []
    },
    {
      "cell_type": "code",
      "metadata": {
        "ExecuteTime": {
          "end_time": "2021-02-22T14:20:06.459772Z",
          "start_time": "2021-02-22T14:20:06.455160Z"
        },
        "id": "lW8C0_RTzCX-"
      },
      "source": [
        "# ceiling"
      ],
      "execution_count": 30,
      "outputs": []
    },
    {
      "cell_type": "code",
      "metadata": {
        "ExecuteTime": {
          "end_time": "2021-02-22T14:20:06.465570Z",
          "start_time": "2021-02-22T14:20:06.461231Z"
        },
        "id": "6tKQz-OdzCYA"
      },
      "source": [
        "# truncate"
      ],
      "execution_count": 31,
      "outputs": []
    },
    {
      "cell_type": "markdown",
      "metadata": {
        "id": "wCR6R94rzCYD"
      },
      "source": [
        "## Create a vector of 10 values from 0 to 1, both included"
      ]
    },
    {
      "cell_type": "code",
      "metadata": {
        "ExecuteTime": {
          "end_time": "2021-02-22T14:20:06.473564Z",
          "start_time": "2021-02-22T14:20:06.466941Z"
        },
        "id": "26HYaGsczCYD",
        "colab": {
          "base_uri": "https://localhost:8080/"
        },
        "outputId": "b1e2d970-6777-45e3-c054-2fb7e9ba7d76"
      },
      "source": [
        "# evenly distributed\n",
        "vec10 = tf.linspace(start = 0, stop=1, num=10)\n",
        "vec10"
      ],
      "execution_count": 32,
      "outputs": [
        {
          "output_type": "execute_result",
          "data": {
            "text/plain": [
              "<tf.Tensor: shape=(10,), dtype=float64, numpy=\n",
              "array([0.        , 0.11111111, 0.22222222, 0.33333333, 0.44444444,\n",
              "       0.55555556, 0.66666667, 0.77777778, 0.88888889, 1.        ])>"
            ]
          },
          "metadata": {
            "tags": []
          },
          "execution_count": 32
        }
      ]
    },
    {
      "cell_type": "markdown",
      "metadata": {
        "id": "MHw1Dq5QzCYF"
      },
      "source": [
        "## Create a vector of size 10 with values ranging from 0 to 1, both excluded"
      ]
    },
    {
      "cell_type": "code",
      "metadata": {
        "ExecuteTime": {
          "end_time": "2021-02-22T14:20:06.480648Z",
          "start_time": "2021-02-22T14:20:06.474882Z"
        },
        "id": "DWJVTJ7DzCYG",
        "colab": {
          "base_uri": "https://localhost:8080/"
        },
        "outputId": "3fa99cbb-74c0-43af-dc1e-5042e5d3cc76"
      },
      "source": [
        "vec11 =  tf.random.uniform(shape=[10], minval =1e-6, maxval=1)\n",
        "vec11"
      ],
      "execution_count": 33,
      "outputs": [
        {
          "output_type": "execute_result",
          "data": {
            "text/plain": [
              "<tf.Tensor: shape=(10,), dtype=float32, numpy=\n",
              "array([0.39729905, 0.6661668 , 0.15123095, 0.9818742 , 0.7510545 ,\n",
              "       0.6180992 , 0.74969757, 0.8060493 , 0.22680658, 0.06904433],\n",
              "      dtype=float32)>"
            ]
          },
          "metadata": {
            "tags": []
          },
          "execution_count": 33
        }
      ]
    },
    {
      "cell_type": "markdown",
      "metadata": {
        "id": "76FEjR_TzCYH"
      },
      "source": [
        "## Subtract the mean of each row of the following matrix"
      ]
    },
    {
      "cell_type": "code",
      "metadata": {
        "ExecuteTime": {
          "end_time": "2021-02-22T14:20:06.485993Z",
          "start_time": "2021-02-22T14:20:06.481909Z"
        },
        "id": "1d7JY5y6zCYI",
        "colab": {
          "base_uri": "https://localhost:8080/"
        },
        "outputId": "60f5ed67-1ec1-4384-c203-f15fd667f6a9"
      },
      "source": [
        "m = tf.random.uniform((3, 3))\n",
        "m"
      ],
      "execution_count": 34,
      "outputs": [
        {
          "output_type": "execute_result",
          "data": {
            "text/plain": [
              "<tf.Tensor: shape=(3, 3), dtype=float32, numpy=\n",
              "array([[0.05311072, 0.18923342, 0.97226834],\n",
              "       [0.01325536, 0.16124213, 0.59450936],\n",
              "       [0.9958024 , 0.61298347, 0.1633718 ]], dtype=float32)>"
            ]
          },
          "metadata": {
            "tags": []
          },
          "execution_count": 34
        }
      ]
    },
    {
      "cell_type": "code",
      "metadata": {
        "ExecuteTime": {
          "end_time": "2021-02-22T14:20:06.491469Z",
          "start_time": "2021-02-22T14:20:06.487417Z"
        },
        "id": "t9aldiCQ51Hz",
        "colab": {
          "base_uri": "https://localhost:8080/"
        },
        "outputId": "4fde510c-eb73-4a4e-f191-fc2c8294b4a8"
      },
      "source": [
        "row_means = tf.reshape(tf.math.reduce_mean(m, axis=1), shape=[3, 1])\n",
        "row_means"
      ],
      "execution_count": 35,
      "outputs": [
        {
          "output_type": "execute_result",
          "data": {
            "text/plain": [
              "<tf.Tensor: shape=(3, 1), dtype=float32, numpy=\n",
              "array([[0.40487084],\n",
              "       [0.25633562],\n",
              "       [0.5907192 ]], dtype=float32)>"
            ]
          },
          "metadata": {
            "tags": []
          },
          "execution_count": 35
        }
      ]
    },
    {
      "cell_type": "code",
      "metadata": {
        "ExecuteTime": {
          "end_time": "2021-02-22T14:20:06.498508Z",
          "start_time": "2021-02-22T14:20:06.492838Z"
        },
        "id": "uTsIb1GZzCYL",
        "colab": {
          "base_uri": "https://localhost:8080/"
        },
        "outputId": "b58498f2-3b38-4118-e4b7-ace36aafe037"
      },
      "source": [
        "m_final = m -row_means\n",
        "m_final.numpy()"
      ],
      "execution_count": 36,
      "outputs": [
        {
          "output_type": "execute_result",
          "data": {
            "text/plain": [
              "array([[-0.35176012, -0.21563742,  0.5673975 ],\n",
              "       [-0.24308026, -0.09509349,  0.33817375],\n",
              "       [ 0.40508318,  0.02226424, -0.42734742]], dtype=float32)"
            ]
          },
          "metadata": {
            "tags": []
          },
          "execution_count": 36
        }
      ]
    },
    {
      "cell_type": "code",
      "metadata": {
        "ExecuteTime": {
          "end_time": "2021-02-22T14:20:06.503876Z",
          "start_time": "2021-02-22T14:20:06.499985Z"
        },
        "id": "ryRQVWqICpQK",
        "colab": {
          "base_uri": "https://localhost:8080/"
        },
        "outputId": "e52ebf12-b8fb-4f4e-e303-f13bf69d6168"
      },
      "source": [
        "row_means = tf.math.reduce_mean(m, axis=1, keepdims=True) # keepdims is doing same thing as additional reshape\n",
        "row_means"
      ],
      "execution_count": 37,
      "outputs": [
        {
          "output_type": "execute_result",
          "data": {
            "text/plain": [
              "<tf.Tensor: shape=(3, 1), dtype=float32, numpy=\n",
              "array([[0.40487084],\n",
              "       [0.25633562],\n",
              "       [0.5907192 ]], dtype=float32)>"
            ]
          },
          "metadata": {
            "tags": []
          },
          "execution_count": 37
        }
      ]
    },
    {
      "cell_type": "code",
      "metadata": {
        "ExecuteTime": {
          "end_time": "2021-02-22T14:20:06.509411Z",
          "start_time": "2021-02-22T14:20:06.505180Z"
        },
        "id": "uxhdOaWFCu1M"
      },
      "source": [
        ""
      ],
      "execution_count": 37,
      "outputs": []
    },
    {
      "cell_type": "code",
      "metadata": {
        "ExecuteTime": {
          "end_time": "2021-02-22T14:20:06.514703Z",
          "start_time": "2021-02-22T14:20:06.510871Z"
        },
        "id": "0CUXBGkEGBhC"
      },
      "source": [
        ""
      ],
      "execution_count": 37,
      "outputs": []
    },
    {
      "cell_type": "markdown",
      "metadata": {
        "id": "f2w3ku_izCYO"
      },
      "source": [
        "## Add 1,000,000 numbers together using __`tensorflow`__ vectorized operations"
      ]
    },
    {
      "cell_type": "code",
      "metadata": {
        "ExecuteTime": {
          "end_time": "2021-02-22T14:20:19.168514Z",
          "start_time": "2021-02-22T14:20:06.516061Z"
        },
        "id": "yPaNUdD4zCYP",
        "colab": {
          "base_uri": "https://localhost:8080/"
        },
        "outputId": "ad4dc850-2688-423f-bbc1-94ef2a02d692"
      },
      "source": [
        "v = tf.random.uniform(shape =[1000000, 1])\n",
        "print(tf.math.reduce_mean(v))\n"
      ],
      "execution_count": 38,
      "outputs": [
        {
          "output_type": "stream",
          "text": [
            "tf.Tensor(0.5002016, shape=(), dtype=float32)\n"
          ],
          "name": "stdout"
        }
      ]
    },
    {
      "cell_type": "markdown",
      "metadata": {
        "id": "IclUTxlAzCYS"
      },
      "source": [
        "## Create a 4x4 array of the first 16 powers of 3"
      ]
    },
    {
      "cell_type": "code",
      "metadata": {
        "ExecuteTime": {
          "end_time": "2021-02-22T14:20:19.174991Z",
          "start_time": "2021-02-22T14:20:19.169918Z"
        },
        "id": "86JDG003zCYS",
        "colab": {
          "base_uri": "https://localhost:8080/"
        },
        "outputId": "1f621219-6cf6-4eb4-cb5e-9e390a80b05e"
      },
      "source": [
        "lastOne = tf.reshape(tf.Variable(initial_value=3**tf.range(0, 16)), shape=[4,4])\n",
        "lastOne"
      ],
      "execution_count": 39,
      "outputs": [
        {
          "output_type": "execute_result",
          "data": {
            "text/plain": [
              "<tf.Tensor: shape=(4, 4), dtype=int32, numpy=\n",
              "array([[       1,        3,        9,       27],\n",
              "       [      81,      243,      729,     2187],\n",
              "       [    6561,    19683,    59049,   177147],\n",
              "       [  531441,  1594323,  4782969, 14348907]], dtype=int32)>"
            ]
          },
          "metadata": {
            "tags": []
          },
          "execution_count": 39
        }
      ]
    },
    {
      "cell_type": "markdown",
      "metadata": {
        "id": "p-rS-F6wFcsk"
      },
      "source": [
        "Copyright 2021 CounterFactual.AI LLC. Licensed under the Apache License, Version 2.0 (the \"License\"); you may not use this file except in compliance with the License. You may obtain a copy of the License at http://www.apache.org/licenses/LICENSE-2.0 Unless required by applicable law or agreed to in writing, software distributed under the License is distributed on an \"AS IS\" BASIS, WITHOUT WARRANTIES OR CONDITIONS OF ANY KIND, either express or implied. See the License for the specific language governing permissions and limitations under the License."
      ]
    }
  ]
}