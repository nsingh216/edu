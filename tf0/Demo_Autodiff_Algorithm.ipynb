{
  "nbformat": 4,
  "nbformat_minor": 0,
  "metadata": {
    "kernelspec": {
      "display_name": "Python 3",
      "language": "python",
      "name": "python3"
    },
    "language_info": {
      "codemirror_mode": {
        "name": "ipython",
        "version": 3
      },
      "file_extension": ".py",
      "mimetype": "text/x-python",
      "name": "python",
      "nbconvert_exporter": "python",
      "pygments_lexer": "ipython3",
      "version": "3.7.3"
    },
    "colab": {
      "name": "Demo_Autodiff_Algorithm.ipynb",
      "provenance": [],
      "collapsed_sections": []
    }
  },
  "cells": [
    {
      "cell_type": "markdown",
      "metadata": {
        "id": "CYEuXBD-1qIR"
      },
      "source": [
        "<a href=\"https://colab.research.google.com/github/osipov/edu/blob/master/tf0/Demo_Autodiff_Algorithm.ipynb\" target=\"_blank\"><img src=\"https://colab.research.google.com/assets/colab-badge.svg\"/></a>"
      ]
    },
    {
      "cell_type": "markdown",
      "metadata": {
        "id": "cyIgbKZ4L_1n"
      },
      "source": [
        "## Implement the `Scalar` class"
      ]
    },
    {
      "cell_type": "code",
      "metadata": {
        "id": "ivKVjg0tKQ1n"
      },
      "source": [
        ""
      ],
      "execution_count": null,
      "outputs": []
    },
    {
      "cell_type": "markdown",
      "metadata": {
        "id": "SBDfSGfcKQ1p"
      },
      "source": [
        "## Apply `Scalar` to linear regression"
      ]
    },
    {
      "cell_type": "code",
      "metadata": {
        "id": "Iy4Phpx4KQ1p"
      },
      "source": [
        ""
      ],
      "execution_count": null,
      "outputs": []
    },
    {
      "cell_type": "markdown",
      "metadata": {
        "id": "gIYhatJTKQ1s"
      },
      "source": [
        "## Make linear regression data\n"
      ]
    },
    {
      "cell_type": "code",
      "metadata": {
        "id": "txdVmceyKQ1s"
      },
      "source": [
        ""
      ],
      "execution_count": null,
      "outputs": []
    },
    {
      "cell_type": "markdown",
      "metadata": {
        "id": "bHeMP08VKQ1x"
      },
      "source": [
        "## Implement the mean squared error calculation"
      ]
    },
    {
      "cell_type": "code",
      "metadata": {
        "id": "BiW6fdXIKQ1x"
      },
      "source": [
        ""
      ],
      "execution_count": null,
      "outputs": []
    },
    {
      "cell_type": "markdown",
      "metadata": {
        "id": "F5qi1_frKQ1z"
      },
      "source": [
        "## Confirm that gradient descent reduces MSE"
      ]
    },
    {
      "cell_type": "code",
      "metadata": {
        "id": "l-c14ybHKQ12"
      },
      "source": [
        ""
      ],
      "execution_count": null,
      "outputs": []
    },
    {
      "cell_type": "markdown",
      "metadata": {
        "id": "2DKGuFd1KQ14"
      },
      "source": [
        "## Compare the value of `w` to the analytical solution\n",
        "* the ordinary least squares solution is $ (X^TX)^{-1}X^Ty $"
      ]
    },
    {
      "cell_type": "code",
      "metadata": {
        "id": "-kmRcwWrL-Gd"
      },
      "source": [
        ""
      ],
      "execution_count": null,
      "outputs": []
    },
    {
      "cell_type": "markdown",
      "metadata": {
        "id": "92S9Lbw1NELg"
      },
      "source": [
        "Copyright 2021 CounterFactual.AI LLC. Licensed under the Apache License, Version 2.0 (the \"License\"); you may not use this file except in compliance with the License. You may obtain a copy of the License at http://www.apache.org/licenses/LICENSE-2.0 Unless required by applicable law or agreed to in writing, software distributed under the License is distributed on an \"AS IS\" BASIS, WITHOUT WARRANTIES OR CONDITIONS OF ANY KIND, either express or implied. See the License for the specific language governing permissions and limitations under the License."
      ]
    }
  ]
}