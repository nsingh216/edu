{
  "nbformat": 4,
  "nbformat_minor": 0,
  "metadata": {
    "accelerator": "GPU",
    "colab": {
      "name": "Demo_Tensorflow_Tensors.ipynb",
      "provenance": [],
      "collapsed_sections": []
    },
    "kernelspec": {
      "display_name": "Python 3",
      "language": "python",
      "name": "python3"
    },
    "language_info": {
      "codemirror_mode": {
        "name": "ipython",
        "version": 3
      },
      "file_extension": ".py",
      "mimetype": "text/x-python",
      "name": "python",
      "nbconvert_exporter": "python",
      "pygments_lexer": "ipython3",
      "version": "3.7.6"
    },
    "toc": {
      "base_numbering": 1,
      "nav_menu": {},
      "number_sections": true,
      "sideBar": true,
      "skip_h1_title": false,
      "title_cell": "Table of Contents",
      "title_sidebar": "Contents",
      "toc_cell": false,
      "toc_position": {},
      "toc_section_display": true,
      "toc_window_display": true
    },
    "varInspector": {
      "cols": {
        "lenName": 16,
        "lenType": 16,
        "lenVar": 40
      },
      "kernels_config": {
        "python": {
          "delete_cmd_postfix": "",
          "delete_cmd_prefix": "del ",
          "library": "var_list.py",
          "varRefreshCmd": "print(var_dic_list())"
        },
        "r": {
          "delete_cmd_postfix": ") ",
          "delete_cmd_prefix": "rm(",
          "library": "var_list.r",
          "varRefreshCmd": "cat(var_dic_list()) "
        }
      },
      "types_to_exclude": [
        "module",
        "function",
        "builtin_function_or_method",
        "instance",
        "_Feature"
      ],
      "window_display": false
    }
  },
  "cells": [
    {
      "cell_type": "markdown",
      "metadata": {
        "id": "IkydQ-zPRcI4"
      },
      "source": [
        "<a href=\"https://colab.research.google.com/github/osipov/edu/blob/master/tf0/Demo_Tensorflow_Tensors.ipynb\" target=\"_blank\"><img src=\"https://colab.research.google.com/assets/colab-badge.svg\"/></a>"
      ]
    },
    {
      "cell_type": "markdown",
      "metadata": {
        "id": "6ezwfR9XH48p"
      },
      "source": [
        "# Python Doesn't Have Good Numeric Support\n",
        "* Python integers are actually an object with header and typing information\n",
        "* access to Python integers requires a level of indirection\n",
        "* In C, integers are directly accessible in memory without indirection\n",
        "<img src=\"https://github.com/osipov/edu/raw/master/pyt0/images/python-01.png\" width=700 height=400>"
      ]
    },
    {
      "cell_type": "markdown",
      "metadata": {
        "id": "mbEvFTCAH48q"
      },
      "source": [
        "## The Problem is Even Worse for Python Lists \n",
        "* Python lists are immensely flexible\n",
        "  * no fixed size\n",
        "  * OK to have heterogeneous data\n",
        "* ...but as a result they are not likely to be contiguous in memory\n",
        "* and even if they are, there is still a lot of indirection required\n",
        "* so they aren't good for fast number crunching\n",
        "<img src=\"https://github.com/osipov/edu/raw/master/pyt0/images/python-02.png\" width=700 height=700>"
      ]
    },
    {
      "cell_type": "code",
      "metadata": {
        "ExecuteTime": {
          "end_time": "2021-02-22T12:55:37.519765Z",
          "start_time": "2021-02-22T12:55:32.200623Z"
        },
        "id": "fkS_WcY2coaj"
      },
      "source": [
        "pylist = list(range(1_000_000))\n",
        "%timeit [i + 1 for i in pylist]"
      ],
      "execution_count": null,
      "outputs": []
    },
    {
      "cell_type": "markdown",
      "metadata": {
        "id": "FSYxb3LHH48r"
      },
      "source": [
        "## One solution is to use Tensorflow tensors\n",
        "* written in C++\n",
        "* allows for vectorized operations"
      ]
    },
    {
      "cell_type": "code",
      "metadata": {
        "ExecuteTime": {
          "end_time": "2021-02-22T12:55:39.340737Z",
          "start_time": "2021-02-22T12:55:37.521309Z"
        },
        "id": "1de2VLpWc9pb"
      },
      "source": [
        "#!pip install --upgrade -q tensorflow==2.4.0\n",
        "import tensorflow as tf\n",
        "tf.__version__"
      ],
      "execution_count": null,
      "outputs": []
    },
    {
      "cell_type": "markdown",
      "metadata": {
        "id": "caPLdVBO9ujf"
      },
      "source": [
        "## TensorFlow Scalars"
      ]
    },
    {
      "cell_type": "code",
      "metadata": {
        "ExecuteTime": {
          "end_time": "2021-02-22T12:55:40.049010Z",
          "start_time": "2021-02-22T12:55:39.343074Z"
        },
        "id": "LY0vW0RpPZZ0"
      },
      "source": [
        "tf.constant(42)"
      ],
      "execution_count": null,
      "outputs": []
    },
    {
      "cell_type": "code",
      "metadata": {
        "ExecuteTime": {
          "end_time": "2021-02-22T12:55:40.054513Z",
          "start_time": "2021-02-22T12:55:40.050720Z"
        },
        "id": "25baYf_vbqWM"
      },
      "source": [
        "tf.constant(42).dtype"
      ],
      "execution_count": null,
      "outputs": []
    },
    {
      "cell_type": "code",
      "metadata": {
        "ExecuteTime": {
          "end_time": "2021-02-22T12:55:40.059619Z",
          "start_time": "2021-02-22T12:55:40.055900Z"
        },
        "id": "Ytahj47q9ujw"
      },
      "source": [
        "tf.constant(42).shape"
      ],
      "execution_count": null,
      "outputs": []
    },
    {
      "cell_type": "code",
      "metadata": {
        "ExecuteTime": {
          "end_time": "2021-02-22T12:55:40.064458Z",
          "start_time": "2021-02-22T12:55:40.060906Z"
        },
        "id": "hdL_I5919ujz"
      },
      "source": [
        "len(tf.constant(42).shape) == 0"
      ],
      "execution_count": null,
      "outputs": []
    },
    {
      "cell_type": "code",
      "metadata": {
        "ExecuteTime": {
          "end_time": "2021-02-22T12:55:40.069807Z",
          "start_time": "2021-02-22T12:55:40.065790Z"
        },
        "id": "7lOOodHGPRz_"
      },
      "source": [
        "tf.constant(3.14).dtype"
      ],
      "execution_count": null,
      "outputs": []
    },
    {
      "cell_type": "code",
      "metadata": {
        "ExecuteTime": {
          "end_time": "2021-02-22T12:55:40.075588Z",
          "start_time": "2021-02-22T12:55:40.071996Z"
        },
        "id": "ThH9pmxcPdpA"
      },
      "source": [
        "float(tf.constant(3.14).numpy())"
      ],
      "execution_count": null,
      "outputs": []
    },
    {
      "cell_type": "code",
      "metadata": {
        "ExecuteTime": {
          "end_time": "2021-02-22T12:55:40.080845Z",
          "start_time": "2021-02-22T12:55:40.077197Z"
        },
        "id": "7Ht1V2Zl9ujr"
      },
      "source": [
        "float(tf.constant(3.14).numpy()) == 3.14"
      ],
      "execution_count": null,
      "outputs": []
    },
    {
      "cell_type": "markdown",
      "metadata": {
        "id": "j_-cjPNM9uj1"
      },
      "source": [
        "## IEEE Standard for Floating-Point Arithmetic (IEEE 754) \n",
        "* a refresher on floating point precision issues"
      ]
    },
    {
      "cell_type": "code",
      "metadata": {
        "ExecuteTime": {
          "end_time": "2021-02-22T12:55:40.086060Z",
          "start_time": "2021-02-22T12:55:40.082157Z"
        },
        "id": "Y2htN9eA9uj2"
      },
      "source": [
        "x = 0.3\n",
        "x"
      ],
      "execution_count": null,
      "outputs": []
    },
    {
      "cell_type": "code",
      "metadata": {
        "ExecuteTime": {
          "end_time": "2021-02-22T12:55:40.090632Z",
          "start_time": "2021-02-22T12:55:40.087392Z"
        },
        "id": "pT8Rrdzl9uj5"
      },
      "source": [
        "3 * 0.1 == x"
      ],
      "execution_count": null,
      "outputs": []
    },
    {
      "cell_type": "code",
      "metadata": {
        "ExecuteTime": {
          "end_time": "2021-02-22T12:55:40.095050Z",
          "start_time": "2021-02-22T12:55:40.091969Z"
        },
        "id": "STHfElvB9uj7"
      },
      "source": [
        "3 * 0.1"
      ],
      "execution_count": null,
      "outputs": []
    },
    {
      "cell_type": "code",
      "metadata": {
        "ExecuteTime": {
          "end_time": "2021-02-22T12:55:40.098740Z",
          "start_time": "2021-02-22T12:55:40.096376Z"
        },
        "id": "YQ94ixYm9uj-"
      },
      "source": [
        "x = tf.constant(3.14)"
      ],
      "execution_count": null,
      "outputs": []
    },
    {
      "cell_type": "code",
      "metadata": {
        "ExecuteTime": {
          "end_time": "2021-02-22T12:55:40.103961Z",
          "start_time": "2021-02-22T12:55:40.100037Z"
        },
        "id": "nQ_uYK5m9ukA"
      },
      "source": [
        "tf.cast(x, dtype=tf.uint8).numpy()"
      ],
      "execution_count": null,
      "outputs": []
    },
    {
      "cell_type": "code",
      "metadata": {
        "ExecuteTime": {
          "end_time": "2021-02-22T12:55:40.108877Z",
          "start_time": "2021-02-22T12:55:40.105194Z"
        },
        "id": "rzklhoHV9ukC"
      },
      "source": [
        "tf.cast(x, dtype=tf.int8)"
      ],
      "execution_count": null,
      "outputs": []
    },
    {
      "cell_type": "code",
      "metadata": {
        "ExecuteTime": {
          "end_time": "2021-02-22T12:55:40.114048Z",
          "start_time": "2021-02-22T12:55:40.110137Z"
        },
        "id": "GOxg1jGe9ukG"
      },
      "source": [
        "tf.cast(tf.cast(x, dtype=tf.int8), dtype=tf.float32)"
      ],
      "execution_count": null,
      "outputs": []
    },
    {
      "cell_type": "markdown",
      "metadata": {
        "id": "GiSWaSveH488"
      },
      "source": [
        "## Numerical Truncation\n",
        "\n",
        "* nearest integer __`i`__ which is closer to zero than __`x`__ is"
      ]
    },
    {
      "cell_type": "code",
      "metadata": {
        "ExecuteTime": {
          "end_time": "2021-02-22T12:55:40.120181Z",
          "start_time": "2021-02-22T12:55:40.115380Z"
        },
        "id": "jhY3NNOAH489"
      },
      "source": [
        "# remove fractional component\n",
        "trunc_x = x-tf.truncatemod(x, tf.constant(1.))\n",
        "trunc_x"
      ],
      "execution_count": null,
      "outputs": []
    },
    {
      "cell_type": "code",
      "metadata": {
        "ExecuteTime": {
          "end_time": "2021-02-22T12:55:40.124959Z",
          "start_time": "2021-02-22T12:55:40.121549Z"
        },
        "id": "OQMiYX8n9ukM"
      },
      "source": [
        "trunc_x.dtype"
      ],
      "execution_count": null,
      "outputs": []
    },
    {
      "cell_type": "markdown",
      "metadata": {
        "id": "k1Ep0DqVH48_"
      },
      "source": [
        "## `tf.math.floor()`\n",
        "\n",
        "* the largest integer __`i`__, such that __`i <= x`__"
      ]
    },
    {
      "cell_type": "code",
      "metadata": {
        "ExecuteTime": {
          "end_time": "2021-02-22T12:55:40.130583Z",
          "start_time": "2021-02-22T12:55:40.126560Z"
        },
        "id": "zm7-466kH49A"
      },
      "source": [
        "tf.math.floor(x)"
      ],
      "execution_count": null,
      "outputs": []
    },
    {
      "cell_type": "code",
      "metadata": {
        "ExecuteTime": {
          "end_time": "2021-02-22T12:55:40.136301Z",
          "start_time": "2021-02-22T12:55:40.132492Z"
        },
        "id": "ttPIoTNmH49E"
      },
      "source": [
        "tf.math.floor(tf.constant(2.01))"
      ],
      "execution_count": null,
      "outputs": []
    },
    {
      "cell_type": "code",
      "metadata": {
        "ExecuteTime": {
          "end_time": "2021-02-22T12:55:40.142334Z",
          "start_time": "2021-02-22T12:55:40.137879Z"
        },
        "id": "0xnpXNzrH49G"
      },
      "source": [
        "tf.math.floor(tf.constant(2.))"
      ],
      "execution_count": null,
      "outputs": []
    },
    {
      "cell_type": "code",
      "metadata": {
        "ExecuteTime": {
          "end_time": "2021-02-22T12:55:40.148069Z",
          "start_time": "2021-02-22T12:55:40.144070Z"
        },
        "id": "2y_1mlNM9ukW"
      },
      "source": [
        "tf.math.floor(tf.constant(-3.14))"
      ],
      "execution_count": null,
      "outputs": []
    },
    {
      "cell_type": "markdown",
      "metadata": {
        "id": "J08a-VkKH49J"
      },
      "source": [
        "## `tf.math.ceil()`\n",
        "\n",
        "* the smallest integer __`i`__, such that __`i >= x`__"
      ]
    },
    {
      "cell_type": "code",
      "metadata": {
        "ExecuteTime": {
          "end_time": "2021-02-22T12:55:40.155737Z",
          "start_time": "2021-02-22T12:55:40.151977Z"
        },
        "id": "iIKHAB8MH49K"
      },
      "source": [
        "tf.math.ceil(x)"
      ],
      "execution_count": null,
      "outputs": []
    },
    {
      "cell_type": "code",
      "metadata": {
        "ExecuteTime": {
          "end_time": "2021-02-22T12:55:40.162722Z",
          "start_time": "2021-02-22T12:55:40.158235Z"
        },
        "id": "ljyv7AgVH49N"
      },
      "source": [
        "tf.math.ceil(tf.constant(2.01))"
      ],
      "execution_count": null,
      "outputs": []
    },
    {
      "cell_type": "code",
      "metadata": {
        "ExecuteTime": {
          "end_time": "2021-02-22T12:55:40.168697Z",
          "start_time": "2021-02-22T12:55:40.164392Z"
        },
        "id": "wVDpB1NBH49S"
      },
      "source": [
        "tf.math.ceil(tf.constant(2.))"
      ],
      "execution_count": null,
      "outputs": []
    },
    {
      "cell_type": "markdown",
      "metadata": {
        "id": "My_UkuVM9ukk"
      },
      "source": [
        "* can __pt.ceil()__ be used in place of __pt.floor()__ ?"
      ]
    },
    {
      "cell_type": "code",
      "metadata": {
        "ExecuteTime": {
          "end_time": "2021-02-22T12:55:40.174504Z",
          "start_time": "2021-02-22T12:55:40.170484Z"
        },
        "id": "KOhbtHaqH49U"
      },
      "source": [
        "tf.math.ceil(x) - 1"
      ],
      "execution_count": null,
      "outputs": []
    },
    {
      "cell_type": "code",
      "metadata": {
        "ExecuteTime": {
          "end_time": "2021-02-22T12:55:40.180441Z",
          "start_time": "2021-02-22T12:55:40.176109Z"
        },
        "id": "a4Fx2HAmH49W"
      },
      "source": [
        "tf.math.ceil(tf.constant(2.01)) - 1"
      ],
      "execution_count": null,
      "outputs": []
    },
    {
      "cell_type": "code",
      "metadata": {
        "ExecuteTime": {
          "end_time": "2021-02-22T12:55:40.186216Z",
          "start_time": "2021-02-22T12:55:40.181864Z"
        },
        "id": "u-IVaToe9ukp"
      },
      "source": [
        "tf.math.ceil(tf.constant(2.)) - 1"
      ],
      "execution_count": null,
      "outputs": []
    },
    {
      "cell_type": "markdown",
      "metadata": {
        "id": "snVbqgra_2rM"
      },
      "source": [
        "## PyTorch arrays\n",
        "* data is stored contiguously in memory"
      ]
    },
    {
      "cell_type": "code",
      "metadata": {
        "ExecuteTime": {
          "end_time": "2021-02-22T12:55:40.192139Z",
          "start_time": "2021-02-22T12:55:40.187988Z"
        },
        "id": "iYPeREHmH49Z"
      },
      "source": [
        "# tensorflow will infer the data type\n",
        "a = tf.constant([1, 4, 2, 5, 3])\n",
        "a, a.dtype"
      ],
      "execution_count": null,
      "outputs": []
    },
    {
      "cell_type": "code",
      "metadata": {
        "ExecuteTime": {
          "end_time": "2021-02-22T12:55:40.198305Z",
          "start_time": "2021-02-22T12:55:40.193705Z"
        },
        "id": "bLLlBh0jH49c"
      },
      "source": [
        "a = tf.constant([3.14, 4, 2, 3])\n",
        "a, a.dtype"
      ],
      "execution_count": null,
      "outputs": []
    },
    {
      "cell_type": "code",
      "metadata": {
        "ExecuteTime": {
          "end_time": "2021-02-22T12:55:40.204744Z",
          "start_time": "2021-02-22T12:55:40.199988Z"
        },
        "id": "Fqro-1wrH49f"
      },
      "source": [
        "# ...or you can be explicit\n",
        "a = tf.constant([1, 2, 3, 4], dtype=tf.float32)\n",
        "a"
      ],
      "execution_count": null,
      "outputs": []
    },
    {
      "cell_type": "code",
      "metadata": {
        "ExecuteTime": {
          "end_time": "2021-02-22T12:55:40.211112Z",
          "start_time": "2021-02-22T12:55:40.206430Z"
        },
        "id": "HjPq14z3H49i"
      },
      "source": [
        "tf.constant([range(i, i + 3) for i in [2, 4, 6]])"
      ],
      "execution_count": null,
      "outputs": []
    },
    {
      "cell_type": "code",
      "metadata": {
        "ExecuteTime": {
          "end_time": "2021-02-22T12:55:40.216756Z",
          "start_time": "2021-02-22T12:55:40.212661Z"
        },
        "id": "QCRdAkhZH49k"
      },
      "source": [
        "tf.zeros(10, dtype=tf.int32)"
      ],
      "execution_count": null,
      "outputs": []
    },
    {
      "cell_type": "code",
      "metadata": {
        "ExecuteTime": {
          "end_time": "2021-02-22T12:55:40.222591Z",
          "start_time": "2021-02-22T12:55:40.218122Z"
        },
        "id": "JEYfcy4AH49m"
      },
      "source": [
        "tf.ones((3, 5), dtype=tf.float64)"
      ],
      "execution_count": null,
      "outputs": []
    },
    {
      "cell_type": "code",
      "metadata": {
        "ExecuteTime": {
          "end_time": "2021-02-22T12:55:40.228220Z",
          "start_time": "2021-02-22T12:55:40.223988Z"
        },
        "id": "_XWOYKMhH493"
      },
      "source": [
        "tf.eye(5)"
      ],
      "execution_count": null,
      "outputs": []
    },
    {
      "cell_type": "code",
      "metadata": {
        "ExecuteTime": {
          "end_time": "2021-02-22T12:55:40.234311Z",
          "start_time": "2021-02-22T12:55:40.229783Z"
        },
        "id": "PujnAxmFH49o"
      },
      "source": [
        "tf.fill((3, 5), 42)"
      ],
      "execution_count": null,
      "outputs": []
    },
    {
      "cell_type": "code",
      "metadata": {
        "ExecuteTime": {
          "end_time": "2021-02-22T12:55:40.239837Z",
          "start_time": "2021-02-22T12:55:40.235730Z"
        },
        "id": "gL4aEPnBH49q"
      },
      "source": [
        "tf.range(0, 20, 2)"
      ],
      "execution_count": null,
      "outputs": []
    },
    {
      "cell_type": "code",
      "metadata": {
        "ExecuteTime": {
          "end_time": "2021-02-22T12:55:40.247743Z",
          "start_time": "2021-02-22T12:55:40.241160Z"
        },
        "id": "ousQ2uqKH49u"
      },
      "source": [
        "tf.linspace(0, 1, 5)"
      ],
      "execution_count": null,
      "outputs": []
    },
    {
      "cell_type": "markdown",
      "metadata": {
        "id": "mieISOa19ulG"
      },
      "source": [
        "## Pseudo-Random Numbers"
      ]
    },
    {
      "cell_type": "code",
      "metadata": {
        "ExecuteTime": {
          "end_time": "2021-02-22T12:55:40.251598Z",
          "start_time": "2021-02-22T12:55:40.249108Z"
        },
        "id": "FLFPJxZF9ulG"
      },
      "source": [
        "tf.random.set_seed(1)"
      ],
      "execution_count": null,
      "outputs": []
    },
    {
      "cell_type": "code",
      "metadata": {
        "ExecuteTime": {
          "end_time": "2021-02-22T12:55:40.257713Z",
          "start_time": "2021-02-22T12:55:40.253179Z"
        },
        "id": "WLiVKYOTH49w"
      },
      "source": [
        "tf.random.normal((3, 3))"
      ],
      "execution_count": null,
      "outputs": []
    },
    {
      "cell_type": "code",
      "metadata": {
        "ExecuteTime": {
          "end_time": "2021-02-22T12:55:40.263639Z",
          "start_time": "2021-02-22T12:55:40.259298Z"
        },
        "id": "r4_XJFMaH49y"
      },
      "source": [
        "tf.random.normal((3, 3), mean=0, stddev=1)"
      ],
      "execution_count": null,
      "outputs": []
    },
    {
      "cell_type": "code",
      "metadata": {
        "ExecuteTime": {
          "end_time": "2021-02-22T12:55:40.269488Z",
          "start_time": "2021-02-22T12:55:40.264953Z"
        },
        "id": "WnG1muSdH491"
      },
      "source": [
        "tf.random.uniform((3, 3), minval=0, maxval=10, dtype=tf.int32)"
      ],
      "execution_count": null,
      "outputs": []
    },
    {
      "cell_type": "markdown",
      "metadata": {
        "id": "Hn7sHGfRH496"
      },
      "source": [
        "## Converting array types"
      ]
    },
    {
      "cell_type": "code",
      "metadata": {
        "ExecuteTime": {
          "end_time": "2021-02-22T12:55:40.277158Z",
          "start_time": "2021-02-22T12:55:40.270866Z"
        },
        "id": "VkeIohcuH496"
      },
      "source": [
        "x = tf.linspace(0, 10, 50)\n",
        "x"
      ],
      "execution_count": null,
      "outputs": []
    },
    {
      "cell_type": "code",
      "metadata": {
        "ExecuteTime": {
          "end_time": "2021-02-22T12:55:40.282357Z",
          "start_time": "2021-02-22T12:55:40.278484Z"
        },
        "id": "a6oEEQCcH498"
      },
      "source": [
        "tf.cast(x,dtype=tf.int32)"
      ],
      "execution_count": null,
      "outputs": []
    },
    {
      "cell_type": "markdown",
      "metadata": {
        "id": "5OHltxoYH49-"
      },
      "source": [
        "## Multi-dimensional Arrays"
      ]
    },
    {
      "cell_type": "code",
      "metadata": {
        "ExecuteTime": {
          "end_time": "2021-02-22T12:55:40.288397Z",
          "start_time": "2021-02-22T12:55:40.283765Z"
        },
        "id": "gst_0xQ9H49_"
      },
      "source": [
        "x2 = tf.random.uniform((3, 4), minval=0, maxval=10, dtype=tf.int32)\n",
        "x2"
      ],
      "execution_count": null,
      "outputs": []
    },
    {
      "cell_type": "markdown",
      "metadata": {
        "id": "gFB5i5tkH4-B"
      },
      "source": [
        "## True \"matrix-style\" indexing"
      ]
    },
    {
      "cell_type": "code",
      "metadata": {
        "ExecuteTime": {
          "end_time": "2021-02-22T12:55:40.293525Z",
          "start_time": "2021-02-22T12:55:40.289801Z"
        },
        "id": "mgPXcIRSH4-B"
      },
      "source": [
        "x2[0, 0]"
      ],
      "execution_count": null,
      "outputs": []
    },
    {
      "cell_type": "code",
      "metadata": {
        "ExecuteTime": {
          "end_time": "2021-02-22T12:55:40.298557Z",
          "start_time": "2021-02-22T12:55:40.295017Z"
        },
        "id": "JVrN3jBdH4-D"
      },
      "source": [
        "x2[2, 0]"
      ],
      "execution_count": null,
      "outputs": []
    },
    {
      "cell_type": "code",
      "metadata": {
        "ExecuteTime": {
          "end_time": "2021-02-22T12:55:40.303875Z",
          "start_time": "2021-02-22T12:55:40.299902Z"
        },
        "id": "VDtNmlwiH4-F"
      },
      "source": [
        "x2[2, -1]"
      ],
      "execution_count": null,
      "outputs": []
    },
    {
      "cell_type": "code",
      "metadata": {
        "ExecuteTime": {
          "end_time": "2021-02-22T12:55:40.310943Z",
          "start_time": "2021-02-22T12:55:40.305225Z"
        },
        "id": "sUurrqzUH4-H"
      },
      "source": [
        "# remember, tensorflow tensors are not mutable; we need to create a variable from it\n",
        "v2 = tf.Variable(x2)\n",
        "v2[0,0].assign(0)\n",
        "v2"
      ],
      "execution_count": null,
      "outputs": []
    },
    {
      "cell_type": "code",
      "metadata": {
        "ExecuteTime": {
          "end_time": "2021-02-22T12:55:40.316771Z",
          "start_time": "2021-02-22T12:55:40.312393Z"
        },
        "id": "z7w0J4ZDH4-J"
      },
      "source": [
        "tf.reshape(tf.range(0, 9), shape=(3,3))"
      ],
      "execution_count": null,
      "outputs": []
    },
    {
      "cell_type": "markdown",
      "metadata": {
        "id": "YavLAYX9H4-M"
      },
      "source": [
        "## Array Slicing"
      ]
    },
    {
      "cell_type": "code",
      "metadata": {
        "ExecuteTime": {
          "end_time": "2021-02-22T12:55:40.322384Z",
          "start_time": "2021-02-22T12:55:40.318103Z"
        },
        "id": "iapW7b5jH4-N"
      },
      "source": [
        "x = tf.range(0, 10)\n",
        "x[:5]"
      ],
      "execution_count": null,
      "outputs": []
    },
    {
      "cell_type": "code",
      "metadata": {
        "ExecuteTime": {
          "end_time": "2021-02-22T12:55:40.327664Z",
          "start_time": "2021-02-22T12:55:40.323720Z"
        },
        "id": "eNjX0OueH4-R"
      },
      "source": [
        "x[5:]"
      ],
      "execution_count": null,
      "outputs": []
    },
    {
      "cell_type": "code",
      "metadata": {
        "ExecuteTime": {
          "end_time": "2021-02-22T12:55:40.333043Z",
          "start_time": "2021-02-22T12:55:40.329028Z"
        },
        "id": "KLRZuFo7H4-T"
      },
      "source": [
        "x[4:7]"
      ],
      "execution_count": null,
      "outputs": []
    },
    {
      "cell_type": "code",
      "metadata": {
        "ExecuteTime": {
          "end_time": "2021-02-22T12:55:40.338032Z",
          "start_time": "2021-02-22T12:55:40.334305Z"
        },
        "id": "QALndZ3tH4-X"
      },
      "source": [
        "x[::2]"
      ],
      "execution_count": null,
      "outputs": []
    },
    {
      "cell_type": "code",
      "metadata": {
        "ExecuteTime": {
          "end_time": "2021-02-22T12:55:40.343173Z",
          "start_time": "2021-02-22T12:55:40.339388Z"
        },
        "id": "B1b5L1xhH4-Z"
      },
      "source": [
        "x[1::2]"
      ],
      "execution_count": null,
      "outputs": []
    },
    {
      "cell_type": "code",
      "metadata": {
        "ExecuteTime": {
          "end_time": "2021-02-22T12:55:40.348537Z",
          "start_time": "2021-02-22T12:55:40.344541Z"
        },
        "id": "8uAX1x4eH4-b"
      },
      "source": [
        "x[::-1]"
      ],
      "execution_count": null,
      "outputs": []
    },
    {
      "cell_type": "code",
      "metadata": {
        "ExecuteTime": {
          "end_time": "2021-02-22T12:55:40.353941Z",
          "start_time": "2021-02-22T12:55:40.349907Z"
        },
        "id": "j_F5K41e9ul1"
      },
      "source": [
        "tf.reverse(x, axis=[0])"
      ],
      "execution_count": null,
      "outputs": []
    },
    {
      "cell_type": "code",
      "metadata": {
        "ExecuteTime": {
          "end_time": "2021-02-22T12:55:40.359999Z",
          "start_time": "2021-02-22T12:55:40.355456Z"
        },
        "id": "WjDTL2xyH4-e"
      },
      "source": [
        "tf.reverse(x, axis=[0])[5::2]"
      ],
      "execution_count": null,
      "outputs": []
    },
    {
      "cell_type": "markdown",
      "metadata": {
        "id": "J0azkBf7H4-h"
      },
      "source": [
        "## Filtering 1-dimensional data"
      ]
    },
    {
      "cell_type": "code",
      "metadata": {
        "ExecuteTime": {
          "end_time": "2021-02-22T12:55:40.364287Z",
          "start_time": "2021-02-22T12:55:40.361340Z"
        },
        "id": "NALu7pJqH4-h"
      },
      "source": [
        "x = tf.constant([ 1, 0, 5, 2, 1, 0, 8, 0, 0 ])"
      ],
      "execution_count": null,
      "outputs": []
    },
    {
      "cell_type": "code",
      "metadata": {
        "ExecuteTime": {
          "end_time": "2021-02-22T12:55:40.369972Z",
          "start_time": "2021-02-22T12:55:40.365704Z"
        },
        "id": "LAW8kJJLH4-j"
      },
      "source": [
        "tf.where(x != 0)"
      ],
      "execution_count": null,
      "outputs": []
    },
    {
      "cell_type": "code",
      "metadata": {
        "id": "EyLZzRlfBkZJ"
      },
      "source": [
        "x != 0"
      ],
      "execution_count": null,
      "outputs": []
    },
    {
      "cell_type": "code",
      "metadata": {
        "ExecuteTime": {
          "end_time": "2021-02-22T12:55:40.376857Z",
          "start_time": "2021-02-22T12:55:40.371369Z"
        },
        "id": "-OZtPXI1H4-l"
      },
      "source": [
        "x[ x != 0 ]"
      ],
      "execution_count": null,
      "outputs": []
    },
    {
      "cell_type": "code",
      "metadata": {
        "ExecuteTime": {
          "end_time": "2021-02-22T12:55:40.382863Z",
          "start_time": "2021-02-22T12:55:40.378231Z"
        },
        "id": "BeHSIE_MH4-o"
      },
      "source": [
        "x[ x < 3 ]"
      ],
      "execution_count": null,
      "outputs": []
    },
    {
      "cell_type": "markdown",
      "metadata": {
        "id": "U7iuruo4H4-q"
      },
      "source": [
        "## Filtering 2-dimensional data"
      ]
    },
    {
      "cell_type": "code",
      "metadata": {
        "ExecuteTime": {
          "end_time": "2021-02-22T12:55:40.388579Z",
          "start_time": "2021-02-22T12:55:40.384228Z"
        },
        "id": "nQmeV8mVH4-q"
      },
      "source": [
        "x = tf.constant([[1, 0, 0], [0, 5, 0], [7, 8, 0]])\n",
        "x"
      ],
      "execution_count": null,
      "outputs": []
    },
    {
      "cell_type": "code",
      "metadata": {
        "ExecuteTime": {
          "end_time": "2021-02-22T12:55:40.394156Z",
          "start_time": "2021-02-22T12:55:40.390015Z"
        },
        "id": "s-0coky5H4-s"
      },
      "source": [
        "# produces two arrays, one with x coords, one with y coords\n",
        "nz_idx = tf.where( x != 0 )\n",
        "nz_idx"
      ],
      "execution_count": null,
      "outputs": []
    },
    {
      "cell_type": "code",
      "metadata": {
        "ExecuteTime": {
          "end_time": "2021-02-22T12:55:40.400087Z",
          "start_time": "2021-02-22T12:55:40.395580Z"
        },
        "id": "4oqoImh69umE"
      },
      "source": [
        "x[x != 0]"
      ],
      "execution_count": null,
      "outputs": []
    },
    {
      "cell_type": "code",
      "metadata": {
        "ExecuteTime": {
          "end_time": "2021-02-22T12:55:40.405701Z",
          "start_time": "2021-02-22T12:55:40.401556Z"
        },
        "id": "ILF5uDXn9umI"
      },
      "source": [
        "y = tf.reshape(tf.range(1, 10), shape=(3,3))\n",
        "y"
      ],
      "execution_count": null,
      "outputs": []
    },
    {
      "cell_type": "code",
      "metadata": {
        "ExecuteTime": {
          "end_time": "2021-02-22T12:55:40.411154Z",
          "start_time": "2021-02-22T12:55:40.407000Z"
        },
        "id": "0Bf38eQrAuZ5"
      },
      "source": [
        "tf.gather(y, axis=0, indices=tf.constant([0,2]))"
      ],
      "execution_count": null,
      "outputs": []
    },
    {
      "cell_type": "code",
      "metadata": {
        "ExecuteTime": {
          "end_time": "2021-02-22T12:55:40.419633Z",
          "start_time": "2021-02-22T12:55:40.415585Z"
        },
        "id": "CXue7JnFH4-u"
      },
      "source": [
        "tf.gather(y, axis=1, indices=tf.constant([0,2]))"
      ],
      "execution_count": null,
      "outputs": []
    },
    {
      "cell_type": "code",
      "metadata": {
        "ExecuteTime": {
          "end_time": "2021-02-22T12:55:40.426316Z",
          "start_time": "2021-02-22T12:55:40.421277Z"
        },
        "id": "ajidZs1KAuZ5"
      },
      "source": [
        "tf.experimental.numpy.triu(y)"
      ],
      "execution_count": null,
      "outputs": []
    },
    {
      "cell_type": "code",
      "metadata": {
        "ExecuteTime": {
          "end_time": "2021-02-22T12:55:40.431860Z",
          "start_time": "2021-02-22T12:55:40.427838Z"
        },
        "id": "TSQt0kmd9umO"
      },
      "source": [
        "tf.experimental.numpy.tril(y)"
      ],
      "execution_count": null,
      "outputs": []
    },
    {
      "cell_type": "code",
      "metadata": {
        "ExecuteTime": {
          "end_time": "2021-02-22T12:55:40.437487Z",
          "start_time": "2021-02-22T12:55:40.433173Z"
        },
        "id": "jVZh015S9umQ"
      },
      "source": [
        "tf.experimental.numpy.tril(y).T #transpose"
      ],
      "execution_count": null,
      "outputs": []
    },
    {
      "cell_type": "markdown",
      "metadata": {
        "id": "23ED3b7BH4-y"
      },
      "source": [
        "## Multi-dimensional subarrays"
      ]
    },
    {
      "cell_type": "code",
      "metadata": {
        "ExecuteTime": {
          "end_time": "2021-02-22T12:55:40.442258Z",
          "start_time": "2021-02-22T12:55:40.438982Z"
        },
        "id": "X_lAYYQqH4-z"
      },
      "source": [
        "x2"
      ],
      "execution_count": null,
      "outputs": []
    },
    {
      "cell_type": "code",
      "metadata": {
        "ExecuteTime": {
          "end_time": "2021-02-22T12:55:40.447518Z",
          "start_time": "2021-02-22T12:55:40.443627Z"
        },
        "id": "ch7yUUl6H4-1"
      },
      "source": [
        "x2[:2, :3]"
      ],
      "execution_count": null,
      "outputs": []
    },
    {
      "cell_type": "code",
      "metadata": {
        "ExecuteTime": {
          "end_time": "2021-02-22T12:55:40.452709Z",
          "start_time": "2021-02-22T12:55:40.448832Z"
        },
        "id": "Vlfjt5joH4-6"
      },
      "source": [
        "x2[:3, ::2]"
      ],
      "execution_count": null,
      "outputs": []
    },
    {
      "cell_type": "code",
      "metadata": {
        "ExecuteTime": {
          "end_time": "2021-02-22T12:55:40.458070Z",
          "start_time": "2021-02-22T12:55:40.453988Z"
        },
        "id": "rSkSNj_F9umW"
      },
      "source": [
        "x2[::-1, ::-1]"
      ],
      "execution_count": null,
      "outputs": []
    },
    {
      "cell_type": "code",
      "metadata": {
        "ExecuteTime": {
          "end_time": "2021-02-22T13:01:53.351799Z",
          "start_time": "2021-02-22T13:01:53.345110Z"
        },
        "id": "GPZCnkHYH4-8"
      },
      "source": [
        "# reverse on the row axis only\n",
        "tf.reverse(x2, axis=[0])"
      ],
      "execution_count": null,
      "outputs": []
    },
    {
      "cell_type": "code",
      "metadata": {
        "ExecuteTime": {
          "end_time": "2021-02-22T12:55:40.474135Z",
          "start_time": "2021-02-22T12:55:40.469688Z"
        },
        "id": "HNjacByr9uma"
      },
      "source": [
        "indices = tf.range(tf.size(x2) - 1, limit=-1, delta=-1)\n",
        "indices"
      ],
      "execution_count": null,
      "outputs": []
    },
    {
      "cell_type": "code",
      "metadata": {
        "ExecuteTime": {
          "end_time": "2021-02-22T12:55:40.480570Z",
          "start_time": "2021-02-22T12:55:40.475507Z"
        },
        "id": "y5tdmRlj9umd"
      },
      "source": [
        "tf.experimental.numpy.take(x2, indices).reshape(x2.shape) #x2[::-1, ::-1]"
      ],
      "execution_count": null,
      "outputs": []
    },
    {
      "cell_type": "markdown",
      "metadata": {
        "id": "9JSa9_ZEH4-_"
      },
      "source": [
        "## Subarray Views"
      ]
    },
    {
      "cell_type": "code",
      "metadata": {
        "ExecuteTime": {
          "end_time": "2021-02-22T12:55:40.485378Z",
          "start_time": "2021-02-22T12:55:40.482059Z"
        },
        "id": "l9yeU_QvH4-_"
      },
      "source": [
        "x2, id(x2)"
      ],
      "execution_count": null,
      "outputs": []
    },
    {
      "cell_type": "code",
      "metadata": {
        "ExecuteTime": {
          "end_time": "2021-02-22T12:55:40.491562Z",
          "start_time": "2021-02-22T12:55:40.486807Z"
        },
        "id": "LCVe4vdPH4_B"
      },
      "source": [
        "v2_sub = tf.Variable(x2[:2, :2])\n",
        "v2_sub, id(v2_sub)"
      ],
      "execution_count": null,
      "outputs": []
    },
    {
      "cell_type": "code",
      "metadata": {
        "ExecuteTime": {
          "end_time": "2021-02-22T12:55:40.497173Z",
          "start_time": "2021-02-22T12:55:40.492946Z"
        },
        "id": "caA9uw2mH4_D"
      },
      "source": [
        "v2_sub[0,0].assign(99)\n",
        "v2_sub"
      ],
      "execution_count": null,
      "outputs": []
    },
    {
      "cell_type": "code",
      "metadata": {
        "ExecuteTime": {
          "end_time": "2021-02-22T12:55:40.502270Z",
          "start_time": "2021-02-22T12:55:40.498560Z"
        },
        "id": "wvAPuETHH4_F"
      },
      "source": [
        "v2_sub # changes v2 as well, since the subarray has references to the original"
      ],
      "execution_count": null,
      "outputs": []
    },
    {
      "cell_type": "markdown",
      "metadata": {
        "id": "p1AgH9_7H4_M"
      },
      "source": [
        "## PyTorch ATen Functions\n",
        "* operate on tensors as on contiguous blobs of data in memory\n",
        "* _vectorized_ wrapper for a function that takes a fixed number of specific inputs and produces a fixed number of specific outputs"
      ]
    },
    {
      "cell_type": "markdown",
      "metadata": {
        "id": "xxsA3_L9H4_P"
      },
      "source": [
        "| Operator | ATen            | Description                         |\n",
        "|----------|-----------------|-------------------------------------|\n",
        "|   +      | pt.add          | Addition (e.g., 1 + 1 = 2)          |\n",
        "|   -      | pt.subtract     | Subtraction (e.g., 3 - 2 = 1)       |\n",
        "|   -      | pt.negative     | Unary negation (e.g., -2)           |\n",
        "|   *      | pt.multiply     | Multiplication (e.g., 2 * 3 = 6)    |\n",
        "|   /      | pt.divide       | Division (e.g., 3 / 2 = 1.5)        |\n",
        "|   //     | pt.floor_divide | Floor division (e.g., 3 // 2 = 1)   |\n",
        "|   **     | pt.power        | Exponentiation (e.g., 2 ** 3 = 8)   |\n",
        "|   %      | pt.mod          | Modulus/remainder (e.g., 9 % 4 = 1) |"
      ]
    },
    {
      "cell_type": "markdown",
      "metadata": {
        "id": "K7Hx62-vH4_G"
      },
      "source": [
        "## Vectorized Operations"
      ]
    },
    {
      "cell_type": "code",
      "metadata": {
        "ExecuteTime": {
          "end_time": "2021-02-22T12:55:43.019337Z",
          "start_time": "2021-02-22T12:55:40.503680Z"
        },
        "id": "mirPQHg6c2LX"
      },
      "source": [
        "tensorflo = tf.range(1, limit=1_000_000)\n",
        "%timeit 1 / tensorflo"
      ],
      "execution_count": null,
      "outputs": []
    },
    {
      "cell_type": "code",
      "metadata": {
        "ExecuteTime": {
          "end_time": "2021-02-22T12:55:43.025571Z",
          "start_time": "2021-02-22T12:55:43.020837Z"
        },
        "id": "52zp8xGDH4_N"
      },
      "source": [
        "x = tf.reshape(tf.range(0, limit=9),(3, 3))\n",
        "2 ** x"
      ],
      "execution_count": null,
      "outputs": []
    },
    {
      "cell_type": "code",
      "metadata": {
        "ExecuteTime": {
          "end_time": "2021-02-22T12:55:43.031838Z",
          "start_time": "2021-02-22T12:55:43.027053Z"
        },
        "id": "v6NQyezYH4_O"
      },
      "source": [
        "x = tf.range(0, limit=4,dtype=tf.float32)\n",
        "-(0.5 * x + 1) ** 2"
      ],
      "execution_count": null,
      "outputs": []
    },
    {
      "cell_type": "markdown",
      "metadata": {
        "id": "FXZVty5hH4_P"
      },
      "source": [
        "## Exponents and Logarithms "
      ]
    },
    {
      "cell_type": "code",
      "metadata": {
        "ExecuteTime": {
          "end_time": "2021-02-22T12:55:43.037074Z",
          "start_time": "2021-02-22T12:55:43.033228Z"
        },
        "id": "PhMyaPSPH4_Q"
      },
      "source": [
        "x = tf.constant([1., 2., 3.])\n",
        "tf.math.exp(x)"
      ],
      "execution_count": null,
      "outputs": []
    },
    {
      "cell_type": "code",
      "metadata": {
        "ExecuteTime": {
          "end_time": "2021-02-22T12:55:43.042082Z",
          "start_time": "2021-02-22T12:55:43.038408Z"
        },
        "id": "zNI6HN93H4_U"
      },
      "source": [
        "tf.pow(3, x)"
      ],
      "execution_count": null,
      "outputs": []
    },
    {
      "cell_type": "code",
      "metadata": {
        "ExecuteTime": {
          "end_time": "2021-02-22T12:55:43.047099Z",
          "start_time": "2021-02-22T12:55:43.043414Z"
        },
        "id": "fVrLwkgxH4_W"
      },
      "source": [
        "tf.math.log(x)"
      ],
      "execution_count": null,
      "outputs": []
    },
    {
      "cell_type": "code",
      "metadata": {
        "ExecuteTime": {
          "end_time": "2021-02-22T12:55:43.053074Z",
          "start_time": "2021-02-22T12:55:43.048493Z"
        },
        "id": "FvNKvOboH4_X"
      },
      "source": [
        "tf.experimental.numpy.log2(tf.constant([1., 256., 65536.]))"
      ],
      "execution_count": null,
      "outputs": []
    },
    {
      "cell_type": "code",
      "metadata": {
        "ExecuteTime": {
          "end_time": "2021-02-22T12:55:43.058851Z",
          "start_time": "2021-02-22T12:55:43.054502Z"
        },
        "id": "pzEyhXJCH4_b"
      },
      "source": [
        "tf.experimental.numpy.log10(tf.constant([1_000., 1_000_000., 10. ** 10]))"
      ],
      "execution_count": null,
      "outputs": []
    },
    {
      "cell_type": "markdown",
      "metadata": {
        "id": "P1RwrRf0H4_d"
      },
      "source": [
        "## Aggregations"
      ]
    },
    {
      "cell_type": "code",
      "metadata": {
        "ExecuteTime": {
          "end_time": "2021-02-22T12:55:43.064553Z",
          "start_time": "2021-02-22T12:55:43.060249Z"
        },
        "id": "fGPZwXV29um1"
      },
      "source": [
        "x = tf.reshape(tf.range(0, 15), (3, 5))\n",
        "x"
      ],
      "execution_count": null,
      "outputs": []
    },
    {
      "cell_type": "code",
      "metadata": {
        "ExecuteTime": {
          "end_time": "2021-02-22T12:55:43.069396Z",
          "start_time": "2021-02-22T12:55:43.065943Z"
        },
        "id": "-ctBvP8N9um4"
      },
      "source": [
        "tf.math.reduce_sum(x)"
      ],
      "execution_count": null,
      "outputs": []
    },
    {
      "cell_type": "code",
      "metadata": {
        "ExecuteTime": {
          "end_time": "2021-02-22T12:55:43.074605Z",
          "start_time": "2021-02-22T12:55:43.070868Z"
        },
        "id": "mye3s4U19um5"
      },
      "source": [
        "tf.math.reduce_sum(x, axis=0)"
      ],
      "execution_count": null,
      "outputs": []
    },
    {
      "cell_type": "code",
      "metadata": {
        "ExecuteTime": {
          "end_time": "2021-02-22T12:55:43.081259Z",
          "start_time": "2021-02-22T12:55:43.075949Z"
        },
        "id": "XxzZuj8A9um7"
      },
      "source": [
        "tf.math.reduce_sum(x, axis=1, keepdims=True)"
      ],
      "execution_count": null,
      "outputs": []
    },
    {
      "cell_type": "code",
      "metadata": {
        "ExecuteTime": {
          "end_time": "2021-02-22T12:55:43.086265Z",
          "start_time": "2021-02-22T12:55:43.082608Z"
        },
        "id": "8F1FQ3mY9um8"
      },
      "source": [
        "tf.math.reduce_sum(x, axis=1)"
      ],
      "execution_count": null,
      "outputs": []
    },
    {
      "cell_type": "code",
      "metadata": {
        "ExecuteTime": {
          "end_time": "2021-02-22T12:55:43.093219Z",
          "start_time": "2021-02-22T12:55:43.087625Z"
        },
        "id": "RF91QSDL9um-"
      },
      "source": [
        "x = tf.cast(x, dtype=tf.float64)\n",
        "tf.math.reduce_mean(x), tf.math.reduce_std(x)"
      ],
      "execution_count": null,
      "outputs": []
    },
    {
      "cell_type": "markdown",
      "metadata": {
        "id": "QAcsKw25E0b7"
      },
      "source": [
        "Copyright 2020 CounterFactual.AI LLC. Licensed under the Apache License, Version 2.0 (the \"License\"); you may not use this file except in compliance with the License. You may obtain a copy of the License at http://www.apache.org/licenses/LICENSE-2.0 Unless required by applicable law or agreed to in writing, software distributed under the License is distributed on an \"AS IS\" BASIS, WITHOUT WARRANTIES OR CONDITIONS OF ANY KIND, either express or implied. See the License for the specific language governing permissions and limitations under the License."
      ]
    }
  ]
}