{
  "nbformat": 4,
  "nbformat_minor": 0,
  "metadata": {
    "accelerator": "GPU",
    "colab": {
      "name": "Solution_Tensorflow_Tensors.ipynb",
      "provenance": [],
      "collapsed_sections": []
    },
    "kernelspec": {
      "display_name": "Python 3",
      "language": "python",
      "name": "python3"
    },
    "language_info": {
      "codemirror_mode": {
        "name": "ipython",
        "version": 3
      },
      "file_extension": ".py",
      "mimetype": "text/x-python",
      "name": "python",
      "nbconvert_exporter": "python",
      "pygments_lexer": "ipython3",
      "version": "3.7.6"
    },
    "toc": {
      "base_numbering": 1,
      "nav_menu": {},
      "number_sections": true,
      "sideBar": true,
      "skip_h1_title": false,
      "title_cell": "Table of Contents",
      "title_sidebar": "Contents",
      "toc_cell": false,
      "toc_position": {},
      "toc_section_display": true,
      "toc_window_display": false
    },
    "varInspector": {
      "cols": {
        "lenName": 16,
        "lenType": 16,
        "lenVar": 40
      },
      "kernels_config": {
        "python": {
          "delete_cmd_postfix": "",
          "delete_cmd_prefix": "del ",
          "library": "var_list.py",
          "varRefreshCmd": "print(var_dic_list())"
        },
        "r": {
          "delete_cmd_postfix": ") ",
          "delete_cmd_prefix": "rm(",
          "library": "var_list.r",
          "varRefreshCmd": "cat(var_dic_list()) "
        }
      },
      "types_to_exclude": [
        "module",
        "function",
        "builtin_function_or_method",
        "instance",
        "_Feature"
      ],
      "window_display": false
    }
  },
  "cells": [
    {
      "cell_type": "markdown",
      "metadata": {
        "id": "A-3dp15kRy4N"
      },
      "source": [
        "<a href=\"https://colab.research.google.com/github/osipov/edu/blob/master/tf0/Solution_Tensorflow_Tensors.ipynb\" target=\"_blank\"><img src=\"https://colab.research.google.com/assets/colab-badge.svg\"/></a>"
      ]
    },
    {
      "cell_type": "markdown",
      "metadata": {
        "id": "CmuseiqGzCWr"
      },
      "source": [
        "## Import the __`tensorflow`__ package"
      ]
    },
    {
      "cell_type": "code",
      "metadata": {
        "ExecuteTime": {
          "end_time": "2021-02-22T14:19:47.602840Z",
          "start_time": "2021-02-22T14:19:45.862083Z"
        },
        "id": "eU6P6sF8zCWs"
      },
      "source": [
        "import tensorflow as tf\n",
        "tf.random.set_seed(0);"
      ],
      "execution_count": 1,
      "outputs": []
    },
    {
      "cell_type": "markdown",
      "metadata": {
        "id": "f6Snb3-nzCWw"
      },
      "source": [
        "## Create a vector of ten zeros"
      ]
    },
    {
      "cell_type": "code",
      "metadata": {
        "ExecuteTime": {
          "end_time": "2021-02-22T14:19:48.319096Z",
          "start_time": "2021-02-22T14:19:47.604523Z"
        },
        "colab": {
          "base_uri": "https://localhost:8080/"
        },
        "id": "cqTEF0MbzCWx",
        "outputId": "d5e72815-0ba9-4b76-fc8a-0f92ab71836a"
      },
      "source": [
        "v = tf.zeros(10)\n",
        "v"
      ],
      "execution_count": 2,
      "outputs": [
        {
          "output_type": "execute_result",
          "data": {
            "text/plain": [
              "<tf.Tensor: shape=(10,), dtype=float32, numpy=array([0., 0., 0., 0., 0., 0., 0., 0., 0., 0.], dtype=float32)>"
            ]
          },
          "metadata": {
            "tags": []
          },
          "execution_count": 2
        }
      ]
    },
    {
      "cell_type": "markdown",
      "metadata": {
        "id": "I---dV8dzCW4"
      },
      "source": [
        "## Create a vector of size ten with nine zeros and a 1 in the fifth position"
      ]
    },
    {
      "cell_type": "code",
      "metadata": {
        "ExecuteTime": {
          "end_time": "2021-02-22T14:19:48.327731Z",
          "start_time": "2021-02-22T14:19:48.320862Z"
        },
        "colab": {
          "base_uri": "https://localhost:8080/"
        },
        "id": "ADRsT7jazCW4",
        "outputId": "126418e0-5f9d-4541-f9fa-088d107be6e1"
      },
      "source": [
        "v = tf.Variable(tf.zeros(10))\n",
        "v[4].assign(1)\n",
        "v"
      ],
      "execution_count": 3,
      "outputs": [
        {
          "output_type": "execute_result",
          "data": {
            "text/plain": [
              "<tf.Variable 'Variable:0' shape=(10,) dtype=float32, numpy=array([0., 0., 0., 0., 1., 0., 0., 0., 0., 0.], dtype=float32)>"
            ]
          },
          "metadata": {
            "tags": []
          },
          "execution_count": 3
        }
      ]
    },
    {
      "cell_type": "markdown",
      "metadata": {
        "id": "axtpynf4zCW7"
      },
      "source": [
        "## Create a vector with values ranging from 10 to 49"
      ]
    },
    {
      "cell_type": "code",
      "metadata": {
        "ExecuteTime": {
          "end_time": "2021-02-22T14:19:48.333260Z",
          "start_time": "2021-02-22T14:19:48.329236Z"
        },
        "colab": {
          "base_uri": "https://localhost:8080/"
        },
        "id": "oRlwKd1uzCW8",
        "outputId": "d8404361-c853-4a6f-bf26-83d95cb7760a"
      },
      "source": [
        "v = tf.range(10, 50)\n",
        "v"
      ],
      "execution_count": 41,
      "outputs": [
        {
          "output_type": "execute_result",
          "data": {
            "text/plain": [
              "<tf.Tensor: shape=(40,), dtype=int32, numpy=\n",
              "array([10, 11, 12, 13, 14, 15, 16, 17, 18, 19, 20, 21, 22, 23, 24, 25, 26,\n",
              "       27, 28, 29, 30, 31, 32, 33, 34, 35, 36, 37, 38, 39, 40, 41, 42, 43,\n",
              "       44, 45, 46, 47, 48, 49], dtype=int32)>"
            ]
          },
          "metadata": {
            "tags": []
          },
          "execution_count": 41
        }
      ]
    },
    {
      "cell_type": "markdown",
      "metadata": {
        "id": "iLov9rqUzCXB"
      },
      "source": [
        "## Reverse the previous vector"
      ]
    },
    {
      "cell_type": "code",
      "metadata": {
        "ExecuteTime": {
          "end_time": "2021-02-22T14:19:48.339125Z",
          "start_time": "2021-02-22T14:19:48.334619Z"
        },
        "colab": {
          "base_uri": "https://localhost:8080/"
        },
        "id": "7tCYJBCMzCXC",
        "outputId": "34fd3ca8-4c47-46cf-95ea-743e360857fc"
      },
      "source": [
        "v[::-1]"
      ],
      "execution_count": 42,
      "outputs": [
        {
          "output_type": "execute_result",
          "data": {
            "text/plain": [
              "<tf.Tensor: shape=(40,), dtype=int32, numpy=\n",
              "array([49, 48, 47, 46, 45, 44, 43, 42, 41, 40, 39, 38, 37, 36, 35, 34, 33,\n",
              "       32, 31, 30, 29, 28, 27, 26, 25, 24, 23, 22, 21, 20, 19, 18, 17, 16,\n",
              "       15, 14, 13, 12, 11, 10], dtype=int32)>"
            ]
          },
          "metadata": {
            "tags": []
          },
          "execution_count": 42
        }
      ]
    },
    {
      "cell_type": "markdown",
      "metadata": {
        "id": "pGbZs19bzCXF"
      },
      "source": [
        "## Create a 3x3 matrix with values ranging from 0 to 8"
      ]
    },
    {
      "cell_type": "code",
      "metadata": {
        "ExecuteTime": {
          "end_time": "2021-02-22T14:19:48.344899Z",
          "start_time": "2021-02-22T14:19:48.340460Z"
        },
        "colab": {
          "base_uri": "https://localhost:8080/"
        },
        "id": "dAj7IEFUzCXF",
        "outputId": "0f6a4d01-622a-485e-a176-cf33f22e2d7b"
      },
      "source": [
        "m = tf.reshape(tf.range(0, 9),(3, 3))\n",
        "m"
      ],
      "execution_count": 6,
      "outputs": [
        {
          "output_type": "execute_result",
          "data": {
            "text/plain": [
              "<tf.Tensor: shape=(3, 3), dtype=int32, numpy=\n",
              "array([[0, 1, 2],\n",
              "       [3, 4, 5],\n",
              "       [6, 7, 8]], dtype=int32)>"
            ]
          },
          "metadata": {
            "tags": []
          },
          "execution_count": 6
        }
      ]
    },
    {
      "cell_type": "markdown",
      "metadata": {
        "id": "plNf0tAFzCXI"
      },
      "source": [
        "## Find the indices of the non-zero elements of the following array:"
      ]
    },
    {
      "cell_type": "code",
      "metadata": {
        "ExecuteTime": {
          "end_time": "2021-02-22T14:19:48.350316Z",
          "start_time": "2021-02-22T14:19:48.346209Z"
        },
        "colab": {
          "base_uri": "https://localhost:8080/"
        },
        "id": "g0bp5VuNzCXJ",
        "outputId": "67ed4966-11d0-461e-c46f-ae96bce1cf7e"
      },
      "source": [
        "v = tf.constant([1, 2, 0, 0, 4, 0]) # Given\n",
        "v"
      ],
      "execution_count": 7,
      "outputs": [
        {
          "output_type": "execute_result",
          "data": {
            "text/plain": [
              "<tf.Tensor: shape=(6,), dtype=int32, numpy=array([1, 2, 0, 0, 4, 0], dtype=int32)>"
            ]
          },
          "metadata": {
            "tags": []
          },
          "execution_count": 7
        }
      ]
    },
    {
      "cell_type": "code",
      "metadata": {
        "ExecuteTime": {
          "end_time": "2021-02-22T14:19:48.356218Z",
          "start_time": "2021-02-22T14:19:48.352414Z"
        },
        "colab": {
          "base_uri": "https://localhost:8080/"
        },
        "id": "CMG3ABDuzCXL",
        "outputId": "985d9230-0d34-4794-d506-4f7691082144"
      },
      "source": [
        "tf.where(v!=0)"
      ],
      "execution_count": 8,
      "outputs": [
        {
          "output_type": "execute_result",
          "data": {
            "text/plain": [
              "<tf.Tensor: shape=(3, 1), dtype=int64, numpy=\n",
              "array([[0],\n",
              "       [1],\n",
              "       [4]])>"
            ]
          },
          "metadata": {
            "tags": []
          },
          "execution_count": 8
        }
      ]
    },
    {
      "cell_type": "code",
      "metadata": {
        "ExecuteTime": {
          "end_time": "2021-02-22T14:19:48.363882Z",
          "start_time": "2021-02-22T14:19:48.358134Z"
        },
        "colab": {
          "base_uri": "https://localhost:8080/"
        },
        "id": "jchFAWS7C1tY",
        "outputId": "930b65ec-bf8f-4e28-b949-d223a6dc95c7"
      },
      "source": [
        "v[v!=0]"
      ],
      "execution_count": 9,
      "outputs": [
        {
          "output_type": "execute_result",
          "data": {
            "text/plain": [
              "<tf.Tensor: shape=(3,), dtype=int32, numpy=array([1, 2, 4], dtype=int32)>"
            ]
          },
          "metadata": {
            "tags": []
          },
          "execution_count": 9
        }
      ]
    },
    {
      "cell_type": "code",
      "metadata": {
        "ExecuteTime": {
          "end_time": "2021-02-22T14:19:48.368842Z",
          "start_time": "2021-02-22T14:19:48.365142Z"
        },
        "colab": {
          "base_uri": "https://localhost:8080/"
        },
        "id": "whLL72hxGBg6",
        "outputId": "73184510-1959-4f63-dc76-d343265cb02d"
      },
      "source": [
        "# same, but preserves shape\n",
        "tf.gather(v, indices=tf.where(v!=0))"
      ],
      "execution_count": 10,
      "outputs": [
        {
          "output_type": "execute_result",
          "data": {
            "text/plain": [
              "<tf.Tensor: shape=(3, 1), dtype=int32, numpy=\n",
              "array([[1],\n",
              "       [2],\n",
              "       [4]], dtype=int32)>"
            ]
          },
          "metadata": {
            "tags": []
          },
          "execution_count": 10
        }
      ]
    },
    {
      "cell_type": "markdown",
      "metadata": {
        "id": "r0NwWieZzCXO"
      },
      "source": [
        "## Create a 5x5 identity matrix"
      ]
    },
    {
      "cell_type": "code",
      "metadata": {
        "ExecuteTime": {
          "end_time": "2021-02-22T14:19:48.374556Z",
          "start_time": "2021-02-22T14:19:48.370231Z"
        },
        "colab": {
          "base_uri": "https://localhost:8080/"
        },
        "id": "wIS7MHEEzCXO",
        "outputId": "9603228e-fd2f-4d96-cebc-c4bed14394c6"
      },
      "source": [
        "m = tf.eye(5)\n",
        "m"
      ],
      "execution_count": 11,
      "outputs": [
        {
          "output_type": "execute_result",
          "data": {
            "text/plain": [
              "<tf.Tensor: shape=(5, 5), dtype=float32, numpy=\n",
              "array([[1., 0., 0., 0., 0.],\n",
              "       [0., 1., 0., 0., 0.],\n",
              "       [0., 0., 1., 0., 0.],\n",
              "       [0., 0., 0., 1., 0.],\n",
              "       [0., 0., 0., 0., 1.]], dtype=float32)>"
            ]
          },
          "metadata": {
            "tags": []
          },
          "execution_count": 11
        }
      ]
    },
    {
      "cell_type": "markdown",
      "metadata": {
        "id": "6djlGYnOzCXR"
      },
      "source": [
        "## Create a 3x3x3 array with random values"
      ]
    },
    {
      "cell_type": "code",
      "metadata": {
        "ExecuteTime": {
          "end_time": "2021-02-22T14:19:48.380258Z",
          "start_time": "2021-02-22T14:19:48.376047Z"
        },
        "colab": {
          "base_uri": "https://localhost:8080/"
        },
        "id": "7WkWYz7wzCXR",
        "outputId": "6174fd8b-038d-4a0b-c145-d60adf1c30b7"
      },
      "source": [
        "a = tf.random.uniform((3, 3, 3))\n",
        "a"
      ],
      "execution_count": 12,
      "outputs": [
        {
          "output_type": "execute_result",
          "data": {
            "text/plain": [
              "<tf.Tensor: shape=(3, 3, 3), dtype=float32, numpy=\n",
              "array([[[0.29197514, 0.20656645, 0.53539073],\n",
              "        [0.5612575 , 0.4166745 , 0.80782795],\n",
              "        [0.4932251 , 0.99812925, 0.69673514]],\n",
              "\n",
              "       [[0.1253736 , 0.7098167 , 0.6624156 ],\n",
              "        [0.57225657, 0.36475348, 0.42051828],\n",
              "        [0.630057  , 0.913813  , 0.6616472 ]],\n",
              "\n",
              "       [[0.83347356, 0.08395803, 0.2797594 ],\n",
              "        [0.0155232 , 0.72637355, 0.7655387 ],\n",
              "        [0.6798667 , 0.53272796, 0.7565141 ]]], dtype=float32)>"
            ]
          },
          "metadata": {
            "tags": []
          },
          "execution_count": 12
        }
      ]
    },
    {
      "cell_type": "markdown",
      "metadata": {
        "id": "HiVyKZCuzCXU"
      },
      "source": [
        "## Find the minimum and maximum values generated in the previous step"
      ]
    },
    {
      "cell_type": "code",
      "metadata": {
        "ExecuteTime": {
          "end_time": "2021-02-22T14:19:48.385808Z",
          "start_time": "2021-02-22T14:19:48.381620Z"
        },
        "colab": {
          "base_uri": "https://localhost:8080/"
        },
        "id": "COJHmxatzCXU",
        "outputId": "53f6d6be-60e9-4920-804d-43631f14d509"
      },
      "source": [
        "tf.math.reduce_min(a).numpy(), tf.math.reduce_max(a).numpy()"
      ],
      "execution_count": 13,
      "outputs": [
        {
          "output_type": "execute_result",
          "data": {
            "text/plain": [
              "(0.015523195, 0.99812925)"
            ]
          },
          "metadata": {
            "tags": []
          },
          "execution_count": 13
        }
      ]
    },
    {
      "cell_type": "markdown",
      "metadata": {
        "id": "AvXiXNOBzCXW"
      },
      "source": [
        "## Create a vector with 30 random values and find its mean"
      ]
    },
    {
      "cell_type": "code",
      "metadata": {
        "ExecuteTime": {
          "end_time": "2021-02-22T14:19:48.391587Z",
          "start_time": "2021-02-22T14:19:48.387386Z"
        },
        "colab": {
          "base_uri": "https://localhost:8080/"
        },
        "id": "xzDFiTv3zCXX",
        "outputId": "3535fb2a-15f8-40c8-d8c0-b6441f435cf5"
      },
      "source": [
        "v = tf.random.uniform((30,))\n",
        "tf.math.reduce_mean(v).numpy()"
      ],
      "execution_count": 14,
      "outputs": [
        {
          "output_type": "execute_result",
          "data": {
            "text/plain": [
              "0.5544378"
            ]
          },
          "metadata": {
            "tags": []
          },
          "execution_count": 14
        }
      ]
    },
    {
      "cell_type": "markdown",
      "metadata": {
        "id": "CghaD0RFzCXZ"
      },
      "source": [
        "## Create a 5x5 2d array with 1s around the edges and 0s in the middle"
      ]
    },
    {
      "cell_type": "code",
      "metadata": {
        "ExecuteTime": {
          "end_time": "2021-02-22T14:19:48.399626Z",
          "start_time": "2021-02-22T14:19:48.393116Z"
        },
        "colab": {
          "base_uri": "https://localhost:8080/"
        },
        "id": "GZC49QjdzCXa",
        "outputId": "7bbe6ab7-c701-438e-a84b-7a5cfe0445e0"
      },
      "source": [
        "a = tf.Variable(tf.ones((5, 5)))\n",
        "a[1:-1, 1:-1].assign(tf.fill(dims=(3,3), value=0.))\n",
        "a"
      ],
      "execution_count": 15,
      "outputs": [
        {
          "output_type": "execute_result",
          "data": {
            "text/plain": [
              "<tf.Variable 'Variable:0' shape=(5, 5) dtype=float32, numpy=\n",
              "array([[1., 1., 1., 1., 1.],\n",
              "       [1., 0., 0., 0., 1.],\n",
              "       [1., 0., 0., 0., 1.],\n",
              "       [1., 0., 0., 0., 1.],\n",
              "       [1., 1., 1., 1., 1.]], dtype=float32)>"
            ]
          },
          "metadata": {
            "tags": []
          },
          "execution_count": 15
        }
      ]
    },
    {
      "cell_type": "markdown",
      "metadata": {
        "id": "Jpcx99OgzCXd"
      },
      "source": [
        "## Try to predict the output of each of the following cells before running them"
      ]
    },
    {
      "cell_type": "code",
      "metadata": {
        "ExecuteTime": {
          "end_time": "2021-02-22T14:19:48.404161Z",
          "start_time": "2021-02-22T14:19:48.400891Z"
        },
        "colab": {
          "base_uri": "https://localhost:8080/"
        },
        "id": "ZkZJgk5YzCXe",
        "outputId": "96b7d2ac-b6bc-499a-b577-5cc9ad66e328"
      },
      "source": [
        "0 * float('nan')"
      ],
      "execution_count": 16,
      "outputs": [
        {
          "output_type": "execute_result",
          "data": {
            "text/plain": [
              "nan"
            ]
          },
          "metadata": {
            "tags": []
          },
          "execution_count": 16
        }
      ]
    },
    {
      "cell_type": "code",
      "metadata": {
        "ExecuteTime": {
          "end_time": "2021-02-22T14:19:48.409265Z",
          "start_time": "2021-02-22T14:19:48.405791Z"
        },
        "colab": {
          "base_uri": "https://localhost:8080/"
        },
        "id": "dq81y-y8zCXh",
        "outputId": "443dfe88-162f-4904-e8ac-de89a2d4a615"
      },
      "source": [
        "float('nan') == float('nan')"
      ],
      "execution_count": 17,
      "outputs": [
        {
          "output_type": "execute_result",
          "data": {
            "text/plain": [
              "False"
            ]
          },
          "metadata": {
            "tags": []
          },
          "execution_count": 17
        }
      ]
    },
    {
      "cell_type": "code",
      "metadata": {
        "ExecuteTime": {
          "end_time": "2021-02-22T14:19:48.414118Z",
          "start_time": "2021-02-22T14:19:48.410595Z"
        },
        "colab": {
          "base_uri": "https://localhost:8080/"
        },
        "id": "b2CwjiTbzCXk",
        "outputId": "5395cba2-3fb2-4b9c-bf01-2d28f3c9bd45"
      },
      "source": [
        "float('inf') > float('nan')"
      ],
      "execution_count": 18,
      "outputs": [
        {
          "output_type": "execute_result",
          "data": {
            "text/plain": [
              "False"
            ]
          },
          "metadata": {
            "tags": []
          },
          "execution_count": 18
        }
      ]
    },
    {
      "cell_type": "code",
      "metadata": {
        "ExecuteTime": {
          "end_time": "2021-02-22T14:19:48.418949Z",
          "start_time": "2021-02-22T14:19:48.415511Z"
        },
        "colab": {
          "base_uri": "https://localhost:8080/"
        },
        "id": "49Tq53HRzCXn",
        "outputId": "d0756e91-7356-401a-b11b-6f42b5114da4"
      },
      "source": [
        "float('nan') - float('nan')"
      ],
      "execution_count": 19,
      "outputs": [
        {
          "output_type": "execute_result",
          "data": {
            "text/plain": [
              "nan"
            ]
          },
          "metadata": {
            "tags": []
          },
          "execution_count": 19
        }
      ]
    },
    {
      "cell_type": "code",
      "metadata": {
        "ExecuteTime": {
          "end_time": "2021-02-22T14:19:48.423739Z",
          "start_time": "2021-02-22T14:19:48.420377Z"
        },
        "colab": {
          "base_uri": "https://localhost:8080/"
        },
        "id": "1diW27rLzCXp",
        "outputId": "aa114aab-db32-459c-a3b4-2d15c602532e"
      },
      "source": [
        "0.3 == 3 * 0.1"
      ],
      "execution_count": 20,
      "outputs": [
        {
          "output_type": "execute_result",
          "data": {
            "text/plain": [
              "False"
            ]
          },
          "metadata": {
            "tags": []
          },
          "execution_count": 20
        }
      ]
    },
    {
      "cell_type": "code",
      "metadata": {
        "ExecuteTime": {
          "end_time": "2021-02-22T14:20:06.341041Z",
          "start_time": "2021-02-22T14:20:06.313292Z"
        },
        "id": "EAdhSCJbzCXr",
        "colab": {
          "base_uri": "https://localhost:8080/",
          "height": 228
        },
        "outputId": "bb3e05cf-a188-4cc8-c022-223ace296adf"
      },
      "source": [
        "tf.constant([0]) // tf.constant([0]) #crashes the kernel :) continue with the next cell"
      ],
      "execution_count": 21,
      "outputs": [
        {
          "output_type": "error",
          "ename": "InvalidArgumentError",
          "evalue": "ignored",
          "traceback": [
            "\u001b[0;31m---------------------------------------------------------------------------\u001b[0m",
            "\u001b[0;31mInvalidArgumentError\u001b[0m                      Traceback (most recent call last)",
            "\u001b[0;32m<ipython-input-21-9ac7637a89f2>\u001b[0m in \u001b[0;36m<module>\u001b[0;34m()\u001b[0m\n\u001b[0;32m----> 1\u001b[0;31m \u001b[0mtf\u001b[0m\u001b[0;34m.\u001b[0m\u001b[0mconstant\u001b[0m\u001b[0;34m(\u001b[0m\u001b[0;34m[\u001b[0m\u001b[0;36m0\u001b[0m\u001b[0;34m]\u001b[0m\u001b[0;34m)\u001b[0m \u001b[0;34m//\u001b[0m \u001b[0mtf\u001b[0m\u001b[0;34m.\u001b[0m\u001b[0mconstant\u001b[0m\u001b[0;34m(\u001b[0m\u001b[0;34m[\u001b[0m\u001b[0;36m0\u001b[0m\u001b[0;34m]\u001b[0m\u001b[0;34m)\u001b[0m \u001b[0;31m#crashes the kernel :) continue with the next cell\u001b[0m\u001b[0;34m\u001b[0m\u001b[0;34m\u001b[0m\u001b[0m\n\u001b[0m",
            "\u001b[0;32m/usr/local/lib/python3.6/dist-packages/tensorflow/python/ops/math_ops.py\u001b[0m in \u001b[0;36mbinary_op_wrapper\u001b[0;34m(x, y)\u001b[0m\n\u001b[1;32m   1162\u001b[0m     \u001b[0;32mwith\u001b[0m \u001b[0mops\u001b[0m\u001b[0;34m.\u001b[0m\u001b[0mname_scope\u001b[0m\u001b[0;34m(\u001b[0m\u001b[0;32mNone\u001b[0m\u001b[0;34m,\u001b[0m \u001b[0mop_name\u001b[0m\u001b[0;34m,\u001b[0m \u001b[0;34m[\u001b[0m\u001b[0mx\u001b[0m\u001b[0;34m,\u001b[0m \u001b[0my\u001b[0m\u001b[0;34m]\u001b[0m\u001b[0;34m)\u001b[0m \u001b[0;32mas\u001b[0m \u001b[0mname\u001b[0m\u001b[0;34m:\u001b[0m\u001b[0;34m\u001b[0m\u001b[0;34m\u001b[0m\u001b[0m\n\u001b[1;32m   1163\u001b[0m       \u001b[0;32mtry\u001b[0m\u001b[0;34m:\u001b[0m\u001b[0;34m\u001b[0m\u001b[0;34m\u001b[0m\u001b[0m\n\u001b[0;32m-> 1164\u001b[0;31m         \u001b[0;32mreturn\u001b[0m \u001b[0mfunc\u001b[0m\u001b[0;34m(\u001b[0m\u001b[0mx\u001b[0m\u001b[0;34m,\u001b[0m \u001b[0my\u001b[0m\u001b[0;34m,\u001b[0m \u001b[0mname\u001b[0m\u001b[0;34m=\u001b[0m\u001b[0mname\u001b[0m\u001b[0;34m)\u001b[0m\u001b[0;34m\u001b[0m\u001b[0;34m\u001b[0m\u001b[0m\n\u001b[0m\u001b[1;32m   1165\u001b[0m       \u001b[0;32mexcept\u001b[0m \u001b[0;34m(\u001b[0m\u001b[0mTypeError\u001b[0m\u001b[0;34m,\u001b[0m \u001b[0mValueError\u001b[0m\u001b[0;34m)\u001b[0m \u001b[0;32mas\u001b[0m \u001b[0me\u001b[0m\u001b[0;34m:\u001b[0m\u001b[0;34m\u001b[0m\u001b[0;34m\u001b[0m\u001b[0m\n\u001b[1;32m   1166\u001b[0m         \u001b[0;31m# Even if dispatching the op failed, the RHS may be a tensor aware\u001b[0m\u001b[0;34m\u001b[0m\u001b[0;34m\u001b[0m\u001b[0;34m\u001b[0m\u001b[0m\n",
            "\u001b[0;32m/usr/local/lib/python3.6/dist-packages/tensorflow/python/util/dispatch.py\u001b[0m in \u001b[0;36mwrapper\u001b[0;34m(*args, **kwargs)\u001b[0m\n\u001b[1;32m    199\u001b[0m     \u001b[0;34m\"\"\"Call target, and fall back on dispatchers if there is a TypeError.\"\"\"\u001b[0m\u001b[0;34m\u001b[0m\u001b[0;34m\u001b[0m\u001b[0m\n\u001b[1;32m    200\u001b[0m     \u001b[0;32mtry\u001b[0m\u001b[0;34m:\u001b[0m\u001b[0;34m\u001b[0m\u001b[0;34m\u001b[0m\u001b[0m\n\u001b[0;32m--> 201\u001b[0;31m       \u001b[0;32mreturn\u001b[0m \u001b[0mtarget\u001b[0m\u001b[0;34m(\u001b[0m\u001b[0;34m*\u001b[0m\u001b[0margs\u001b[0m\u001b[0;34m,\u001b[0m \u001b[0;34m**\u001b[0m\u001b[0mkwargs\u001b[0m\u001b[0;34m)\u001b[0m\u001b[0;34m\u001b[0m\u001b[0;34m\u001b[0m\u001b[0m\n\u001b[0m\u001b[1;32m    202\u001b[0m     \u001b[0;32mexcept\u001b[0m \u001b[0;34m(\u001b[0m\u001b[0mTypeError\u001b[0m\u001b[0;34m,\u001b[0m \u001b[0mValueError\u001b[0m\u001b[0;34m)\u001b[0m\u001b[0;34m:\u001b[0m\u001b[0;34m\u001b[0m\u001b[0;34m\u001b[0m\u001b[0m\n\u001b[1;32m    203\u001b[0m       \u001b[0;31m# Note: convert_to_eager_tensor currently raises a ValueError, not a\u001b[0m\u001b[0;34m\u001b[0m\u001b[0;34m\u001b[0m\u001b[0;34m\u001b[0m\u001b[0m\n",
            "\u001b[0;32m/usr/local/lib/python3.6/dist-packages/tensorflow/python/ops/math_ops.py\u001b[0m in \u001b[0;36mfloordiv\u001b[0;34m(x, y, name)\u001b[0m\n\u001b[1;32m   1445\u001b[0m   \"\"\"\n\u001b[1;32m   1446\u001b[0m   \u001b[0;32mwith\u001b[0m \u001b[0mops\u001b[0m\u001b[0;34m.\u001b[0m\u001b[0mname_scope\u001b[0m\u001b[0;34m(\u001b[0m\u001b[0mname\u001b[0m\u001b[0;34m,\u001b[0m \u001b[0;34m\"floordiv\"\u001b[0m\u001b[0;34m,\u001b[0m \u001b[0;34m[\u001b[0m\u001b[0mx\u001b[0m\u001b[0;34m,\u001b[0m \u001b[0my\u001b[0m\u001b[0;34m]\u001b[0m\u001b[0;34m)\u001b[0m \u001b[0;32mas\u001b[0m \u001b[0mname\u001b[0m\u001b[0;34m:\u001b[0m\u001b[0;34m\u001b[0m\u001b[0;34m\u001b[0m\u001b[0m\n\u001b[0;32m-> 1447\u001b[0;31m     \u001b[0;32mreturn\u001b[0m \u001b[0mgen_math_ops\u001b[0m\u001b[0;34m.\u001b[0m\u001b[0mfloor_div\u001b[0m\u001b[0;34m(\u001b[0m\u001b[0mx\u001b[0m\u001b[0;34m,\u001b[0m \u001b[0my\u001b[0m\u001b[0;34m,\u001b[0m \u001b[0mname\u001b[0m\u001b[0;34m=\u001b[0m\u001b[0mname\u001b[0m\u001b[0;34m)\u001b[0m\u001b[0;34m\u001b[0m\u001b[0;34m\u001b[0m\u001b[0m\n\u001b[0m\u001b[1;32m   1448\u001b[0m \u001b[0;34m\u001b[0m\u001b[0m\n\u001b[1;32m   1449\u001b[0m \u001b[0;34m\u001b[0m\u001b[0m\n",
            "\u001b[0;32m/usr/local/lib/python3.6/dist-packages/tensorflow/python/ops/gen_math_ops.py\u001b[0m in \u001b[0;36mfloor_div\u001b[0;34m(x, y, name)\u001b[0m\n\u001b[1;32m   3727\u001b[0m       \u001b[0;32mreturn\u001b[0m \u001b[0m_result\u001b[0m\u001b[0;34m\u001b[0m\u001b[0;34m\u001b[0m\u001b[0m\n\u001b[1;32m   3728\u001b[0m     \u001b[0;32mexcept\u001b[0m \u001b[0m_core\u001b[0m\u001b[0;34m.\u001b[0m\u001b[0m_NotOkStatusException\u001b[0m \u001b[0;32mas\u001b[0m \u001b[0me\u001b[0m\u001b[0;34m:\u001b[0m\u001b[0;34m\u001b[0m\u001b[0;34m\u001b[0m\u001b[0m\n\u001b[0;32m-> 3729\u001b[0;31m       \u001b[0m_ops\u001b[0m\u001b[0;34m.\u001b[0m\u001b[0mraise_from_not_ok_status\u001b[0m\u001b[0;34m(\u001b[0m\u001b[0me\u001b[0m\u001b[0;34m,\u001b[0m \u001b[0mname\u001b[0m\u001b[0;34m)\u001b[0m\u001b[0;34m\u001b[0m\u001b[0;34m\u001b[0m\u001b[0m\n\u001b[0m\u001b[1;32m   3730\u001b[0m     \u001b[0;32mexcept\u001b[0m \u001b[0m_core\u001b[0m\u001b[0;34m.\u001b[0m\u001b[0m_FallbackException\u001b[0m\u001b[0;34m:\u001b[0m\u001b[0;34m\u001b[0m\u001b[0;34m\u001b[0m\u001b[0m\n\u001b[1;32m   3731\u001b[0m       \u001b[0;32mpass\u001b[0m\u001b[0;34m\u001b[0m\u001b[0;34m\u001b[0m\u001b[0m\n",
            "\u001b[0;32m/usr/local/lib/python3.6/dist-packages/tensorflow/python/framework/ops.py\u001b[0m in \u001b[0;36mraise_from_not_ok_status\u001b[0;34m(e, name)\u001b[0m\n\u001b[1;32m   6860\u001b[0m   \u001b[0mmessage\u001b[0m \u001b[0;34m=\u001b[0m \u001b[0me\u001b[0m\u001b[0;34m.\u001b[0m\u001b[0mmessage\u001b[0m \u001b[0;34m+\u001b[0m \u001b[0;34m(\u001b[0m\u001b[0;34m\" name: \"\u001b[0m \u001b[0;34m+\u001b[0m \u001b[0mname\u001b[0m \u001b[0;32mif\u001b[0m \u001b[0mname\u001b[0m \u001b[0;32mis\u001b[0m \u001b[0;32mnot\u001b[0m \u001b[0;32mNone\u001b[0m \u001b[0;32melse\u001b[0m \u001b[0;34m\"\"\u001b[0m\u001b[0;34m)\u001b[0m\u001b[0;34m\u001b[0m\u001b[0;34m\u001b[0m\u001b[0m\n\u001b[1;32m   6861\u001b[0m   \u001b[0;31m# pylint: disable=protected-access\u001b[0m\u001b[0;34m\u001b[0m\u001b[0;34m\u001b[0m\u001b[0;34m\u001b[0m\u001b[0m\n\u001b[0;32m-> 6862\u001b[0;31m   \u001b[0msix\u001b[0m\u001b[0;34m.\u001b[0m\u001b[0mraise_from\u001b[0m\u001b[0;34m(\u001b[0m\u001b[0mcore\u001b[0m\u001b[0;34m.\u001b[0m\u001b[0m_status_to_exception\u001b[0m\u001b[0;34m(\u001b[0m\u001b[0me\u001b[0m\u001b[0;34m.\u001b[0m\u001b[0mcode\u001b[0m\u001b[0;34m,\u001b[0m \u001b[0mmessage\u001b[0m\u001b[0;34m)\u001b[0m\u001b[0;34m,\u001b[0m \u001b[0;32mNone\u001b[0m\u001b[0;34m)\u001b[0m\u001b[0;34m\u001b[0m\u001b[0;34m\u001b[0m\u001b[0m\n\u001b[0m\u001b[1;32m   6863\u001b[0m   \u001b[0;31m# pylint: enable=protected-access\u001b[0m\u001b[0;34m\u001b[0m\u001b[0;34m\u001b[0m\u001b[0;34m\u001b[0m\u001b[0m\n\u001b[1;32m   6864\u001b[0m \u001b[0;34m\u001b[0m\u001b[0m\n",
            "\u001b[0;32m/usr/local/lib/python3.6/dist-packages/six.py\u001b[0m in \u001b[0;36mraise_from\u001b[0;34m(value, from_value)\u001b[0m\n",
            "\u001b[0;31mInvalidArgumentError\u001b[0m: Integer division by zero [Op:FloorDiv]"
          ]
        }
      ]
    },
    {
      "cell_type": "code",
      "metadata": {
        "ExecuteTime": {
          "end_time": "2021-02-22T14:20:06.343114Z",
          "start_time": "2021-02-22T14:20:06.301Z"
        },
        "colab": {
          "base_uri": "https://localhost:8080/"
        },
        "id": "T8dkSa1dzCXt",
        "outputId": "97edb554-6666-4e62-86cf-35845e518b8a"
      },
      "source": [
        "import tensorflow as tf #this is in case you crashed on the previous cell\n",
        "tf.constant([0.0]) // tf.constant([0.0])"
      ],
      "execution_count": 22,
      "outputs": [
        {
          "output_type": "execute_result",
          "data": {
            "text/plain": [
              "<tf.Tensor: shape=(1,), dtype=float32, numpy=array([nan], dtype=float32)>"
            ]
          },
          "metadata": {
            "tags": []
          },
          "execution_count": 22
        }
      ]
    },
    {
      "cell_type": "code",
      "metadata": {
        "ExecuteTime": {
          "end_time": "2021-02-22T14:20:06.344035Z",
          "start_time": "2021-02-22T14:20:06.302Z"
        },
        "colab": {
          "base_uri": "https://localhost:8080/"
        },
        "id": "6-vnyvnY3O_-",
        "outputId": "2a8567a4-302b-4799-b859-e223c58c296d"
      },
      "source": [
        "nan_scalar = tf.constant([float('nan')])\n",
        "\n",
        "tf.math.is_nan(nan_scalar)"
      ],
      "execution_count": 23,
      "outputs": [
        {
          "output_type": "execute_result",
          "data": {
            "text/plain": [
              "<tf.Tensor: shape=(1,), dtype=bool, numpy=array([ True])>"
            ]
          },
          "metadata": {
            "tags": []
          },
          "execution_count": 23
        }
      ]
    },
    {
      "cell_type": "code",
      "metadata": {
        "ExecuteTime": {
          "end_time": "2021-02-22T14:20:06.345146Z",
          "start_time": "2021-02-22T14:20:06.304Z"
        },
        "colab": {
          "base_uri": "https://localhost:8080/"
        },
        "id": "oQgbcYV2zCX0",
        "outputId": "b04ac71b-9930-4efa-aa5c-346173e82b9e"
      },
      "source": [
        "tf.constant([0.0]) / tf.constant([0.0])"
      ],
      "execution_count": 24,
      "outputs": [
        {
          "output_type": "execute_result",
          "data": {
            "text/plain": [
              "<tf.Tensor: shape=(1,), dtype=float32, numpy=array([nan], dtype=float32)>"
            ]
          },
          "metadata": {
            "tags": []
          },
          "execution_count": 24
        }
      ]
    },
    {
      "cell_type": "markdown",
      "metadata": {
        "id": "YcnIalmYzCX2"
      },
      "source": [
        "## Find the integer part of the following array using four different methods:"
      ]
    },
    {
      "cell_type": "code",
      "metadata": {
        "ExecuteTime": {
          "end_time": "2021-02-22T14:20:06.346024Z",
          "start_time": "2021-02-22T14:20:06.306Z"
        },
        "colab": {
          "base_uri": "https://localhost:8080/"
        },
        "id": "xGjqeNf-zCX4",
        "outputId": "40f3ee37-54b5-4b11-f4c3-c900cd31230c"
      },
      "source": [
        "a = tf.random.normal((10,), dtype = tf.float32)\n",
        "a"
      ],
      "execution_count": 25,
      "outputs": [
        {
          "output_type": "execute_result",
          "data": {
            "text/plain": [
              "<tf.Tensor: shape=(10,), dtype=float32, numpy=\n",
              "array([-1.8041286 , -0.11153453, -0.84555113,  0.8489615 ,  0.12237629,\n",
              "        1.3350475 ,  0.619644  , -0.5498301 , -0.6082269 ,  0.8465021 ],\n",
              "      dtype=float32)>"
            ]
          },
          "metadata": {
            "tags": []
          },
          "execution_count": 25
        }
      ]
    },
    {
      "cell_type": "code",
      "metadata": {
        "ExecuteTime": {
          "end_time": "2021-02-22T14:20:06.346869Z",
          "start_time": "2021-02-22T14:20:06.308Z"
        },
        "colab": {
          "base_uri": "https://localhost:8080/"
        },
        "id": "jTI5BWoUzCX6",
        "outputId": "f216aa64-42ae-4880-b920-03e318cb9f02"
      },
      "source": [
        "tf.cast(a, dtype=tf.int8)"
      ],
      "execution_count": 26,
      "outputs": [
        {
          "output_type": "execute_result",
          "data": {
            "text/plain": [
              "<tf.Tensor: shape=(10,), dtype=int8, numpy=array([-1,  0,  0,  0,  0,  1,  0,  0,  0,  0], dtype=int8)>"
            ]
          },
          "metadata": {
            "tags": []
          },
          "execution_count": 26
        }
      ]
    },
    {
      "cell_type": "code",
      "metadata": {
        "ExecuteTime": {
          "end_time": "2021-02-22T14:20:06.453695Z",
          "start_time": "2021-02-22T14:20:06.448908Z"
        },
        "colab": {
          "base_uri": "https://localhost:8080/"
        },
        "id": "DHbpIPvJzCX8",
        "outputId": "fc9a5d29-55fc-46d5-de46-d6136b91dd48"
      },
      "source": [
        "tf.math.floor(a)"
      ],
      "execution_count": 27,
      "outputs": [
        {
          "output_type": "execute_result",
          "data": {
            "text/plain": [
              "<tf.Tensor: shape=(10,), dtype=float32, numpy=array([-2., -1., -1.,  0.,  0.,  1.,  0., -1., -1.,  0.], dtype=float32)>"
            ]
          },
          "metadata": {
            "tags": []
          },
          "execution_count": 27
        }
      ]
    },
    {
      "cell_type": "code",
      "metadata": {
        "ExecuteTime": {
          "end_time": "2021-02-22T14:20:06.459772Z",
          "start_time": "2021-02-22T14:20:06.455160Z"
        },
        "colab": {
          "base_uri": "https://localhost:8080/"
        },
        "id": "lW8C0_RTzCX-",
        "outputId": "5ab40017-4f67-480a-c474-909b9b5f0f70"
      },
      "source": [
        "tf.math.ceil(a) - 1"
      ],
      "execution_count": 28,
      "outputs": [
        {
          "output_type": "execute_result",
          "data": {
            "text/plain": [
              "<tf.Tensor: shape=(10,), dtype=float32, numpy=array([-2., -1., -1.,  0.,  0.,  1.,  0., -1., -1.,  0.], dtype=float32)>"
            ]
          },
          "metadata": {
            "tags": []
          },
          "execution_count": 28
        }
      ]
    },
    {
      "cell_type": "code",
      "metadata": {
        "ExecuteTime": {
          "end_time": "2021-02-22T14:20:06.465570Z",
          "start_time": "2021-02-22T14:20:06.461231Z"
        },
        "colab": {
          "base_uri": "https://localhost:8080/"
        },
        "id": "6tKQz-OdzCYA",
        "outputId": "62f9c01a-43f0-48c0-f7b5-fa0e8ec11ce5"
      },
      "source": [
        "a-tf.truncatemod(a, tf.constant(1.))"
      ],
      "execution_count": 29,
      "outputs": [
        {
          "output_type": "execute_result",
          "data": {
            "text/plain": [
              "<tf.Tensor: shape=(10,), dtype=float32, numpy=array([-1.,  0.,  0.,  0.,  0.,  1.,  0.,  0.,  0.,  0.], dtype=float32)>"
            ]
          },
          "metadata": {
            "tags": []
          },
          "execution_count": 29
        }
      ]
    },
    {
      "cell_type": "markdown",
      "metadata": {
        "id": "wCR6R94rzCYD"
      },
      "source": [
        "## Create a vector of 10 values from 0 to 1, both included"
      ]
    },
    {
      "cell_type": "code",
      "metadata": {
        "ExecuteTime": {
          "end_time": "2021-02-22T14:20:06.473564Z",
          "start_time": "2021-02-22T14:20:06.466941Z"
        },
        "colab": {
          "base_uri": "https://localhost:8080/"
        },
        "id": "26HYaGsczCYD",
        "outputId": "ab63890b-82b7-4f38-dce9-17f8aa078353"
      },
      "source": [
        "v = tf.linspace(0, 1, 10)\n",
        "v"
      ],
      "execution_count": 30,
      "outputs": [
        {
          "output_type": "execute_result",
          "data": {
            "text/plain": [
              "<tf.Tensor: shape=(10,), dtype=float64, numpy=\n",
              "array([0.        , 0.11111111, 0.22222222, 0.33333333, 0.44444444,\n",
              "       0.55555556, 0.66666667, 0.77777778, 0.88888889, 1.        ])>"
            ]
          },
          "metadata": {
            "tags": []
          },
          "execution_count": 30
        }
      ]
    },
    {
      "cell_type": "markdown",
      "metadata": {
        "id": "MHw1Dq5QzCYF"
      },
      "source": [
        "## Create a vector of size 10 with values ranging from 0 to 1, both excluded"
      ]
    },
    {
      "cell_type": "code",
      "metadata": {
        "ExecuteTime": {
          "end_time": "2021-02-22T14:20:06.480648Z",
          "start_time": "2021-02-22T14:20:06.474882Z"
        },
        "colab": {
          "base_uri": "https://localhost:8080/"
        },
        "id": "DWJVTJ7DzCYG",
        "outputId": "392cabce-2e5d-4b44-cd71-e1e6be9495c0"
      },
      "source": [
        "v = tf.linspace(0, 1, 12)[1:-1]\n",
        "v"
      ],
      "execution_count": 31,
      "outputs": [
        {
          "output_type": "execute_result",
          "data": {
            "text/plain": [
              "<tf.Tensor: shape=(10,), dtype=float64, numpy=\n",
              "array([0.09090909, 0.18181818, 0.27272727, 0.36363636, 0.45454545,\n",
              "       0.54545455, 0.63636364, 0.72727273, 0.81818182, 0.90909091])>"
            ]
          },
          "metadata": {
            "tags": []
          },
          "execution_count": 31
        }
      ]
    },
    {
      "cell_type": "markdown",
      "metadata": {
        "id": "76FEjR_TzCYH"
      },
      "source": [
        "## Subtract the mean of each row of the following matrix"
      ]
    },
    {
      "cell_type": "code",
      "metadata": {
        "ExecuteTime": {
          "end_time": "2021-02-22T14:20:06.485993Z",
          "start_time": "2021-02-22T14:20:06.481909Z"
        },
        "colab": {
          "base_uri": "https://localhost:8080/"
        },
        "id": "1d7JY5y6zCYI",
        "outputId": "bcd929dd-6ec8-457c-ad95-cef709af74a6"
      },
      "source": [
        "m = tf.random.uniform((3, 3))\n",
        "m"
      ],
      "execution_count": 32,
      "outputs": [
        {
          "output_type": "execute_result",
          "data": {
            "text/plain": [
              "<tf.Tensor: shape=(3, 3), dtype=float32, numpy=\n",
              "array([[0.17513537, 0.3179742 , 0.8555474 ],\n",
              "       [0.41725898, 0.23591995, 0.22561431],\n",
              "       [0.59902835, 0.8288827 , 0.59770846]], dtype=float32)>"
            ]
          },
          "metadata": {
            "tags": []
          },
          "execution_count": 32
        }
      ]
    },
    {
      "cell_type": "code",
      "metadata": {
        "ExecuteTime": {
          "end_time": "2021-02-22T14:20:06.491469Z",
          "start_time": "2021-02-22T14:20:06.487417Z"
        },
        "colab": {
          "base_uri": "https://localhost:8080/"
        },
        "id": "t9aldiCQ51Hz",
        "outputId": "8158cd71-eedb-437a-ede4-47dbfc50c722"
      },
      "source": [
        "m[0, :]"
      ],
      "execution_count": 33,
      "outputs": [
        {
          "output_type": "execute_result",
          "data": {
            "text/plain": [
              "<tf.Tensor: shape=(3,), dtype=float32, numpy=array([0.17513537, 0.3179742 , 0.8555474 ], dtype=float32)>"
            ]
          },
          "metadata": {
            "tags": []
          },
          "execution_count": 33
        }
      ]
    },
    {
      "cell_type": "code",
      "metadata": {
        "ExecuteTime": {
          "end_time": "2021-02-22T14:20:06.498508Z",
          "start_time": "2021-02-22T14:20:06.492838Z"
        },
        "colab": {
          "base_uri": "https://localhost:8080/"
        },
        "id": "uTsIb1GZzCYL",
        "outputId": "d6935b23-21b2-41cf-c70a-fe6f3e84277d"
      },
      "source": [
        "[tf.math.reduce_mean(m[i,:]) for i in tf.range(0, 3)]"
      ],
      "execution_count": 34,
      "outputs": [
        {
          "output_type": "execute_result",
          "data": {
            "text/plain": [
              "[<tf.Tensor: shape=(), dtype=float32, numpy=0.44955233>,\n",
              " <tf.Tensor: shape=(), dtype=float32, numpy=0.29293108>,\n",
              " <tf.Tensor: shape=(), dtype=float32, numpy=0.6752065>]"
            ]
          },
          "metadata": {
            "tags": []
          },
          "execution_count": 34
        }
      ]
    },
    {
      "cell_type": "code",
      "metadata": {
        "ExecuteTime": {
          "end_time": "2021-02-22T14:20:06.503876Z",
          "start_time": "2021-02-22T14:20:06.499985Z"
        },
        "colab": {
          "base_uri": "https://localhost:8080/"
        },
        "id": "ryRQVWqICpQK",
        "outputId": "60973b91-4626-4c41-8b93-113deee6d889"
      },
      "source": [
        "tf.math.reduce_mean(m, 1, keepdims = False), "
      ],
      "execution_count": 35,
      "outputs": [
        {
          "output_type": "execute_result",
          "data": {
            "text/plain": [
              "(<tf.Tensor: shape=(3,), dtype=float32, numpy=array([0.44955233, 0.29293108, 0.6752065 ], dtype=float32)>,)"
            ]
          },
          "metadata": {
            "tags": []
          },
          "execution_count": 35
        }
      ]
    },
    {
      "cell_type": "code",
      "metadata": {
        "ExecuteTime": {
          "end_time": "2021-02-22T14:20:06.509411Z",
          "start_time": "2021-02-22T14:20:06.505180Z"
        },
        "colab": {
          "base_uri": "https://localhost:8080/"
        },
        "id": "uxhdOaWFCu1M",
        "outputId": "8b102384-4fb7-41fa-e769-e1a532c7598d"
      },
      "source": [
        "rowmeans = tf.math.reduce_mean(m, 1, keepdims = True)\n",
        "rowmeans"
      ],
      "execution_count": 36,
      "outputs": [
        {
          "output_type": "execute_result",
          "data": {
            "text/plain": [
              "<tf.Tensor: shape=(3, 1), dtype=float32, numpy=\n",
              "array([[0.44955233],\n",
              "       [0.29293108],\n",
              "       [0.6752065 ]], dtype=float32)>"
            ]
          },
          "metadata": {
            "tags": []
          },
          "execution_count": 36
        }
      ]
    },
    {
      "cell_type": "code",
      "metadata": {
        "ExecuteTime": {
          "end_time": "2021-02-22T14:20:06.514703Z",
          "start_time": "2021-02-22T14:20:06.510871Z"
        },
        "colab": {
          "base_uri": "https://localhost:8080/"
        },
        "id": "0CUXBGkEGBhC",
        "outputId": "1b1e444e-897e-40f4-95b4-929745e2180d"
      },
      "source": [
        "# subtract each row mean from every item in row\n",
        "m - rowmeans"
      ],
      "execution_count": 37,
      "outputs": [
        {
          "output_type": "execute_result",
          "data": {
            "text/plain": [
              "<tf.Tensor: shape=(3, 3), dtype=float32, numpy=\n",
              "array([[-0.27441695, -0.13157812,  0.4059951 ],\n",
              "       [ 0.1243279 , -0.05701113, -0.06731677],\n",
              "       [-0.07617813,  0.15367621, -0.07749802]], dtype=float32)>"
            ]
          },
          "metadata": {
            "tags": []
          },
          "execution_count": 37
        }
      ]
    },
    {
      "cell_type": "markdown",
      "metadata": {
        "id": "f2w3ku_izCYO"
      },
      "source": [
        "## Add 1,000,000 numbers together using __`tensorflow`__ vectorized operations"
      ]
    },
    {
      "cell_type": "code",
      "metadata": {
        "ExecuteTime": {
          "end_time": "2021-02-22T14:20:19.168514Z",
          "start_time": "2021-02-22T14:20:06.516061Z"
        },
        "colab": {
          "base_uri": "https://localhost:8080/"
        },
        "id": "yPaNUdD4zCYP",
        "outputId": "abd10e77-a141-4539-fbcf-9dd362a47f37"
      },
      "source": [
        "v = tf.random.uniform((1_000_000,))\n",
        "%timeit tf.math.reduce_sum(v)"
      ],
      "execution_count": 38,
      "outputs": [
        {
          "output_type": "stream",
          "text": [
            "The slowest run took 91.56 times longer than the fastest. This could mean that an intermediate result is being cached.\n",
            "10000 loops, best of 3: 32.3 µs per loop\n"
          ],
          "name": "stdout"
        }
      ]
    },
    {
      "cell_type": "markdown",
      "metadata": {
        "id": "IclUTxlAzCYS"
      },
      "source": [
        "## Create a 4x4 array of the first 16 powers of 3"
      ]
    },
    {
      "cell_type": "code",
      "metadata": {
        "ExecuteTime": {
          "end_time": "2021-02-22T14:20:19.174991Z",
          "start_time": "2021-02-22T14:20:19.169918Z"
        },
        "colab": {
          "base_uri": "https://localhost:8080/"
        },
        "id": "86JDG003zCYS",
        "outputId": "11cf0bc8-ac93-4197-842a-e64634a5b9a2"
      },
      "source": [
        "a = tf.reshape(tf.range(0, 16), (4, 4))\n",
        "3 ** a"
      ],
      "execution_count": 39,
      "outputs": [
        {
          "output_type": "execute_result",
          "data": {
            "text/plain": [
              "<tf.Tensor: shape=(4, 4), dtype=int32, numpy=\n",
              "array([[       1,        3,        9,       27],\n",
              "       [      81,      243,      729,     2187],\n",
              "       [    6561,    19683,    59049,   177147],\n",
              "       [  531441,  1594323,  4782969, 14348907]], dtype=int32)>"
            ]
          },
          "metadata": {
            "tags": []
          },
          "execution_count": 39
        }
      ]
    },
    {
      "cell_type": "markdown",
      "metadata": {
        "id": "p-rS-F6wFcsk"
      },
      "source": [
        "Copyright 2021 CounterFactual.AI LLC. Licensed under the Apache License, Version 2.0 (the \"License\"); you may not use this file except in compliance with the License. You may obtain a copy of the License at http://www.apache.org/licenses/LICENSE-2.0 Unless required by applicable law or agreed to in writing, software distributed under the License is distributed on an \"AS IS\" BASIS, WITHOUT WARRANTIES OR CONDITIONS OF ANY KIND, either express or implied. See the License for the specific language governing permissions and limitations under the License."
      ]
    }
  ]
}
