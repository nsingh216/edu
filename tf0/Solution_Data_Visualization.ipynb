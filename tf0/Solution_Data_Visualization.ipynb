{
  "nbformat": 4,
  "nbformat_minor": 0,
  "metadata": {
    "kernelspec": {
      "display_name": "Python 3",
      "language": "python",
      "name": "python3"
    },
    "language_info": {
      "codemirror_mode": {
        "name": "ipython",
        "version": 3
      },
      "file_extension": ".py",
      "mimetype": "text/x-python",
      "name": "python",
      "nbconvert_exporter": "python",
      "pygments_lexer": "ipython3",
      "version": "3.7.3"
    },
    "colab": {
      "name": "Solution_Data_Visualization.ipynb",
      "provenance": [],
      "collapsed_sections": []
    }
  },
  "cells": [
    {
      "cell_type": "markdown",
      "metadata": {
        "id": "_kjxNPbjHgPY"
      },
      "source": [
        "<a href=\"https://colab.research.google.com/github/osipov/edu/blob/master/tf0/Solution_Data_Visualization.ipynb\" target=\"_blank\"><img src=\"https://colab.research.google.com/assets/colab-badge.svg\"/></a>"
      ]
    },
    {
      "cell_type": "markdown",
      "metadata": {
        "id": "0PegyRWbN5Cy"
      },
      "source": [
        "# Exercise: Visualization"
      ]
    },
    {
      "cell_type": "markdown",
      "metadata": {
        "id": "xfYk6iiyN5Cz"
      },
      "source": [
        "## First, remember to render images inline..."
      ]
    },
    {
      "cell_type": "code",
      "metadata": {
        "id": "ZjxYs11yN5C0"
      },
      "source": [
        "%matplotlib inline"
      ],
      "execution_count": null,
      "outputs": []
    },
    {
      "cell_type": "markdown",
      "metadata": {
        "id": "RwcMg2ZLN5C4"
      },
      "source": [
        "## You'll need __`matplotlib`__,  __`torch`__ and `math`\n",
        "* don't forget the standard abbreviations"
      ]
    },
    {
      "cell_type": "code",
      "metadata": {
        "id": "C4TArcXWN5C5"
      },
      "source": [
        "import matplotlib.pyplot as plt\n",
        "import tensorflow as tf\n",
        "import math"
      ],
      "execution_count": null,
      "outputs": []
    },
    {
      "cell_type": "markdown",
      "metadata": {
        "id": "gRzN2F4sN5C7"
      },
      "source": [
        "## Simple Plot\n",
        "\n",
        "1. Create __`x`__, a vector of data between 0 and 2 with a step size of 0.01\n",
        "* Generate corresponding data __`y`__ using the function $ 1 + sin(2\\pi x) $ using `math.pi`\n",
        "* Plot these data\n",
        "* Set the x label to \"X-label\"\n",
        "* Set the y label to \"Y-label\"\n",
        "* Set the title to \"Simple Plot\"\n",
        "* Save the figure to a file called \"simple.png\"\n"
      ]
    },
    {
      "cell_type": "code",
      "metadata": {
        "id": "_xkQtblVN5C8"
      },
      "source": [
        "x = tf.range(0.0, 2.0, 0.01)\n",
        "y = 1 + tf.sin(2 * math.pi * x)\n",
        "\n",
        "fig, ax = plt.subplots()\n",
        "\n",
        "ax.plot(x, y)\n",
        "ax.set(xlabel='X-label', ylabel='Y-label', title='Simple Plot')\n",
        "fig.savefig(\"simple.png\")"
      ],
      "execution_count": null,
      "outputs": []
    },
    {
      "cell_type": "markdown",
      "metadata": {
        "id": "TSjh2yLaN5C_"
      },
      "source": [
        "## Scatter Plot\n",
        "* Generate a scatter plot of 100 random __`x`__ values and 100 random __`y`__ values"
      ]
    },
    {
      "cell_type": "code",
      "metadata": {
        "id": "X7q7K4jzN5DA"
      },
      "source": [
        "n = [100]\n",
        "x = tf.random.uniform(n)\n",
        "y = tf.random.uniform(n)\n",
        "\n",
        "plt.scatter(x, y);"
      ],
      "execution_count": null,
      "outputs": []
    },
    {
      "cell_type": "markdown",
      "metadata": {
        "id": "Ff188hy8N5DD"
      },
      "source": [
        "## Colored Scatter Plot\n",
        "* Now generate a scatterplot with 100 random color values that will be mapped to the default color map"
      ]
    },
    {
      "cell_type": "code",
      "metadata": {
        "id": "Byfp9Y-VN5DE"
      },
      "source": [
        "n = [100]\n",
        "x = tf.random.uniform(n)\n",
        "y = tf.random.uniform(n)\n",
        "colors = tf.random.uniform(n)\n",
        "\n",
        "plt.scatter(x, y, c=colors);"
      ],
      "execution_count": null,
      "outputs": []
    },
    {
      "cell_type": "markdown",
      "metadata": {
        "id": "vZ3qTyqtN5DH"
      },
      "source": [
        "## Color/Size Scatter Plot\n",
        "* Repeat the last plot, but change the size of each of the circles to be a random number between 0.0 and 1.0 * 100\n",
        "* __Note:__ you probably want to modify the opacity in case the circles stack on top of one another"
      ]
    },
    {
      "cell_type": "code",
      "metadata": {
        "id": "m9uJMfKmN5DH"
      },
      "source": [
        "n = [100]\n",
        "x = tf.random.uniform(n)\n",
        "y = tf.random.uniform(n)\n",
        "colors = tf.random.uniform(n)\n",
        "\n",
        "area = 100 * tf.random.uniform(n)\n",
        "\n",
        "plt.scatter(x, y, c=colors, s=area, alpha=0.5);"
      ],
      "execution_count": null,
      "outputs": []
    },
    {
      "cell_type": "markdown",
      "metadata": {
        "id": "tlAfnIErN5DL"
      },
      "source": [
        "## Histogram\n",
        "* Create a histogram of 100 random values from a normal distribution"
      ]
    },
    {
      "cell_type": "code",
      "metadata": {
        "id": "-NKWOsWxN5DM"
      },
      "source": [
        "n = [100]\n",
        "x = tf.random.normal(n)\n",
        "fig, ax = plt.subplots()\n",
        "\n",
        "ax.hist(x)\n",
        "\n",
        "plt.show()"
      ],
      "execution_count": null,
      "outputs": []
    },
    {
      "cell_type": "markdown",
      "metadata": {
        "id": "0jQmr931N5DO"
      },
      "source": [
        "## Overlayed Histogram\n",
        "* Create two datasets with 100 random values each from a normal distribution\n",
        "* Display both  on the same plot\n",
        "* Make sure they are readable so adjust the transparency for each histogram\n",
        "* Display a legend"
      ]
    },
    {
      "cell_type": "code",
      "metadata": {
        "id": "W_tbPjGnN5DP"
      },
      "source": [
        "n = [100]\n",
        "x1 = tf.random.normal(n)\n",
        "x2 = tf.random.normal(n)\n",
        "\n",
        "fig, ax = plt.subplots()\n",
        "\n",
        "ax.hist(x1, alpha=0.5, label='x1')\n",
        "ax.hist(x2, alpha=0.5, label='x2')\n",
        "ax.legend()\n",
        "\n",
        "plt.show()"
      ],
      "execution_count": null,
      "outputs": []
    },
    {
      "cell_type": "markdown",
      "metadata": {
        "id": "tA1UgoIzN5DS"
      },
      "source": [
        "## Side-by-side Histograms\n",
        "* Create two side-by-side histograms of separate datasets with 100 random values each from a normal distribution\n",
        "* Use 30 bins\n",
        "* Make it so the plots share their axes"
      ]
    },
    {
      "cell_type": "code",
      "metadata": {
        "id": "JJdPenm2N5DT"
      },
      "source": [
        "n = [100]\n",
        "x1 = tf.random.normal(n)\n",
        "x2 = tf.random.normal(n)\n",
        "\n",
        "fig, (ax1, ax2) = plt.subplots(nrows=1, ncols=2, sharex=True, sharey=True)\n",
        "\n",
        "ax1.hist(x1, bins=30)\n",
        "ax2.hist(x2, bins=30)\n",
        "\n",
        "plt.show()"
      ],
      "execution_count": null,
      "outputs": []
    },
    {
      "cell_type": "markdown",
      "metadata": {
        "id": "W71gQl25N5DW"
      },
      "source": [
        "## Write the code to produce this figure\n",
        "![power plot](https://raw.githubusercontent.com/osipov/edu/master/pyt0/images/power.png)\n",
        "* the x axis represents time intervals __`t`__ of 200ms\n",
        "* the y axis represents $ t, t^2, t^3 $"
      ]
    },
    {
      "cell_type": "code",
      "metadata": {
        "id": "C3xvhCjuN5DY"
      },
      "source": [
        "import tensorflow as tf\n",
        "import matplotlib.pyplot as plt\n",
        "\n",
        "# Sampled time at 200ms intervals\n",
        "t = tf.range(0., 5., 0.2)\n",
        "\n",
        "# green dashes, blue squares and red triangles\n",
        "plt.plot(t, t, 'g--', t, t**2, 'bs', t, t**3, 'r^')\n",
        "plt.show()"
      ],
      "execution_count": null,
      "outputs": []
    },
    {
      "cell_type": "markdown",
      "metadata": {
        "id": "36LD4SfVN5Db"
      },
      "source": [
        "## Write the code to produce this bar chart\n",
        "![popularity](https://raw.githubusercontent.com/osipov/edu/master/pyt0/images/popularity.png)\n",
        "* the popularity values are __`22.2, 17.6, 8.8, 8, 7.7, 6.7`__"
      ]
    },
    {
      "cell_type": "code",
      "metadata": {
        "id": "90rLWJSrN5Dc"
      },
      "source": [
        "import matplotlib.pyplot as plt\n",
        "x = ['Java', 'Python', 'PHP', 'JavaScript', 'C#', 'C++']\n",
        "popularity = [22.2, 17.6, 8.8, 8, 7.7, 6.7]\n",
        "x_pos = range(6)\n",
        "plt.bar(x_pos, popularity, color='blue')\n",
        "plt.xlabel(\"Languages\")\n",
        "plt.ylabel(\"Popularity\")\n",
        "plt.title(\"Popularity of Programming Language\\n\" + \"Worldwide, Oct 2017 compared to a year ago\")\n",
        "plt.xticks(x_pos, x)\n",
        "# Turn on the grid\n",
        "plt.minorticks_on()\n",
        "plt.grid(which='major', linestyle='-', linewidth=0.5, color='red')\n",
        "# Customize the minor grid\n",
        "plt.grid(which='minor', linestyle=':', color='black')\n",
        "plt.show()"
      ],
      "execution_count": null,
      "outputs": []
    },
    {
      "cell_type": "markdown",
      "metadata": {
        "id": "NassJftqN63B"
      },
      "source": [
        "Copyright 2021 CounterFactual.AI LLC. Licensed under the Apache License, Version 2.0 (the \"License\"); you may not use this file except in compliance with the License. You may obtain a copy of the License at http://www.apache.org/licenses/LICENSE-2.0 Unless required by applicable law or agreed to in writing, software distributed under the License is distributed on an \"AS IS\" BASIS, WITHOUT WARRANTIES OR CONDITIONS OF ANY KIND, either express or implied. See the License for the specific language governing permissions and limitations under the License."
      ]
    }
  ]
}