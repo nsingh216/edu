{
 "cells": [
  {
   "cell_type": "markdown",
   "metadata": {},
   "source": [
    "# Docker Exercise 07\n",
    "\n",
    "# Docker Compose\n",
    "Just like `Dockerfile` makes creating images easier, Docker Compose makes deploying containers easier.\n",
    "\n",
    "Docker Compose expects a YAML file, usually named `docker-compose.yml`, which contains information about what image to use to run containers, ports to expose, volumes to mount, networks, etc.\n",
    "\n",
    "It let you run all of the above as single deployment, yet be scalable at the same time.\n",
    "\n",
    "## Example Voting App\n",
    "Docker has open-sourced a very good example of a web app and uses `docker-compose.yml` to deploy it.\n",
    "\n",
    "https://github.com/dockersamples/example-voting-app\n",
    "\n",
    "Read the [Architecture](https://github.com/dockersamples/example-voting-app#architecture) from the above repository description and come back.\n",
    "\n",
    "Ready? Let's open up the `docker-compose.yml` file.\n",
    "\n",
    "The file is pretty explainatory, but from a higher level, this is the format:\n",
    "\n",
    "```\n",
    "version: \"3\"\n",
    "\n",
    "services:\n",
    "  [container 1 name]:\n",
    "    [fixed image or build method]\n",
    "    [ports to expose]\n",
    "    [volumes to mount]\n",
    "    [networks to mount]\n",
    "\n",
    "  ...\n",
    "\n",
    "volumes:\n",
    "  [volume 1]:\n",
    "    [mount mode and options]\n",
    "\n",
    "  ...\n",
    "\n",
    "networks:\n",
    "  [network 1]:\n",
    "    [mount mode and options]\n",
    "\n",
    "  ...\n",
    "\n",
    "...\n",
    "```"
   ]
  },
  {
   "cell_type": "markdown",
   "metadata": {},
   "source": [
    "Spin up the complete application."
   ]
  },
  {
   "cell_type": "code",
   "execution_count": null,
   "metadata": {},
   "outputs": [],
   "source": [
    "%%bash\n",
    "docker-compose up"
   ]
  },
  {
   "cell_type": "markdown",
   "metadata": {},
   "source": [
    "Now check all the running containers, or inspect each container for more details."
   ]
  },
  {
   "cell_type": "code",
   "execution_count": null,
   "metadata": {},
   "outputs": [],
   "source": [
    "%%bash\n",
    "docker inspect <container id>"
   ]
  },
  {
   "cell_type": "markdown",
   "metadata": {},
   "source": [
    "### Create your own Docker compose configuration\n",
    "\n",
    "Start by creating a Dockerfile for a PHP server using the following commands."
   ]
  },
  {
   "cell_type": "code",
   "execution_count": null,
   "metadata": {},
   "outputs": [],
   "source": [
    "%%writefile Dockerfile\n",
    "FROM php:7.2-apache\n",
    "\n",
    "### Let's add xdebug to our installation\n",
    "RUN pecl install xdebug-2.6.0\n",
    "\n",
    "### Enable the module\n",
    "RUN docker-php-ext-enable xdebug\n",
    "\n",
    "### Let's also add redis...\n",
    "RUN pecl install redis-4.0.1\n",
    "\n",
    "### ...and enable the redis module\n",
    "RUN docker-php-ext-enable redis\n",
    "\n",
    "### Finally, let's set an environment variable for Redis\n",
    "ENV REDIS_HOST redis"
   ]
  },
  {
   "cell_type": "markdown",
   "metadata": {},
   "source": [
    "### Create our docker compose file\n",
    "\n",
    "Save the following to `docker-compose.yaml`."
   ]
  },
  {
   "cell_type": "code",
   "execution_count": null,
   "metadata": {},
   "outputs": [],
   "source": [
    "%%writefile docker-compose.yaml\n",
    "version: \"3\"\n",
    "services:\n",
    "    www:\n",
    "        build: .\n",
    "        ports:\n",
    "            - \"8080:80\"\n",
    "        volumes:\n",
    "            - ./src:/var/www/html/\n",
    "        networks:\n",
    "            - default"
   ]
  },
  {
   "cell_type": "markdown",
   "metadata": {},
   "source": [
    "### Start the Docker container"
   ]
  },
  {
   "cell_type": "code",
   "execution_count": null,
   "metadata": {},
   "outputs": [],
   "source": [
    "%%bash\n",
    "docker-compose up"
   ]
  },
  {
   "cell_type": "markdown",
   "metadata": {},
   "source": [
    "### Stop and remove the Docker container"
   ]
  },
  {
   "cell_type": "code",
   "execution_count": null,
   "metadata": {},
   "outputs": [],
   "source": [
    "%%bash\n",
    "docker-compose down"
   ]
  },
  {
   "cell_type": "markdown",
   "metadata": {},
   "source": [
    "That's all folks!\n",
    "\n",
    "### Resources\n",
    "\n",
    "* [Docker Compose](https://docs.docker.com/compose/)\n",
    "* [Docker Compose Reference - up](https://docs.docker.com/compose/reference/up/)\n",
    "* [Docker Compose Reference - down](https://docs.docker.com/compose/reference/down/)"
   ]
  },
  {
   "cell_type": "code",
   "execution_count": null,
   "metadata": {},
   "outputs": [],
   "source": []
  }
 ],
 "metadata": {
  "kernelspec": {
   "display_name": "Python 3",
   "language": "python",
   "name": "python3"
  },
  "language_info": {
   "codemirror_mode": {
    "name": "ipython",
    "version": 3
   },
   "file_extension": ".py",
   "mimetype": "text/x-python",
   "name": "python",
   "nbconvert_exporter": "python",
   "pygments_lexer": "ipython3",
   "version": "3.8.6"
  }
 },
 "nbformat": 4,
 "nbformat_minor": 4
}
