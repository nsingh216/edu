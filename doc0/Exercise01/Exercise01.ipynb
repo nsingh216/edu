{
 "cells": [
  {
   "cell_type": "markdown",
   "metadata": {},
   "source": [
    "# Docker Exercise 01\n",
    "\n",
    "In this exercise we'll look at the basics of running containers\n",
    "\n",
    "### Verify the docker install\n",
    "\n",
    "Once installed, check if Docker is working properly:"
   ]
  },
  {
   "cell_type": "code",
   "execution_count": null,
   "metadata": {},
   "outputs": [],
   "source": [
    "%%bash\n",
    "docker info"
   ]
  },
  {
   "cell_type": "markdown",
   "metadata": {},
   "source": [
    "Don't worry if you are overwhelmed by the details in the output. You are just starting out :)"
   ]
  },
  {
   "cell_type": "markdown",
   "metadata": {},
   "source": [
    "To make sure that your user has been added to `docker` group, run the following command and expect no errors and the `docker` group listed:"
   ]
  },
  {
   "cell_type": "code",
   "execution_count": null,
   "metadata": {},
   "outputs": [],
   "source": [
    "%%bash\n",
    "groups"
   ]
  },
  {
   "cell_type": "markdown",
   "metadata": {},
   "source": [
    "### Try running a hello world container\n",
    "\n",
    "`docker run hello-world`\n",
    "\n",
    "### Show the running containers (if any)\n",
    "\n",
    "`docker ps`\n",
    "\n",
    "### Stopping a running container\n",
    "\n",
    "`docker stop CONTAINER_ID`\n",
    "\n",
    "### Removing a stopped container\n",
    "\n",
    "`docker rm CONTAINER_ID`\n",
    "\n",
    "Voila, you just used Docker!\n",
    "\n",
    "## Resources\n",
    "\n",
    "* [Docker Reference - run](https://docs.docker.com/engine/reference/run/)\n",
    "* [Docker Reference - ps](https://docs.docker.com/engine/reference/commandline/ps/)\n",
    "* [Docker Reference - stop](https://docs.docker.com/engine/reference/commandline/stop/)\n",
    "* [Docker Reference - rm](https://docs.docker.com/engine/reference/commandline/rm/)"
   ]
  }
 ],
 "metadata": {
  "kernelspec": {
   "display_name": "Python 3",
   "language": "python",
   "name": "python3"
  },
  "language_info": {
   "codemirror_mode": {
    "name": "ipython",
    "version": 3
   },
   "file_extension": ".py",
   "mimetype": "text/x-python",
   "name": "python",
   "nbconvert_exporter": "python",
   "pygments_lexer": "ipython3",
   "version": "3.8.6"
  }
 },
 "nbformat": 4,
 "nbformat_minor": 4
}
