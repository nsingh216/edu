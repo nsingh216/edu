{
 "cells": [
  {
   "cell_type": "markdown",
   "metadata": {},
   "source": [
    "# Docker Exercise 01\n",
    "\n",
    "In this exercise we'll look at the basics of running containers\n",
    "\n",
    "### Verify the docker install\n",
    "\n",
    "Once installed, check if Docker is working properly:"
   ]
  },
  {
   "cell_type": "code",
   "execution_count": null,
   "metadata": {},
   "outputs": [],
   "source": [
    "%%bash\n",
    "docker info"
   ]
  },
  {
   "cell_type": "markdown",
   "metadata": {},
   "source": [
    "Don't worry if you are overwhelmed by the details in the output. You are just starting out :)"
   ]
  },
  {
   "cell_type": "markdown",
   "metadata": {},
   "source": [
    "To make sure that your user has been added to `docker` group, run the following command and expect no errors and the `docker` group listed:"
   ]
  },
  {
   "cell_type": "code",
   "execution_count": null,
   "metadata": {},
   "outputs": [],
   "source": [
    "%%bash\n",
    "groups"
   ]
  },
  {
   "cell_type": "markdown",
   "metadata": {},
   "source": [
    "### Try running a hello world container\n",
    "\n",
    "`docker run hello-world`"
   ]
  },
  {
   "cell_type": "code",
   "execution_count": null,
   "metadata": {},
   "outputs": [],
   "source": [
    "%%bash\n",
    "docker run hello-world"
   ]
  },
  {
   "cell_type": "markdown",
   "metadata": {},
   "source": [
    "### Show the running containers (if any)\n",
    "\n",
    "`docker ps`"
   ]
  },
  {
   "cell_type": "code",
   "execution_count": null,
   "metadata": {},
   "outputs": [],
   "source": [
    "%%bash\n",
    "docker ps"
   ]
  },
  {
   "cell_type": "markdown",
   "metadata": {},
   "source": [
    "Notice that using `docker ps` does not return the information about the `hello-world` image. This is since the `hello-world` image is no longer running. To return the information about a stopped image, you can use `docker ps --all` or `docker ps -a` for short."
   ]
  },
  {
   "cell_type": "code",
   "execution_count": null,
   "metadata": {},
   "outputs": [],
   "source": [
    "%%bash\n",
    "docker ps --all"
   ]
  },
  {
   "cell_type": "markdown",
   "metadata": {},
   "source": [
    "When using a \"cattle\" (vs \"pets\") approach to manage your Docker containers, it is useful to run `docker ps -aq` which lists just the container IDs. If you know how to use `xargs` you can combine the output of `docker ps -aq` with `xargs` to automate container management."
   ]
  },
  {
   "cell_type": "code",
   "execution_count": null,
   "metadata": {},
   "outputs": [],
   "source": [
    "%%bash\n",
    "docker ps -aq"
   ]
  },
  {
   "cell_type": "markdown",
   "metadata": {},
   "source": [
    "Similarly `docker ps -lq` lists the most recently used container ID."
   ]
  },
  {
   "cell_type": "code",
   "execution_count": null,
   "metadata": {},
   "outputs": [],
   "source": [
    "%%bash\n",
    "docker ps -lq"
   ]
  },
  {
   "cell_type": "markdown",
   "metadata": {},
   "source": [
    "### Stopping a running container\n",
    "\n",
    "`docker stop CONTAINER_ID`\n",
    "\n",
    "If a container is running, you can stop it (shown using the `Exited` status) using `docker stop`. Since your `hello-world` image already exited and is stopped, you can stop it but it will have no effect. Try it:"
   ]
  },
  {
   "cell_type": "code",
   "execution_count": null,
   "metadata": {},
   "outputs": [],
   "source": [
    "%%bash\n",
    "docker stop $(docker ps -lq)"
   ]
  },
  {
   "cell_type": "markdown",
   "metadata": {},
   "source": [
    "### Removing a stopped container\n",
    "\n",
    "If a container is stopped (exited), you can remove it and free up disk space used by the container instance using `docker rm`."
   ]
  },
  {
   "cell_type": "code",
   "execution_count": null,
   "metadata": {},
   "outputs": [],
   "source": [
    "%%bash\n",
    "docker rm $(docker ps -lq)"
   ]
  },
  {
   "cell_type": "markdown",
   "metadata": {},
   "source": [
    "Notice that once you have removed a container it disappears in the `docker ps --all` list or `docker ps -a` for short."
   ]
  },
  {
   "cell_type": "code",
   "execution_count": null,
   "metadata": {},
   "outputs": [],
   "source": [
    "%%bash\n",
    "docker ps -a"
   ]
  },
  {
   "cell_type": "markdown",
   "metadata": {},
   "source": [
    "Voila, you just used Docker!\n",
    "\n",
    "## Resources\n",
    "\n",
    "* [Docker Reference - run](https://docs.docker.com/engine/reference/run/)\n",
    "* [Docker Reference - ps](https://docs.docker.com/engine/reference/commandline/ps/)\n",
    "* [Docker Reference - stop](https://docs.docker.com/engine/reference/commandline/stop/)\n",
    "* [Docker Reference - rm](https://docs.docker.com/engine/reference/commandline/rm/)"
   ]
  }
 ],
 "metadata": {
  "kernelspec": {
   "display_name": "Python 3",
   "language": "python",
   "name": "python3"
  },
  "language_info": {
   "codemirror_mode": {
    "name": "ipython",
    "version": 3
   },
   "file_extension": ".py",
   "mimetype": "text/x-python",
   "name": "python",
   "nbconvert_exporter": "python",
   "pygments_lexer": "ipython3",
   "version": "3.8.6"
  }
 },
 "nbformat": 4,
 "nbformat_minor": 4
}
