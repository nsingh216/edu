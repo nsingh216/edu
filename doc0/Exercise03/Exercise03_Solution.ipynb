{
 "cells": [
  {
   "cell_type": "markdown",
   "metadata": {},
   "source": [
    "# Docker Exercise 03\n",
    "\n",
    "This exercise we're going to look at building our own images from a Dockerfile\n",
    "\n",
    "### Create a file named `Dockerfile` with the following contents"
   ]
  },
  {
   "cell_type": "code",
   "execution_count": null,
   "metadata": {},
   "outputs": [],
   "source": [
    "%%writefile Dockerfile\n",
    "FROM nginx\n",
    "COPY html /usr/share/nginx/html"
   ]
  },
  {
   "cell_type": "markdown",
   "metadata": {},
   "source": [
    "### Create a directory named `html`\n",
    "\n",
    "**Hint:** `mkdir -p` ensures that if the directory exists, you don't get an error message when creating it again."
   ]
  },
  {
   "cell_type": "code",
   "execution_count": null,
   "metadata": {},
   "outputs": [],
   "source": [
    "%%bash\n",
    "mkdir -p html"
   ]
  },
  {
   "cell_type": "markdown",
   "metadata": {},
   "source": [
    "In the `html` directory place a file named `hello.html` with the following contents"
   ]
  },
  {
   "cell_type": "code",
   "execution_count": null,
   "metadata": {},
   "outputs": [],
   "source": [
    "%%writefile html/hello.html\n",
    "<html>\n",
    "  <body>Hello Docker World</body>\n",
    "</html>"
   ]
  },
  {
   "cell_type": "markdown",
   "metadata": {},
   "source": [
    "### Create our Docker image from our Dockerfile\n",
    "\n",
    "Use `docker build` using the `Dockerfile` in the current directory and assign it the tag `my_http`"
   ]
  },
  {
   "cell_type": "code",
   "execution_count": null,
   "metadata": {},
   "outputs": [],
   "source": [
    "%%bash\n",
    "docker build --tag my_http ."
   ]
  },
  {
   "cell_type": "markdown",
   "metadata": {},
   "source": [
    "### Check that our image has been created\n",
    "\n",
    "Use `docker images`"
   ]
  },
  {
   "cell_type": "code",
   "execution_count": null,
   "metadata": {},
   "outputs": [],
   "source": [
    "%%bash\n",
    "docker images"
   ]
  },
  {
   "cell_type": "markdown",
   "metadata": {},
   "source": [
    "You can also list image information by an image tag using `docker images <image tag>`\n",
    "\n",
    "Use `docker images my_http`"
   ]
  },
  {
   "cell_type": "code",
   "execution_count": null,
   "metadata": {},
   "outputs": [],
   "source": [
    "%%bash\n",
    "docker images my_http"
   ]
  },
  {
   "cell_type": "markdown",
   "metadata": {},
   "source": [
    "### Run the newly created docker image on host port 8080\n",
    "\n",
    "**Hint:** The `my_http` image exposes (opens) port 80 in the container."
   ]
  },
  {
   "cell_type": "code",
   "execution_count": null,
   "metadata": {},
   "outputs": [],
   "source": [
    "%%bash\n",
    "docker run -d -p 8080:80 my_http"
   ]
  },
  {
   "cell_type": "markdown",
   "metadata": {},
   "source": [
    "### Request `hello.html`\n",
    "\n",
    "Using `curl`, request `localhost:8080/hello.html` and confirm that you see the `Hello Docker World` message."
   ]
  },
  {
   "cell_type": "code",
   "execution_count": null,
   "metadata": {},
   "outputs": [],
   "source": [
    "%%bash\n",
    "curl localhost:8080/hello.html"
   ]
  },
  {
   "cell_type": "markdown",
   "metadata": {},
   "source": []
  },
  {
   "cell_type": "code",
   "execution_count": null,
   "metadata": {},
   "outputs": [],
   "source": []
  },
  {
   "cell_type": "markdown",
   "metadata": {},
   "source": [
    "### Find the image ID\n",
    "\n",
    "Use `docker images <image name>` to query for the `my_http` image. You can use the `-aq` to fetch just the image ID."
   ]
  },
  {
   "cell_type": "code",
   "execution_count": null,
   "metadata": {},
   "outputs": [],
   "source": [
    "%%bash\n",
    "docker images -aq my_http"
   ]
  },
  {
   "cell_type": "markdown",
   "metadata": {},
   "source": [
    "### Attempt to remove the image\n",
    "\n",
    "Use `docker rmi <image ID>` to remove an image with a specific ID.\n",
    "\n",
    "Use the image ID from the last cell where you figured out how to find the image ID for the `my_http` image.\n",
    "\n",
    "You should expect that the command will return an error: \n",
    "```\n",
    "Error response from daemon: conflict\n",
    "```"
   ]
  },
  {
   "cell_type": "code",
   "execution_count": null,
   "metadata": {},
   "outputs": [],
   "source": [
    "%%bash\n",
    "docker rmi my_http"
   ]
  },
  {
   "cell_type": "markdown",
   "metadata": {},
   "source": [
    "### Stop the container\n",
    "\n",
    "Since the image is used by `my_http`, a running container, you must find stop the running container and then you can force remove the image."
   ]
  },
  {
   "cell_type": "code",
   "execution_count": null,
   "metadata": {},
   "outputs": [],
   "source": [
    "%%bash\n",
    "docker stop $(docker ps -lq)"
   ]
  },
  {
   "cell_type": "markdown",
   "metadata": {},
   "source": [
    "### Force the image removal\n",
    "\n",
    "Use `docker rmi <image ID> --force`"
   ]
  },
  {
   "cell_type": "code",
   "execution_count": null,
   "metadata": {},
   "outputs": [],
   "source": [
    "%%bash\n",
    "docker rmi $(docker images my_http -aq) --force"
   ]
  },
  {
   "cell_type": "markdown",
   "metadata": {},
   "source": [
    "Check the images and confirm that you force removed the image."
   ]
  },
  {
   "cell_type": "code",
   "execution_count": null,
   "metadata": {},
   "outputs": [],
   "source": [
    "%%bash\n",
    "docker images"
   ]
  },
  {
   "cell_type": "markdown",
   "metadata": {},
   "source": [
    "### Resources\n",
    "\n",
    "* [Docker Reference - builder](https://docs.docker.com/engine/reference/builder/)\n",
    "* [Docker Reference - build](https://docs.docker.com/engine/reference/commandline/build/)\n",
    "* [Docker Reference - images](https://docs.docker.com/engine/reference/commandline/images/)\n",
    "* [Docker Reference - rmi](https://docs.docker.com/engine/reference/commandline/rmi/)"
   ]
  }
 ],
 "metadata": {
  "kernelspec": {
   "display_name": "Python 3",
   "language": "python",
   "name": "python3"
  },
  "language_info": {
   "codemirror_mode": {
    "name": "ipython",
    "version": 3
   },
   "file_extension": ".py",
   "mimetype": "text/x-python",
   "name": "python",
   "nbconvert_exporter": "python",
   "pygments_lexer": "ipython3",
   "version": "3.8.6"
  }
 },
 "nbformat": 4,
 "nbformat_minor": 4
}
