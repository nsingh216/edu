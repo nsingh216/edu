{
 "cells": [
  {
   "cell_type": "markdown",
   "metadata": {},
   "source": [
    "# Docker Exercise 08\n",
    "\n",
    "Docker Networking in practice with PHP & MySQL\n",
    "\n",
    "Start by creating a new working directory.\n",
    "\n",
    "In the working directory, create two empty sub-directories: `db` and `www`.\n",
    "\n",
    "### Create our database Dockerfile in `./db`"
   ]
  },
  {
   "cell_type": "code",
   "execution_count": null,
   "metadata": {},
   "outputs": [],
   "source": [
    "FROM mysql:8.0"
   ]
  },
  {
   "cell_type": "markdown",
   "metadata": {},
   "source": [
    "### Create our web Dockerfile in `./www`"
   ]
  },
  {
   "cell_type": "code",
   "execution_count": null,
   "metadata": {},
   "outputs": [],
   "source": [
    "FROM php:7.2-apache\n",
    "\n",
    "RUN docker-php-ext-install mysqli\n",
    "RUN docker-php-ext-enable mysqli\n"
   ]
  },
  {
   "cell_type": "markdown",
   "metadata": {},
   "source": [
    "### Setup our network in the Docker compose file"
   ]
  },
  {
   "cell_type": "code",
   "execution_count": null,
   "metadata": {},
   "outputs": [],
   "source": [
    "version: \"3\"\n",
    "\n",
    "networks:\n",
    "  ex08-frontend:\n",
    "    driver: bridge\n",
    "    ipam:\n",
    "      driver: default\n",
    "      config:\n",
    "        - subnet: 172.10.1.0/24\n",
    "  ex08-backend:\n",
    "    driver: bridge\n",
    "    ipam:\n",
    "      driver: default\n",
    "      config:\n",
    "        - subnet: 172.10.2.0/23"
   ]
  },
  {
   "cell_type": "markdown",
   "metadata": {},
   "source": [
    "### Create a database environment file\n",
    "\n",
    "Save the following to a file named `development.env`"
   ]
  },
  {
   "cell_type": "code",
   "execution_count": null,
   "metadata": {},
   "outputs": [],
   "source": [
    "MYSQL_USER=sys_admin\n",
    "MYSQL_PASSWORD=sys_password\n",
    "MYSQL_ROOT_PASSWORD=root_password"
   ]
  },
  {
   "cell_type": "markdown",
   "metadata": {},
   "source": [
    "### Add the database container"
   ]
  },
  {
   "cell_type": "code",
   "execution_count": null,
   "metadata": {},
   "outputs": [],
   "source": [
    "services:\n",
    "  ex08-db:\n",
    "    build: ./db\n",
    "    command: --default-authentication-plugin=mysql_native_password\n",
    "    ports:\n",
    "      - 3306:3306\n",
    "    networks:\n",
    "      ex08-backend:\n",
    "        ipv4_address: 172.10.3.2\n",
    "    env_file:\n",
    "      - ./development.env"
   ]
  },
  {
   "cell_type": "markdown",
   "metadata": {},
   "source": [
    "### Add the web container"
   ]
  },
  {
   "cell_type": "code",
   "execution_count": null,
   "metadata": {},
   "outputs": [],
   "source": [
    "  ex08-www:\n",
    "    build: ./www\n",
    "    ports:\n",
    "      - 8080:80\n",
    "    volumes:\n",
    "      - ./src:/var/www/html/\n",
    "    networks:\n",
    "      ex08-backend:\n",
    "        ipv4_address: 172.10.2.2\n",
    "      ex08-frontend:\n",
    "        ipv4_address: 172.10.1.2\n",
    "    depends_on:\n",
    "      - ex08-db\n",
    "    env_file:\n",
    "      - ./development.env"
   ]
  },
  {
   "cell_type": "markdown",
   "metadata": {},
   "source": [
    "### PHP Script to test the networking"
   ]
  },
  {
   "cell_type": "code",
   "execution_count": null,
   "metadata": {},
   "outputs": [],
   "source": [
    "<?php\n",
    "\n",
    "$mysqli = new mysqli('ex08-db', getenv('MYSQL_USER'), getenv('MYSQL_PASSWORD'), 'information_schema');\n",
    "\n",
    "if ($mysqli->connect_error) {\n",
    "    echo 'Connection Error [', $mysqli->connect_errno, ']: ', $mysqli->connect_error;\n",
    "} else {\n",
    "    echo 'MySQLi Connected Successfully!';\n",
    "}"
   ]
  },
  {
   "cell_type": "markdown",
   "metadata": {},
   "source": [
    "### Start the containers, networks and volumes"
   ]
  },
  {
   "cell_type": "code",
   "execution_count": null,
   "metadata": {},
   "outputs": [],
   "source": [
    "docker-compose up"
   ]
  },
  {
   "cell_type": "markdown",
   "metadata": {},
   "source": [
    "### To destroy the setup"
   ]
  },
  {
   "cell_type": "code",
   "execution_count": null,
   "metadata": {},
   "outputs": [],
   "source": [
    "docker-compose down"
   ]
  },
  {
   "cell_type": "markdown",
   "metadata": {},
   "source": [
    "### Resources\n",
    "\n",
    "* [Docker - Network](https://docs.docker.com/network/)\n",
    "* [Docker - Environment Variables](https://docs.docker.com/compose/environment-variables/)"
   ]
  }
 ],
 "metadata": {
  "kernelspec": {
   "display_name": "Python 3",
   "language": "python",
   "name": "python3"
  },
  "language_info": {
   "codemirror_mode": {
    "name": "ipython",
    "version": 3
   },
   "file_extension": ".py",
   "mimetype": "text/x-python",
   "name": "python",
   "nbconvert_exporter": "python",
   "pygments_lexer": "ipython3",
   "version": "3.8.6"
  }
 },
 "nbformat": 4,
 "nbformat_minor": 4
}
