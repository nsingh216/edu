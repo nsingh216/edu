{
 "cells": [
  {
   "cell_type": "markdown",
   "metadata": {},
   "source": [
    "# Images\n",
    "OK, first of all, it's not `JPG` or `PNG` file that we're talking about here. It's important to learn a little about images because that's what will be used to run containers\n",
    "\n",
    "Docker Images are just like `tar`/`zip` files. A Docker Image contains everything to setup a container.\n",
    "\n",
    "We'll learn about how to create images in a later lesson, but for now, let's see what image name tells us.\n",
    "\n",
    "## Tags\n",
    "An image name is composed of two parts:\n",
    "\n",
    "```\n",
    "[image name]:[tag]\n",
    "hello-world:latest\n",
    "```"
   ]
  },
  {
   "cell_type": "markdown",
   "metadata": {},
   "source": [
    "Tag is used to label an image with different version.\n",
    "\n",
    "Suppose, I have an image that contains `v1.0` of my web server, I could tag it as `myserver:v1.0`.\n",
    "\n",
    "Different tags can point to the same image. In the above case, the same image can also be tagged as `myserver:latest`, which will be pointing to the `myserver:v1.0` image.\n",
    "\n",
    "In future, I can create another version of the image and tag it as `myserver:v2.0` and point `myserver:latest` to the newer image.\n",
    "\n",
    "# Registry\n",
    "Registry is a place where you can upload and reuse the images uploaded by other users.\n",
    "\n",
    "[Docker Hub](https://hub.docker.com/) is a registry maintained by Docker itself. You can upload your own images, or find all the official images from there, even the `hello-world:latest` image that we used earlier.\n",
    "\n",
    "Docker has a command to search for images through CLI, for example:"
   ]
  },
  {
   "cell_type": "code",
   "execution_count": null,
   "metadata": {},
   "outputs": [],
   "source": [
    "%%bash\n",
    "docker search nginx"
   ]
  },
  {
   "cell_type": "markdown",
   "metadata": {},
   "source": [
    "## Pull an image\n",
    "In the earlier exercise when we ran, `docker run hello-world:latest`, it pulled the image itself. But it is possible to pull an image beforehand to save time:"
   ]
  },
  {
   "cell_type": "code",
   "execution_count": null,
   "metadata": {},
   "outputs": [],
   "source": [
    "%%bash\n",
    "docker pull hello-world:latest"
   ]
  },
  {
   "cell_type": "markdown",
   "metadata": {},
   "source": [
    "It will take some time to pull, depending on the size of the image.\n",
    "\n",
    "## Repository name\n",
    "\n",
    "In case of `hello-world:latest`, there is no repository name. That shows the image is owned/maintained by Docker Hub.\n",
    "\n",
    "Repository name comes in when you pull an image uploaded by some user.\n",
    "\n",
    "```\n",
    "[repo name]/[image name]:[tag]\n",
    "quay.io/ukhomeofficedigital/nginx-proxy:latest\n",
    "```"
   ]
  },
  {
   "cell_type": "markdown",
   "metadata": {},
   "source": [
    "This represents that `quay.io/ukhomeofficedigital` is the owner of the image `nginx-proxy:latest`.\n",
    "\n",
    "You can pull the above image like this:"
   ]
  },
  {
   "cell_type": "code",
   "execution_count": null,
   "metadata": {},
   "outputs": [],
   "source": [
    "%%bash\n",
    "docker pull quay.io/ukhomeofficedigital/nginx-proxy:latest"
   ]
  },
  {
   "cell_type": "markdown",
   "metadata": {},
   "source": [
    "Many images that you use in practice are maintained by Docker Hub. Some images maintained by them are listed below as examples:\n",
    "\n",
    "- `hello-world:latest`\n",
    "- `nginx:latest`\n",
    "- `node:latest`\n",
    "- `ubuntu:latest`\n",
    "\n",
    "## List the images\n",
    "Let's see where does it show up after its pulled:"
   ]
  },
  {
   "cell_type": "code",
   "execution_count": null,
   "metadata": {},
   "outputs": [],
   "source": [
    "%%bash\n",
    "docker image ls"
   ]
  },
  {
   "cell_type": "markdown",
   "metadata": {},
   "source": [
    "The list will show you all the images, with their tags and the time when they were updated.\n",
    "\n",
    "## Retagging Images\n",
    "You can retag an image with a different name.\n",
    "\n",
    "```\n",
    "docker <old image name> <new image name>\n",
    "```"
   ]
  },
  {
   "cell_type": "markdown",
   "metadata": {},
   "source": [
    "Suppose, you wish to upload a copy of `hello-world:latest` image on your repository.\n",
    "\n",
    "**TODO:** In the next cell, set `DOCKER_USERNAME` to be your DockerHub username.\n",
    "\n",
    "Next, re-tag the image with your DockerHub username."
   ]
  },
  {
   "cell_type": "code",
   "execution_count": null,
   "metadata": {},
   "outputs": [],
   "source": [
    "%%bash\n",
    "export DOCKER_USERNAME=<REPLACE_ME>\n",
    "docker tag hello-world:latest $DOCKER_USERNAME/hello-world:latest"
   ]
  },
  {
   "cell_type": "markdown",
   "metadata": {},
   "source": [
    "It will give you an error if you push the image that you're not logged in. You'll first need to create an account on [Docker Hub](https://hub.docker.com/) and login."
   ]
  },
  {
   "cell_type": "code",
   "execution_count": null,
   "metadata": {},
   "outputs": [],
   "source": [
    "%%bash\n",
    "export DOCKER_USERNAME=<REPLACE_ME>\n",
    "export DOCKER_PASSWORD=<REPLACE_ME>\n",
    "docker login -u $DOCKER_USERNAME -p $DOCKER_PASSWORD"
   ]
  },
  {
   "cell_type": "markdown",
   "metadata": {},
   "source": [
    "And then push it to the registry."
   ]
  },
  {
   "cell_type": "code",
   "execution_count": null,
   "metadata": {},
   "outputs": [],
   "source": [
    "%%bash\n",
    "export DOCKER_USERNAME=<REPLACE_ME>\n",
    "docker push $DOCKER_USERNAME/hello-world:latest"
   ]
  },
  {
   "cell_type": "markdown",
   "metadata": {},
   "source": [
    "## Remove an image\n",
    "Sometimes you've pulled so many images that your disk run out of space. So you should remove all the unwanted images:"
   ]
  },
  {
   "cell_type": "code",
   "execution_count": null,
   "metadata": {},
   "outputs": [],
   "source": [
    "%%bash\n",
    "export DOCKER_USERNAME=<REPLACE_ME>\n",
    "docker rmi $DOCKER_USERNAME/hello-world"
   ]
  },
  {
   "cell_type": "markdown",
   "metadata": {},
   "source": [
    "`rmi` stands for `remove image`.\n",
    "\n",
    "\n",
    "Congrats, you just used DockerHub registry! :tada:"
   ]
  }
 ],
 "metadata": {
  "kernelspec": {
   "display_name": "Python 3",
   "language": "python",
   "name": "python3"
  },
  "language_info": {
   "codemirror_mode": {
    "name": "ipython",
    "version": 3
   },
   "file_extension": ".py",
   "mimetype": "text/x-python",
   "name": "python",
   "nbconvert_exporter": "python",
   "pygments_lexer": "ipython3",
   "version": "3.8.6"
  }
 },
 "nbformat": 4,
 "nbformat_minor": 4
}
