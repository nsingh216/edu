{
 "cells": [
  {
   "cell_type": "markdown",
   "metadata": {},
   "source": [
    "# Docker Exercise 02\n",
    "\n",
    "In this exercise we'll look at the basics of using the command line interface\n",
    "\n",
    "\n",
    "\n",
    "# Spin up a container\n",
    "Let's run your first container using a simple command:\n",
    "\n",
    "```\n",
    "docker container run <image name>\n",
    "```"
   ]
  },
  {
   "cell_type": "markdown",
   "metadata": {},
   "source": [
    "`<image name>` specifies what image to use to spin up an instance of a container.\n",
    "\n",
    "An image contains the application to run inside a container.\n",
    "\n",
    "Let's spin up a container that uses `hello-world:latest` image:"
   ]
  },
  {
   "cell_type": "code",
   "execution_count": null,
   "metadata": {},
   "outputs": [],
   "source": [
    "%%bash\n",
    "docker container run hello-world:latest"
   ]
  },
  {
   "cell_type": "markdown",
   "metadata": {},
   "source": [
    "You might notice `latest` in the image name and wonder what's that. It's called an image tag, which is used to specify a particular version of an image.\n",
    "\n",
    "If the tag is not specified with the image name, the `latest` tag is assumed. So if you run the following, the same image will be used:"
   ]
  },
  {
   "cell_type": "markdown",
   "metadata": {},
   "source": [
    "## So, what happened exactly?\n",
    "So let's see what happened when you ran the following command:\n",
    "\n",
    "```\n",
    "docker container run hello-world:latest\n",
    "```"
   ]
  },
  {
   "cell_type": "markdown",
   "metadata": {},
   "source": [
    "The end result of the above command was to run a container, but internally, it did the following:\n",
    "\n",
    "- `docker` command sends the above request to the Docker Daemon, which is running in the background.\n",
    "- The daemon upon receiving the command, check if the image exists.\n",
    "- The daemon downloads/pulls the `hello-world:latest` image from a default registry called [Docker Hub](https://hub.docker.com/).\n",
    "- The daemon created a container with the specified image.\n",
    "- The daemon streamed the output to the `docker` command which is then displayed on your terminal.\n",
    "\n",
    "## List the containers\n",
    "But let's check for running containers using `container ls`:"
   ]
  },
  {
   "cell_type": "code",
   "execution_count": null,
   "metadata": {},
   "outputs": [],
   "source": [
    "%%bash\n",
    "docker container ls"
   ]
  },
  {
   "cell_type": "markdown",
   "metadata": {},
   "source": [
    "Hmm, nothing showed up?\n",
    "\n",
    "That's because the `hello-world:latest` image contains an application which prints out some text and closes immediately. `docker container ls` only shows currently running containers.\n",
    "\n",
    "Let's check it again using `ls --all`:"
   ]
  },
  {
   "cell_type": "code",
   "execution_count": null,
   "metadata": {},
   "outputs": [],
   "source": [
    "%%bash\n",
    "docker container ls --all"
   ]
  },
  {
   "cell_type": "markdown",
   "metadata": {},
   "source": [
    "This will show all the containers.\n",
    "\n",
    "Did you find the one you just created? You'll see a container with `EXITED` status, that's the one.\n",
    "\n",
    "## Remove a container\n",
    "Let's remove the container so it looks clean again:"
   ]
  },
  {
   "cell_type": "code",
   "execution_count": null,
   "metadata": {},
   "outputs": [],
   "source": [
    "%%bash\n",
    "docker container rm $(docker ps -lq)\n",
    "docker container ls --all"
   ]
  },
  {
   "cell_type": "markdown",
   "metadata": {},
   "source": [
    "**Hint:** You can get the `<container id>` from `docker ps -lq` command.\n",
    "\n",
    "## Protip\n",
    "Docker developers are nice people. They know you'll be using some commands very frequently, so they created some short commands:\n",
    "\n",
    "| Long command | Short command |\n",
    "| --- | --- |\n",
    "| `docker container run <image name>` | `docker run <image name>` |\n",
    "| `docker container ls` | `docker ps` |\n",
    "| `docker container rm <container id>` | `docker rm <container id>` |\n",
    "\n",
    "From now on, we will be using the shorter version of the commands.\n",
    "\n",
    "### Running an nginx container in detached mode (background) and mapping a port"
   ]
  },
  {
   "cell_type": "code",
   "execution_count": null,
   "metadata": {},
   "outputs": [],
   "source": [
    "%%bash\n",
    "docker run -d -p 8080:80 nginx"
   ]
  },
  {
   "cell_type": "markdown",
   "metadata": {},
   "source": [
    "```\n",
    "-d=false: Detached mode: Run container in the background, print new container id\n",
    "-p=[]      : Publish a container's port or a range of ports to the host\n",
    "               format: ip:hostPort:containerPort | ip::containerPort | hostPort:containerPort | containerPort\n",
    "               Both hostPort and containerPort can be specified as a\n",
    "               range of ports. When specifying ranges for both, the\n",
    "               number of container ports in the range must match the\n",
    "               number of host ports in the range, for example:\n",
    "                   -p 1234-1236:1234-1236/tcp\n",
    "\n",
    "               When specifying a range for hostPort only, the\n",
    "               containerPort must not be a range.  In this case the\n",
    "               container port is published somewhere within the\n",
    "               specified hostPort range. (e.g., `-p 1234-1236:1234/tcp`)\n",
    "\n",
    "               (use 'docker port' to see the actual mapping)\n",
    "```               "
   ]
  },
  {
   "cell_type": "markdown",
   "metadata": {},
   "source": [
    "## List the containers\n",
    "Let's check:"
   ]
  },
  {
   "cell_type": "code",
   "execution_count": null,
   "metadata": {},
   "outputs": [],
   "source": [
    "%%bash\n",
    "docker ps"
   ]
  },
  {
   "cell_type": "markdown",
   "metadata": {},
   "source": [
    "This time you should see a container with `nginx` in the name.\n",
    "\n",
    "Try to remove it but expect to see `Error response from daemon` because the container is still running.\n"
   ]
  },
  {
   "cell_type": "code",
   "execution_count": null,
   "metadata": {},
   "outputs": [],
   "source": [
    "%%bash\n",
    "docker rm $(docker ps -lq)"
   ]
  },
  {
   "cell_type": "markdown",
   "metadata": {},
   "source": [
    "Stop the container:"
   ]
  },
  {
   "cell_type": "code",
   "execution_count": null,
   "metadata": {},
   "outputs": [],
   "source": [
    "%%bash\n",
    "docker stop $(docker ps -lq)"
   ]
  },
  {
   "cell_type": "markdown",
   "metadata": {},
   "source": [
    "Now you can remove it and confirm that it is gone by listing all the containers:"
   ]
  },
  {
   "cell_type": "code",
   "execution_count": null,
   "metadata": {},
   "outputs": [],
   "source": [
    "%%bash\n",
    "docker rm $(docker ps -lq)\n",
    "docker ps -a"
   ]
  },
  {
   "cell_type": "markdown",
   "metadata": {},
   "source": [
    "This is it!"
   ]
  }
 ],
 "metadata": {
  "kernelspec": {
   "display_name": "Python 3",
   "language": "python",
   "name": "python3"
  },
  "language_info": {
   "codemirror_mode": {
    "name": "ipython",
    "version": 3
   },
   "file_extension": ".py",
   "mimetype": "text/x-python",
   "name": "python",
   "nbconvert_exporter": "python",
   "pygments_lexer": "ipython3",
   "version": "3.8.6"
  }
 },
 "nbformat": 4,
 "nbformat_minor": 4
}
