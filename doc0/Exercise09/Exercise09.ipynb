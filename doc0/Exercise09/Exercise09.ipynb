{
 "cells": [
  {
   "cell_type": "markdown",
   "metadata": {},
   "source": [
    "# Docker Exercise 09\n",
    "\n",
    "### Getting started with Docker Swarms\n",
    "\n",
    "Make sure that Swarm is enabled on your Docker Desktop by typing `docker system info`, and looking for a message `Swarm: active` (you might have to scroll up a little).\n",
    "\n",
    "If Swarm isn't running, simply type `docker swarm init` in a shell prompt to set it up.\n",
    "\n",
    "\n",
    "### Create the networks:"
   ]
  },
  {
   "cell_type": "code",
   "execution_count": null,
   "metadata": {},
   "outputs": [],
   "source": [
    "docker network create --driver overlay --subnet=172.10.1.0/24 ex09-frontend\n",
    "\n",
    "docker network create --driver overlay --subnet=172.10.2.0/23 ex09-backend"
   ]
  },
  {
   "cell_type": "markdown",
   "metadata": {},
   "source": [
    "### Save the MySQL configuration\n",
    "\n",
    "Save the following to your `development.env` file."
   ]
  },
  {
   "cell_type": "code",
   "execution_count": null,
   "metadata": {},
   "outputs": [],
   "source": [
    "MYSQL_USER=sys_admin\n",
    "MYSQL_PASSWORD=sys_password\n",
    "MYSQL_ROOT_PASSWORD=root_password"
   ]
  },
  {
   "cell_type": "markdown",
   "metadata": {},
   "source": [
    "### Create your Docker Swarm configuration"
   ]
  },
  {
   "cell_type": "code",
   "execution_count": null,
   "metadata": {},
   "outputs": [],
   "source": [
    "version: \"3\"\n",
    "\n",
    "networks:\n",
    "  ex09-frontend:\n",
    "    external: true\n",
    "  ex09-backend:\n",
    "    external: true\n",
    "\n",
    "services:\n",
    "\n",
    "  ex09-db:\n",
    "    image: mysql:8.0\n",
    "    command: --default-authentication-plugin=mysql_native_password\n",
    "    ports:\n",
    "      - \"3306:3306\"\n",
    "    networks:\n",
    "      - ex09-backend\n",
    "    env_file:\n",
    "      - ./development.env\n",
    "\n",
    "  ex09-www:\n",
    "    image: dockerjames85/php-mysqli-apache:1.1\n",
    "    ports:\n",
    "      - \"8080:80\"\n",
    "    networks:\n",
    "      - ex09-backend\n",
    "      - ex09-frontend\n",
    "    depends_on:\n",
    "      - ex09-db\n",
    "    env_file:\n",
    "      - ./development.env\n",
    "    deploy:\n",
    "      replicas: 5\n",
    "      resources:\n",
    "        limits:\n",
    "          cpus: \"0.1\"\n",
    "          memory: 100M\n",
    "      restart_policy:\n",
    "        condition: on-failure\n",
    "```        \n",
    "\n",
    "### Deploy the stack\n"
   ]
  },
  {
   "cell_type": "markdown",
   "metadata": {},
   "source": [
    "docker stack deploy -c php-mysqli-apache.yml php-mysqli-apache"
   ]
  },
  {
   "cell_type": "code",
   "execution_count": null,
   "metadata": {},
   "outputs": [],
   "source": [
    "\n",
    "### Veify the stack has been deployed\n"
   ]
  },
  {
   "cell_type": "markdown",
   "metadata": {},
   "source": [
    "docker stack ls"
   ]
  },
  {
   "cell_type": "code",
   "execution_count": null,
   "metadata": {},
   "outputs": [],
   "source": [
    "\n",
    "### Verify all the containers have been deployed\n"
   ]
  },
  {
   "cell_type": "markdown",
   "metadata": {},
   "source": [
    "docker stack ps php-mysqli-apache"
   ]
  },
  {
   "cell_type": "code",
   "execution_count": null,
   "metadata": {},
   "outputs": [],
   "source": [
    "\n",
    "### Verify the load balancers have all the replicas and mapped the ports\n"
   ]
  },
  {
   "cell_type": "markdown",
   "metadata": {},
   "source": [
    "docker stack services php-mysqli-apache"
   ]
  },
  {
   "cell_type": "code",
   "execution_count": null,
   "metadata": {},
   "outputs": [],
   "source": [
    "\n",
    "### See what containers are on the nodemanager in the swarm\n"
   ]
  },
  {
   "cell_type": "markdown",
   "metadata": {},
   "source": [
    "docker ps"
   ]
  },
  {
   "cell_type": "code",
   "execution_count": null,
   "metadata": {},
   "outputs": [],
   "source": [
    "\n",
    "### Verify that the stack is working correctly\n"
   ]
  },
  {
   "cell_type": "markdown",
   "metadata": {},
   "source": [
    "# local node master\n",
    "curl http://localhost:8080"
   ]
  },
  {
   "cell_type": "code",
   "execution_count": null,
   "metadata": {},
   "outputs": [],
   "source": [
    "\n",
    "### Destory and remove the stack"
   ]
  },
  {
   "cell_type": "markdown",
   "metadata": {},
   "source": [
    "docker stack rm php-mysqli-apache\n",
    "```"
   ]
  }
 ],
 "metadata": {
  "kernelspec": {
   "display_name": "Python 3",
   "language": "python",
   "name": "python3"
  },
  "language_info": {
   "codemirror_mode": {
    "name": "ipython",
    "version": 3
   },
   "file_extension": ".py",
   "mimetype": "text/x-python",
   "name": "python",
   "nbconvert_exporter": "python",
   "pygments_lexer": "ipython3",
   "version": "3.8.6"
  }
 },
 "nbformat": 4,
 "nbformat_minor": 4
}
