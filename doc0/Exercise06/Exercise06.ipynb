{
 "cells": [
  {
   "cell_type": "markdown",
   "metadata": {},
   "source": [
    "# Docker Exercise 06\n",
    "\n",
    "Basic Docker bridge network\n",
    "\n",
    "### Create your network"
   ]
  },
  {
   "cell_type": "code",
   "execution_count": null,
   "metadata": {},
   "outputs": [],
   "source": [
    "%%bash\n"
   ]
  },
  {
   "cell_type": "markdown",
   "metadata": {},
   "source": [
    "### Verify your network"
   ]
  },
  {
   "cell_type": "code",
   "execution_count": null,
   "metadata": {},
   "outputs": [],
   "source": [
    "%%bash\n"
   ]
  },
  {
   "cell_type": "markdown",
   "metadata": {},
   "source": [
    "### Create a container within your network"
   ]
  },
  {
   "cell_type": "code",
   "execution_count": null,
   "metadata": {},
   "outputs": [],
   "source": [
    "%%bash\n"
   ]
  },
  {
   "cell_type": "markdown",
   "metadata": {},
   "source": [
    "### Create a container using the default network\n",
    "\n",
    "The image `tutum/curl` is just the base Ubuntu Linux image with `curl` pre-installed."
   ]
  },
  {
   "cell_type": "code",
   "execution_count": null,
   "metadata": {},
   "outputs": [],
   "source": [
    "%%bash\n"
   ]
  },
  {
   "cell_type": "markdown",
   "metadata": {},
   "source": [
    "### Create another container within your network"
   ]
  },
  {
   "cell_type": "code",
   "execution_count": null,
   "metadata": {},
   "outputs": [],
   "source": [
    "%%bash\n"
   ]
  },
  {
   "cell_type": "markdown",
   "metadata": {},
   "source": [
    "### Disconnect your container from your network"
   ]
  },
  {
   "cell_type": "code",
   "execution_count": null,
   "metadata": {},
   "outputs": [],
   "source": [
    "%%bash\n"
   ]
  },
  {
   "cell_type": "markdown",
   "metadata": {},
   "source": [
    "### Connect your container back to your network"
   ]
  },
  {
   "cell_type": "code",
   "execution_count": null,
   "metadata": {},
   "outputs": [],
   "source": [
    "%%bash\n"
   ]
  },
  {
   "cell_type": "markdown",
   "metadata": {},
   "source": [
    "# Networked applications\n",
    "\n",
    "When you deploy your application, you make sure that no unknown service can communicate with it.\n",
    "\n",
    "For example, you have\n",
    "- a UI for frontend\n",
    "- an API server as backend\n",
    "- a worker as helper to backend\n",
    "- a database\n",
    "\n",
    "Now you would not want anyone to access your worker and database directly. In some cases, you would not even want your API server to be exposed as well. So you put them on separate networks.\n",
    "\n",
    "In Docker, you can create multiple networks and put your containers in one or more networks.\n",
    "\n",
    "## Create network\n",
    "Let's create some networks."
   ]
  },
  {
   "cell_type": "code",
   "execution_count": null,
   "metadata": {},
   "outputs": [],
   "source": [
    "%%bash\n",
    "for net in $(echo frontend backend db); do \\\n",
    "  docker network create $net;              \\\n",
    "done"
   ]
  },
  {
   "cell_type": "markdown",
   "metadata": {},
   "source": [
    "The above command will create three different networks for you.\n",
    "\n",
    "## List networks\n",
    "You can check them up."
   ]
  },
  {
   "cell_type": "code",
   "execution_count": null,
   "metadata": {},
   "outputs": [],
   "source": [
    "%%bash\n",
    "docker network ls"
   ]
  },
  {
   "cell_type": "markdown",
   "metadata": {},
   "source": [
    "## How to connect containers to networks\n",
    "\n",
    "You may want to implement the following network:\n",
    "\n",
    "```\n",
    "    Internet\n",
    "        |\n",
    "  [reactjs-app] ---\n",
    "        |         |--- frontend\n",
    "  [nodejs-api]  ---\n",
    "        |         |--- backend\n",
    "     [worker]   ---\n",
    "        |         |--- db\n",
    "    [postgres]  ---\n",
    "```"
   ]
  },
  {
   "cell_type": "markdown",
   "metadata": {},
   "source": [
    "Guess what, you are almost there!\n",
    "\n",
    "### Resources\n",
    "\n",
    "* [Docker Reference - Network Create](https://docs.docker.com/engine/reference/commandline/network_create/)\n",
    "* [Docker Reference - Network Connect](https://docs.docker.com/engine/reference/commandline/network_connect//)\n",
    "* [Docker Reference - Network Disconnect](https://docs.docker.com/engine/reference/commandline/network_disconnect/)"
   ]
  }
 ],
 "metadata": {
  "kernelspec": {
   "display_name": "Python 3",
   "language": "python",
   "name": "python3"
  },
  "language_info": {
   "codemirror_mode": {
    "name": "ipython",
    "version": 3
   },
   "file_extension": ".py",
   "mimetype": "text/x-python",
   "name": "python",
   "nbconvert_exporter": "python",
   "pygments_lexer": "ipython3",
   "version": "3.8.6"
  }
 },
 "nbformat": 4,
 "nbformat_minor": 4
}
