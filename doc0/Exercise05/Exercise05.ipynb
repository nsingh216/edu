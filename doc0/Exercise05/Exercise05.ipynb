{
 "cells": [
  {
   "cell_type": "markdown",
   "metadata": {},
   "source": [
    "# Working inside a container\n",
    "Container images provide you with minimal stuff, but you can always install new tools to work with.\n",
    "\n",
    "Let's see if we can spin up a container and `curl https://google.com`.\n",
    "\n",
    "## Getting inside a container\n",
    "\n",
    "<h4><span style=\"color: red; font-weight: bold\">TODO:</span> Open a new terminal window using File > New > Terminal from the Jupyter menu bar.</h4> \n",
    "\n",
    "Run the following command in your terminal:\n",
    "\n",
    "```\n",
    "docker run --interactive --tty ubuntu:latest\n",
    "```"
   ]
  },
  {
   "cell_type": "markdown",
   "metadata": {},
   "source": [
    "Here's some explanation:\n",
    "\n",
    "- `--interactive` (or `-i`): attaches container's `stdin`, `stdout`\n",
    "- `--tty` (or `-t`): attaches a pseudo-terminal with the current terminal\n",
    "\n",
    "In short, it allows you interact with the container easily.\n",
    "\n",
    "You might see something like this:\n",
    "\n",
    "```\n",
    "root@<container id>:/#\n",
    "```"
   ]
  },
  {
   "cell_type": "markdown",
   "metadata": {},
   "source": [
    "This represents that you're inside a container now.\n",
    "\n",
    "## Let's try a few commands\n",
    "\n",
    "Run the following in the container:\n",
    "\n",
    "```\n",
    "ls\n",
    "```\n",
    "\n",
    "which should output something like\n",
    "\n",
    "\n",
    "```\n",
    "bin   dev  home  lib32  libx32  mnt  proc  run   srv  tmp  var\n",
    "boot  etc  lib   lib64  media   opt  root  sbin  sys  usr\n",
    "```"
   ]
  },
  {
   "cell_type": "markdown",
   "metadata": {},
   "source": [
    "No problem, right? Let's `curl` now\n",
    "\n",
    "```\n",
    "curl https://google.com\n",
    "```"
   ]
  },
  {
   "cell_type": "markdown",
   "metadata": {},
   "source": [
    "Which should have failed with output:\n",
    "```\n",
    "bash: curl: command not found\n",
    "```\n",
    "What? But why did it fail?\n",
    "\n",
    "Remember, I told you that Docker Images are lightweight. But you can install `curl` using `apt-get`.\n",
    "\n",
    "```\n",
    "apt-get update && apt-get install -y curl\n",
    "curl https://google.com\n",
    "```"
   ]
  },
  {
   "cell_type": "markdown",
   "metadata": {},
   "source": [
    "OK, since its working now, let's `curl` and save the data in a file and exit from the container.\n",
    "\n",
    "```\n",
    "mkdir mydata && cd mydata\n",
    "curl https://google.com > index.html\n",
    "cat index.html\n",
    "exit\n",
    "```"
   ]
  },
  {
   "cell_type": "markdown",
   "metadata": {},
   "source": [
    "Great, we downloaded a file, made sure it's there and exited from the container.\n",
    "\n",
    "Let's confirm that the container is still there."
   ]
  },
  {
   "cell_type": "code",
   "execution_count": null,
   "metadata": {},
   "outputs": [],
   "source": [
    "%%bash\n"
   ]
  },
  {
   "cell_type": "markdown",
   "metadata": {},
   "source": [
    "Yup, its there but `EXITED`.\n",
    "\n",
    "Also note the `COMMAND` column in `docker ps -a` output, `\"/bin/bash\"`. More about it later.\n",
    "\n",
    "## Reuse `EXITED` container\n",
    "If you run `docker run -it ubuntu:latest`, it will spin up another container with fresh data. This container will not have `/mydata/index.html` in it.\n",
    "\n",
    "Kick start the older container so that you get your data back. \n",
    "\n",
    "Use `docker start <container id>` where the `container id` is the value for the exited container."
   ]
  },
  {
   "cell_type": "code",
   "execution_count": null,
   "metadata": {},
   "outputs": [],
   "source": [
    "%%bash\n"
   ]
  },
  {
   "cell_type": "markdown",
   "metadata": {},
   "source": [
    "OK, but it didn't show anything? Because now it's running in the background, doing nothing. Let's check what is inside the container again by running `/bin/bash` with a command `cat mydata/index.html`"
   ]
  },
  {
   "cell_type": "code",
   "execution_count": null,
   "metadata": {},
   "outputs": [],
   "source": [
    "%%bash\n",
    "docker exec $(docker ps -lq) /bin/bash -c 'cat mydata/index.html'"
   ]
  },
  {
   "cell_type": "markdown",
   "metadata": {},
   "source": [
    "You have _executed_ a command manually inside a container and made sure that your file is still there.\n",
    "\n",
    "The file is there. Good.\n",
    "\n",
    "Note, if you do `docker ps` this time, it will show the container as `Up`. That's something new."
   ]
  },
  {
   "cell_type": "code",
   "execution_count": null,
   "metadata": {},
   "outputs": [],
   "source": [
    "%%bash\n"
   ]
  },
  {
   "cell_type": "markdown",
   "metadata": {},
   "source": [
    "This is because the command that you executed by `docker exec` is not the primary command that was used to start the container.\n",
    "\n",
    "You might think that `/bin/bash` is exactly the same as primary command, but it's not the first one.\n",
    "\n",
    "## Copy data from host to a container\n",
    "\n",
    "Say you already have something on your host machine and you want it inside the container?"
   ]
  },
  {
   "cell_type": "markdown",
   "metadata": {},
   "source": [
    "Let's create a file and copy it to the container and see if it's there."
   ]
  },
  {
   "cell_type": "code",
   "execution_count": null,
   "metadata": {},
   "outputs": [],
   "source": [
    "%%bash\n",
    "echo \"hello world\" > myfile.txt"
   ]
  },
  {
   "cell_type": "markdown",
   "metadata": {},
   "source": [
    "Use `docker cp` to copy the file to the container:\n",
    "\n",
    "```\n",
    "docker cp <src path> <container id>:<dst path>\n",
    "```"
   ]
  },
  {
   "cell_type": "code",
   "execution_count": null,
   "metadata": {},
   "outputs": [],
   "source": [
    "%%bash\n"
   ]
  },
  {
   "cell_type": "markdown",
   "metadata": {},
   "source": [
    "Next, use `docker exec` to run `cat` in the container and output the contents of the `mydata/hello-world.txt` file."
   ]
  },
  {
   "cell_type": "code",
   "execution_count": null,
   "metadata": {},
   "outputs": [],
   "source": [
    "%%bash\n"
   ]
  },
  {
   "cell_type": "markdown",
   "metadata": {},
   "source": [
    "## Stop the container\n",
    "You can stop the container now."
   ]
  },
  {
   "cell_type": "code",
   "execution_count": null,
   "metadata": {},
   "outputs": [],
   "source": [
    "%%bash\n"
   ]
  },
  {
   "cell_type": "markdown",
   "metadata": {},
   "source": [
    "It should be back to `EXITED` state. Check it using `docker ps -a`."
   ]
  },
  {
   "cell_type": "code",
   "execution_count": null,
   "metadata": {},
   "outputs": [],
   "source": [
    "%%bash\n"
   ]
  },
  {
   "cell_type": "markdown",
   "metadata": {},
   "source": [
    "## Save the changes\n",
    "Use `docker commit`.\n",
    "\n",
    "What? I have heard about `git commit`, what on Earth is `docker commit`?\n",
    "\n",
    "Every command that you executed on a running container to install new tools or copied files to it, wouldn't it be nice to save them as a new image? Why not?\n",
    "\n",
    "Try `docker commit <container id> <image name>:<image tag>`"
   ]
  },
  {
   "cell_type": "code",
   "execution_count": null,
   "metadata": {},
   "outputs": [],
   "source": [
    "%%bash\n"
   ]
  },
  {
   "cell_type": "markdown",
   "metadata": {},
   "source": [
    "Yes, it's that simple. Now you can run container from this image again and again."
   ]
  },
  {
   "cell_type": "code",
   "execution_count": null,
   "metadata": {},
   "outputs": [],
   "source": [
    "%%bash\n"
   ]
  },
  {
   "cell_type": "markdown",
   "metadata": {},
   "source": [
    "Great job!. Now you know how to hop inside of a container!"
   ]
  }
 ],
 "metadata": {
  "kernelspec": {
   "display_name": "Python 3",
   "language": "python",
   "name": "python3"
  },
  "language_info": {
   "codemirror_mode": {
    "name": "ipython",
    "version": 3
   },
   "file_extension": ".py",
   "mimetype": "text/x-python",
   "name": "python",
   "nbconvert_exporter": "python",
   "pygments_lexer": "ipython3",
   "version": "3.8.6"
  }
 },
 "nbformat": 4,
 "nbformat_minor": 4
}
